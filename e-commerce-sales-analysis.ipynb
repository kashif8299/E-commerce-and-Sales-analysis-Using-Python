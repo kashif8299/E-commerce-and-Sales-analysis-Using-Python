{
 "cells": [
  {
   "cell_type": "markdown",
   "id": "587a3a4e",
   "metadata": {
    "papermill": {
     "duration": 0.020489,
     "end_time": "2025-06-01T08:02:24.942733",
     "exception": false,
     "start_time": "2025-06-01T08:02:24.922244",
     "status": "completed"
    },
    "tags": []
   },
   "source": [
    "##                            🛒 E-Commerce Sales Analysis"
   ]
  },
  {
   "cell_type": "markdown",
   "id": "89cbc4d8",
   "metadata": {
    "papermill": {
     "duration": 0.017914,
     "end_time": "2025-06-01T08:02:24.980039",
     "exception": false,
     "start_time": "2025-06-01T08:02:24.962125",
     "status": "completed"
    },
    "tags": []
   },
   "source": [
    "# 🚀 Importing Key Libraries to Kickstart the Project"
   ]
  },
  {
   "cell_type": "code",
   "execution_count": 1,
   "id": "4ec1c5d6",
   "metadata": {
    "_cell_guid": "b1076dfc-b9ad-4769-8c92-a6c4dae69d19",
    "_uuid": "8f2839f25d086af736a60e9eeb907d3b93b6e0e5",
    "execution": {
     "iopub.execute_input": "2025-06-01T08:02:25.018592Z",
     "iopub.status.busy": "2025-06-01T08:02:25.017650Z",
     "iopub.status.idle": "2025-06-01T08:02:29.057765Z",
     "shell.execute_reply": "2025-06-01T08:02:29.056854Z"
    },
    "papermill": {
     "duration": 4.061607,
     "end_time": "2025-06-01T08:02:29.059614",
     "exception": false,
     "start_time": "2025-06-01T08:02:24.998007",
     "status": "completed"
    },
    "tags": []
   },
   "outputs": [],
   "source": [
    "# Importing NumPy library for numerical computations and working with arrays\n",
    "import numpy as np \n",
    "\n",
    "# Importing Pandas library for data manipulation and analysis (DataFrames, Series)\n",
    "import pandas as pd \n",
    "\n",
    "# Importing Matplotlib's Pyplot module for data visualization (basic plotting)\n",
    "import matplotlib.pyplot as plt\n",
    "\n",
    "# Importing Seaborn library for statistical data visualization (built on top of Matplotlib)\n",
    "import seaborn as sns \n"
   ]
  },
  {
   "cell_type": "markdown",
   "id": "b8cf491f",
   "metadata": {
    "papermill": {
     "duration": 0.017917,
     "end_time": "2025-06-01T08:02:29.096782",
     "exception": false,
     "start_time": "2025-06-01T08:02:29.078865",
     "status": "completed"
    },
    "tags": []
   },
   "source": [
    "**Import Dataframe for work**\n"
   ]
  },
  {
   "cell_type": "code",
   "execution_count": 2,
   "id": "85f372d4",
   "metadata": {
    "execution": {
     "iopub.execute_input": "2025-06-01T08:02:29.134759Z",
     "iopub.status.busy": "2025-06-01T08:02:29.133716Z",
     "iopub.status.idle": "2025-06-01T08:02:31.419278Z",
     "shell.execute_reply": "2025-06-01T08:02:31.418183Z"
    },
    "papermill": {
     "duration": 2.306346,
     "end_time": "2025-06-01T08:02:31.421066",
     "exception": false,
     "start_time": "2025-06-01T08:02:29.114720",
     "status": "completed"
    },
    "tags": []
   },
   "outputs": [],
   "source": [
    "# Reading the eCommerce sales dataset CSV file into a Pandas DataFrame\n",
    "df = pd.read_csv('/kaggle/input/ecommerce-sales-dataset/sales_dataset.csv', low_memory=False)\n",
    "# low_memory tells Pandas to process the file in chunks and analyze the data types more thoroughly.\n",
    "# index_col use column as index\n"
   ]
  },
  {
   "cell_type": "code",
   "execution_count": 3,
   "id": "1fa5d1b5",
   "metadata": {
    "execution": {
     "iopub.execute_input": "2025-06-01T08:02:31.528801Z",
     "iopub.status.busy": "2025-06-01T08:02:31.527886Z",
     "iopub.status.idle": "2025-06-01T08:02:31.645137Z",
     "shell.execute_reply": "2025-06-01T08:02:31.644197Z"
    },
    "papermill": {
     "duration": 0.140951,
     "end_time": "2025-06-01T08:02:31.646692",
     "exception": false,
     "start_time": "2025-06-01T08:02:31.505741",
     "status": "completed"
    },
    "tags": []
   },
   "outputs": [
    {
     "data": {
      "text/html": [
       "<div>\n",
       "<style scoped>\n",
       "    .dataframe tbody tr th:only-of-type {\n",
       "        vertical-align: middle;\n",
       "    }\n",
       "\n",
       "    .dataframe tbody tr th {\n",
       "        vertical-align: top;\n",
       "    }\n",
       "\n",
       "    .dataframe thead th {\n",
       "        text-align: right;\n",
       "    }\n",
       "</style>\n",
       "<table border=\"1\" class=\"dataframe\">\n",
       "  <thead>\n",
       "    <tr style=\"text-align: right;\">\n",
       "      <th></th>\n",
       "      <th>Order ID</th>\n",
       "      <th>Date</th>\n",
       "      <th>Status</th>\n",
       "      <th>Fulfilment</th>\n",
       "      <th>Sales Channel</th>\n",
       "      <th>ship-service-level</th>\n",
       "      <th>Style</th>\n",
       "      <th>SKU</th>\n",
       "      <th>Category</th>\n",
       "      <th>Size</th>\n",
       "      <th>...</th>\n",
       "      <th>currency</th>\n",
       "      <th>Amount</th>\n",
       "      <th>ship-city</th>\n",
       "      <th>ship-state</th>\n",
       "      <th>ship-postal-code</th>\n",
       "      <th>ship-country</th>\n",
       "      <th>promotion-ids</th>\n",
       "      <th>B2B</th>\n",
       "      <th>fulfilled-by</th>\n",
       "      <th>Unnamed: 22</th>\n",
       "    </tr>\n",
       "  </thead>\n",
       "  <tbody>\n",
       "    <tr>\n",
       "      <th>0</th>\n",
       "      <td>405-8078784-5731545</td>\n",
       "      <td>04-30-22</td>\n",
       "      <td>Cancelled</td>\n",
       "      <td>Merchant</td>\n",
       "      <td>Amazon.in</td>\n",
       "      <td>Standard</td>\n",
       "      <td>SET389</td>\n",
       "      <td>SET389-KR-NP-S</td>\n",
       "      <td>Set</td>\n",
       "      <td>S</td>\n",
       "      <td>...</td>\n",
       "      <td>INR</td>\n",
       "      <td>647.62</td>\n",
       "      <td>MUMBAI</td>\n",
       "      <td>MAHARASHTRA</td>\n",
       "      <td>400081.0</td>\n",
       "      <td>IN</td>\n",
       "      <td>NaN</td>\n",
       "      <td>False</td>\n",
       "      <td>Easy Ship</td>\n",
       "      <td>NaN</td>\n",
       "    </tr>\n",
       "    <tr>\n",
       "      <th>1</th>\n",
       "      <td>171-9198151-1101146</td>\n",
       "      <td>04-30-22</td>\n",
       "      <td>Shipped - Delivered to Buyer</td>\n",
       "      <td>Merchant</td>\n",
       "      <td>Amazon.in</td>\n",
       "      <td>Standard</td>\n",
       "      <td>JNE3781</td>\n",
       "      <td>JNE3781-KR-XXXL</td>\n",
       "      <td>kurta</td>\n",
       "      <td>3XL</td>\n",
       "      <td>...</td>\n",
       "      <td>INR</td>\n",
       "      <td>406.00</td>\n",
       "      <td>BENGALURU</td>\n",
       "      <td>KARNATAKA</td>\n",
       "      <td>560085.0</td>\n",
       "      <td>IN</td>\n",
       "      <td>Amazon PLCC Free-Financing Universal Merchant ...</td>\n",
       "      <td>False</td>\n",
       "      <td>Easy Ship</td>\n",
       "      <td>NaN</td>\n",
       "    </tr>\n",
       "    <tr>\n",
       "      <th>2</th>\n",
       "      <td>404-0687676-7273146</td>\n",
       "      <td>04-30-22</td>\n",
       "      <td>Shipped</td>\n",
       "      <td>Amazon</td>\n",
       "      <td>Amazon.in</td>\n",
       "      <td>Expedited</td>\n",
       "      <td>JNE3371</td>\n",
       "      <td>JNE3371-KR-XL</td>\n",
       "      <td>kurta</td>\n",
       "      <td>XL</td>\n",
       "      <td>...</td>\n",
       "      <td>INR</td>\n",
       "      <td>329.00</td>\n",
       "      <td>NAVI MUMBAI</td>\n",
       "      <td>MAHARASHTRA</td>\n",
       "      <td>410210.0</td>\n",
       "      <td>IN</td>\n",
       "      <td>IN Core Free Shipping 2015/04/08 23-48-5-108</td>\n",
       "      <td>True</td>\n",
       "      <td>NaN</td>\n",
       "      <td>NaN</td>\n",
       "    </tr>\n",
       "    <tr>\n",
       "      <th>3</th>\n",
       "      <td>403-9615377-8133951</td>\n",
       "      <td>04-30-22</td>\n",
       "      <td>Cancelled</td>\n",
       "      <td>Merchant</td>\n",
       "      <td>Amazon.in</td>\n",
       "      <td>Standard</td>\n",
       "      <td>J0341</td>\n",
       "      <td>J0341-DR-L</td>\n",
       "      <td>Western Dress</td>\n",
       "      <td>L</td>\n",
       "      <td>...</td>\n",
       "      <td>INR</td>\n",
       "      <td>753.33</td>\n",
       "      <td>PUDUCHERRY</td>\n",
       "      <td>PUDUCHERRY</td>\n",
       "      <td>605008.0</td>\n",
       "      <td>IN</td>\n",
       "      <td>NaN</td>\n",
       "      <td>False</td>\n",
       "      <td>Easy Ship</td>\n",
       "      <td>NaN</td>\n",
       "    </tr>\n",
       "    <tr>\n",
       "      <th>4</th>\n",
       "      <td>407-1069790-7240320</td>\n",
       "      <td>04-30-22</td>\n",
       "      <td>Shipped</td>\n",
       "      <td>Amazon</td>\n",
       "      <td>Amazon.in</td>\n",
       "      <td>Expedited</td>\n",
       "      <td>JNE3671</td>\n",
       "      <td>JNE3671-TU-XXXL</td>\n",
       "      <td>Top</td>\n",
       "      <td>3XL</td>\n",
       "      <td>...</td>\n",
       "      <td>INR</td>\n",
       "      <td>574.00</td>\n",
       "      <td>CHENNAI</td>\n",
       "      <td>TAMIL NADU</td>\n",
       "      <td>600073.0</td>\n",
       "      <td>IN</td>\n",
       "      <td>NaN</td>\n",
       "      <td>False</td>\n",
       "      <td>NaN</td>\n",
       "      <td>NaN</td>\n",
       "    </tr>\n",
       "    <tr>\n",
       "      <th>...</th>\n",
       "      <td>...</td>\n",
       "      <td>...</td>\n",
       "      <td>...</td>\n",
       "      <td>...</td>\n",
       "      <td>...</td>\n",
       "      <td>...</td>\n",
       "      <td>...</td>\n",
       "      <td>...</td>\n",
       "      <td>...</td>\n",
       "      <td>...</td>\n",
       "      <td>...</td>\n",
       "      <td>...</td>\n",
       "      <td>...</td>\n",
       "      <td>...</td>\n",
       "      <td>...</td>\n",
       "      <td>...</td>\n",
       "      <td>...</td>\n",
       "      <td>...</td>\n",
       "      <td>...</td>\n",
       "      <td>...</td>\n",
       "      <td>...</td>\n",
       "    </tr>\n",
       "    <tr>\n",
       "      <th>128944</th>\n",
       "      <td>406-6001380-7673107</td>\n",
       "      <td>05-31-22</td>\n",
       "      <td>Shipped</td>\n",
       "      <td>Amazon</td>\n",
       "      <td>Amazon.in</td>\n",
       "      <td>Expedited</td>\n",
       "      <td>JNE3697</td>\n",
       "      <td>JNE3697-KR-XL</td>\n",
       "      <td>kurta</td>\n",
       "      <td>XL</td>\n",
       "      <td>...</td>\n",
       "      <td>INR</td>\n",
       "      <td>517.00</td>\n",
       "      <td>HYDERABAD</td>\n",
       "      <td>TELANGANA</td>\n",
       "      <td>500013.0</td>\n",
       "      <td>IN</td>\n",
       "      <td>NaN</td>\n",
       "      <td>False</td>\n",
       "      <td>NaN</td>\n",
       "      <td>False</td>\n",
       "    </tr>\n",
       "    <tr>\n",
       "      <th>128945</th>\n",
       "      <td>402-9551604-7544318</td>\n",
       "      <td>05-31-22</td>\n",
       "      <td>Cancelled</td>\n",
       "      <td>Amazon</td>\n",
       "      <td>Amazon.in</td>\n",
       "      <td>Expedited</td>\n",
       "      <td>SET401</td>\n",
       "      <td>SET401-KR-NP-M</td>\n",
       "      <td>Set</td>\n",
       "      <td>M</td>\n",
       "      <td>...</td>\n",
       "      <td>INR</td>\n",
       "      <td>999.00</td>\n",
       "      <td>GURUGRAM</td>\n",
       "      <td>HARYANA</td>\n",
       "      <td>122004.0</td>\n",
       "      <td>IN</td>\n",
       "      <td>IN Core Free Shipping 2015/04/08 23-48-5-108</td>\n",
       "      <td>False</td>\n",
       "      <td>NaN</td>\n",
       "      <td>False</td>\n",
       "    </tr>\n",
       "    <tr>\n",
       "      <th>128946</th>\n",
       "      <td>407-9547469-3152358</td>\n",
       "      <td>05-31-22</td>\n",
       "      <td>Shipped</td>\n",
       "      <td>Amazon</td>\n",
       "      <td>Amazon.in</td>\n",
       "      <td>Expedited</td>\n",
       "      <td>J0157</td>\n",
       "      <td>J0157-DR-XXL</td>\n",
       "      <td>Western Dress</td>\n",
       "      <td>XXL</td>\n",
       "      <td>...</td>\n",
       "      <td>INR</td>\n",
       "      <td>690.00</td>\n",
       "      <td>HYDERABAD</td>\n",
       "      <td>TELANGANA</td>\n",
       "      <td>500049.0</td>\n",
       "      <td>IN</td>\n",
       "      <td>NaN</td>\n",
       "      <td>False</td>\n",
       "      <td>NaN</td>\n",
       "      <td>False</td>\n",
       "    </tr>\n",
       "    <tr>\n",
       "      <th>128947</th>\n",
       "      <td>402-6184140-0545956</td>\n",
       "      <td>05-31-22</td>\n",
       "      <td>Shipped</td>\n",
       "      <td>Amazon</td>\n",
       "      <td>Amazon.in</td>\n",
       "      <td>Expedited</td>\n",
       "      <td>J0012</td>\n",
       "      <td>J0012-SKD-XS</td>\n",
       "      <td>Set</td>\n",
       "      <td>XS</td>\n",
       "      <td>...</td>\n",
       "      <td>INR</td>\n",
       "      <td>1199.00</td>\n",
       "      <td>Halol</td>\n",
       "      <td>Gujarat</td>\n",
       "      <td>389350.0</td>\n",
       "      <td>IN</td>\n",
       "      <td>IN Core Free Shipping 2015/04/08 23-48-5-108</td>\n",
       "      <td>False</td>\n",
       "      <td>NaN</td>\n",
       "      <td>False</td>\n",
       "    </tr>\n",
       "    <tr>\n",
       "      <th>128948</th>\n",
       "      <td>408-7436540-8728312</td>\n",
       "      <td>05-31-22</td>\n",
       "      <td>Shipped</td>\n",
       "      <td>Amazon</td>\n",
       "      <td>Amazon.in</td>\n",
       "      <td>Expedited</td>\n",
       "      <td>J0003</td>\n",
       "      <td>J0003-SET-S</td>\n",
       "      <td>Set</td>\n",
       "      <td>S</td>\n",
       "      <td>...</td>\n",
       "      <td>INR</td>\n",
       "      <td>696.00</td>\n",
       "      <td>Raipur</td>\n",
       "      <td>CHHATTISGARH</td>\n",
       "      <td>492014.0</td>\n",
       "      <td>IN</td>\n",
       "      <td>IN Core Free Shipping 2015/04/08 23-48-5-108</td>\n",
       "      <td>False</td>\n",
       "      <td>NaN</td>\n",
       "      <td>False</td>\n",
       "    </tr>\n",
       "  </tbody>\n",
       "</table>\n",
       "<p>128949 rows × 23 columns</p>\n",
       "</div>"
      ],
      "text/plain": [
       "                   Order ID      Date                        Status  \\\n",
       "0       405-8078784-5731545  04-30-22                     Cancelled   \n",
       "1       171-9198151-1101146  04-30-22  Shipped - Delivered to Buyer   \n",
       "2       404-0687676-7273146  04-30-22                       Shipped   \n",
       "3       403-9615377-8133951  04-30-22                     Cancelled   \n",
       "4       407-1069790-7240320  04-30-22                       Shipped   \n",
       "...                     ...       ...                           ...   \n",
       "128944  406-6001380-7673107  05-31-22                       Shipped   \n",
       "128945  402-9551604-7544318  05-31-22                     Cancelled   \n",
       "128946  407-9547469-3152358  05-31-22                       Shipped   \n",
       "128947  402-6184140-0545956  05-31-22                       Shipped   \n",
       "128948  408-7436540-8728312  05-31-22                       Shipped   \n",
       "\n",
       "       Fulfilment Sales Channel  ship-service-level    Style              SKU  \\\n",
       "0        Merchant      Amazon.in           Standard   SET389   SET389-KR-NP-S   \n",
       "1        Merchant      Amazon.in           Standard  JNE3781  JNE3781-KR-XXXL   \n",
       "2          Amazon      Amazon.in          Expedited  JNE3371    JNE3371-KR-XL   \n",
       "3        Merchant      Amazon.in           Standard    J0341       J0341-DR-L   \n",
       "4          Amazon      Amazon.in          Expedited  JNE3671  JNE3671-TU-XXXL   \n",
       "...           ...            ...                ...      ...              ...   \n",
       "128944     Amazon      Amazon.in          Expedited  JNE3697    JNE3697-KR-XL   \n",
       "128945     Amazon      Amazon.in          Expedited   SET401   SET401-KR-NP-M   \n",
       "128946     Amazon      Amazon.in          Expedited    J0157     J0157-DR-XXL   \n",
       "128947     Amazon      Amazon.in          Expedited    J0012     J0012-SKD-XS   \n",
       "128948     Amazon      Amazon.in          Expedited    J0003      J0003-SET-S   \n",
       "\n",
       "             Category Size  ... currency   Amount    ship-city    ship-state  \\\n",
       "0                 Set    S  ...      INR   647.62       MUMBAI   MAHARASHTRA   \n",
       "1               kurta  3XL  ...      INR   406.00    BENGALURU     KARNATAKA   \n",
       "2               kurta   XL  ...      INR   329.00  NAVI MUMBAI   MAHARASHTRA   \n",
       "3       Western Dress    L  ...      INR   753.33   PUDUCHERRY    PUDUCHERRY   \n",
       "4                 Top  3XL  ...      INR   574.00      CHENNAI    TAMIL NADU   \n",
       "...               ...  ...  ...      ...      ...          ...           ...   \n",
       "128944          kurta   XL  ...      INR   517.00    HYDERABAD     TELANGANA   \n",
       "128945            Set    M  ...      INR   999.00     GURUGRAM       HARYANA   \n",
       "128946  Western Dress  XXL  ...      INR   690.00    HYDERABAD     TELANGANA   \n",
       "128947            Set   XS  ...      INR  1199.00        Halol       Gujarat   \n",
       "128948            Set    S  ...      INR   696.00       Raipur  CHHATTISGARH   \n",
       "\n",
       "        ship-postal-code ship-country  \\\n",
       "0               400081.0           IN   \n",
       "1               560085.0           IN   \n",
       "2               410210.0           IN   \n",
       "3               605008.0           IN   \n",
       "4               600073.0           IN   \n",
       "...                  ...          ...   \n",
       "128944          500013.0           IN   \n",
       "128945          122004.0           IN   \n",
       "128946          500049.0           IN   \n",
       "128947          389350.0           IN   \n",
       "128948          492014.0           IN   \n",
       "\n",
       "                                            promotion-ids    B2B fulfilled-by  \\\n",
       "0                                                     NaN  False    Easy Ship   \n",
       "1       Amazon PLCC Free-Financing Universal Merchant ...  False    Easy Ship   \n",
       "2            IN Core Free Shipping 2015/04/08 23-48-5-108   True          NaN   \n",
       "3                                                     NaN  False    Easy Ship   \n",
       "4                                                     NaN  False          NaN   \n",
       "...                                                   ...    ...          ...   \n",
       "128944                                                NaN  False          NaN   \n",
       "128945       IN Core Free Shipping 2015/04/08 23-48-5-108  False          NaN   \n",
       "128946                                                NaN  False          NaN   \n",
       "128947       IN Core Free Shipping 2015/04/08 23-48-5-108  False          NaN   \n",
       "128948       IN Core Free Shipping 2015/04/08 23-48-5-108  False          NaN   \n",
       "\n",
       "       Unnamed: 22  \n",
       "0              NaN  \n",
       "1              NaN  \n",
       "2              NaN  \n",
       "3              NaN  \n",
       "4              NaN  \n",
       "...            ...  \n",
       "128944       False  \n",
       "128945       False  \n",
       "128946       False  \n",
       "128947       False  \n",
       "128948       False  \n",
       "\n",
       "[128949 rows x 23 columns]"
      ]
     },
     "execution_count": 3,
     "metadata": {},
     "output_type": "execute_result"
    }
   ],
   "source": [
    "df\n"
   ]
  },
  {
   "cell_type": "code",
   "execution_count": 4,
   "id": "31598c7b",
   "metadata": {
    "execution": {
     "iopub.execute_input": "2025-06-01T08:02:31.685747Z",
     "iopub.status.busy": "2025-06-01T08:02:31.685445Z",
     "iopub.status.idle": "2025-06-01T08:02:31.704412Z",
     "shell.execute_reply": "2025-06-01T08:02:31.703528Z"
    },
    "papermill": {
     "duration": 0.040267,
     "end_time": "2025-06-01T08:02:31.705804",
     "exception": false,
     "start_time": "2025-06-01T08:02:31.665537",
     "status": "completed"
    },
    "tags": []
   },
   "outputs": [
    {
     "data": {
      "text/html": [
       "<div>\n",
       "<style scoped>\n",
       "    .dataframe tbody tr th:only-of-type {\n",
       "        vertical-align: middle;\n",
       "    }\n",
       "\n",
       "    .dataframe tbody tr th {\n",
       "        vertical-align: top;\n",
       "    }\n",
       "\n",
       "    .dataframe thead th {\n",
       "        text-align: right;\n",
       "    }\n",
       "</style>\n",
       "<table border=\"1\" class=\"dataframe\">\n",
       "  <thead>\n",
       "    <tr style=\"text-align: right;\">\n",
       "      <th></th>\n",
       "      <th>Order ID</th>\n",
       "      <th>Date</th>\n",
       "      <th>Status</th>\n",
       "      <th>Fulfilment</th>\n",
       "      <th>Sales Channel</th>\n",
       "      <th>ship-service-level</th>\n",
       "      <th>Style</th>\n",
       "      <th>SKU</th>\n",
       "      <th>Category</th>\n",
       "      <th>Size</th>\n",
       "      <th>...</th>\n",
       "      <th>currency</th>\n",
       "      <th>Amount</th>\n",
       "      <th>ship-city</th>\n",
       "      <th>ship-state</th>\n",
       "      <th>ship-postal-code</th>\n",
       "      <th>ship-country</th>\n",
       "      <th>promotion-ids</th>\n",
       "      <th>B2B</th>\n",
       "      <th>fulfilled-by</th>\n",
       "      <th>Unnamed: 22</th>\n",
       "    </tr>\n",
       "  </thead>\n",
       "  <tbody>\n",
       "    <tr>\n",
       "      <th>0</th>\n",
       "      <td>405-8078784-5731545</td>\n",
       "      <td>04-30-22</td>\n",
       "      <td>Cancelled</td>\n",
       "      <td>Merchant</td>\n",
       "      <td>Amazon.in</td>\n",
       "      <td>Standard</td>\n",
       "      <td>SET389</td>\n",
       "      <td>SET389-KR-NP-S</td>\n",
       "      <td>Set</td>\n",
       "      <td>S</td>\n",
       "      <td>...</td>\n",
       "      <td>INR</td>\n",
       "      <td>647.62</td>\n",
       "      <td>MUMBAI</td>\n",
       "      <td>MAHARASHTRA</td>\n",
       "      <td>400081.0</td>\n",
       "      <td>IN</td>\n",
       "      <td>NaN</td>\n",
       "      <td>False</td>\n",
       "      <td>Easy Ship</td>\n",
       "      <td>NaN</td>\n",
       "    </tr>\n",
       "    <tr>\n",
       "      <th>1</th>\n",
       "      <td>171-9198151-1101146</td>\n",
       "      <td>04-30-22</td>\n",
       "      <td>Shipped - Delivered to Buyer</td>\n",
       "      <td>Merchant</td>\n",
       "      <td>Amazon.in</td>\n",
       "      <td>Standard</td>\n",
       "      <td>JNE3781</td>\n",
       "      <td>JNE3781-KR-XXXL</td>\n",
       "      <td>kurta</td>\n",
       "      <td>3XL</td>\n",
       "      <td>...</td>\n",
       "      <td>INR</td>\n",
       "      <td>406.00</td>\n",
       "      <td>BENGALURU</td>\n",
       "      <td>KARNATAKA</td>\n",
       "      <td>560085.0</td>\n",
       "      <td>IN</td>\n",
       "      <td>Amazon PLCC Free-Financing Universal Merchant ...</td>\n",
       "      <td>False</td>\n",
       "      <td>Easy Ship</td>\n",
       "      <td>NaN</td>\n",
       "    </tr>\n",
       "    <tr>\n",
       "      <th>2</th>\n",
       "      <td>404-0687676-7273146</td>\n",
       "      <td>04-30-22</td>\n",
       "      <td>Shipped</td>\n",
       "      <td>Amazon</td>\n",
       "      <td>Amazon.in</td>\n",
       "      <td>Expedited</td>\n",
       "      <td>JNE3371</td>\n",
       "      <td>JNE3371-KR-XL</td>\n",
       "      <td>kurta</td>\n",
       "      <td>XL</td>\n",
       "      <td>...</td>\n",
       "      <td>INR</td>\n",
       "      <td>329.00</td>\n",
       "      <td>NAVI MUMBAI</td>\n",
       "      <td>MAHARASHTRA</td>\n",
       "      <td>410210.0</td>\n",
       "      <td>IN</td>\n",
       "      <td>IN Core Free Shipping 2015/04/08 23-48-5-108</td>\n",
       "      <td>True</td>\n",
       "      <td>NaN</td>\n",
       "      <td>NaN</td>\n",
       "    </tr>\n",
       "    <tr>\n",
       "      <th>3</th>\n",
       "      <td>403-9615377-8133951</td>\n",
       "      <td>04-30-22</td>\n",
       "      <td>Cancelled</td>\n",
       "      <td>Merchant</td>\n",
       "      <td>Amazon.in</td>\n",
       "      <td>Standard</td>\n",
       "      <td>J0341</td>\n",
       "      <td>J0341-DR-L</td>\n",
       "      <td>Western Dress</td>\n",
       "      <td>L</td>\n",
       "      <td>...</td>\n",
       "      <td>INR</td>\n",
       "      <td>753.33</td>\n",
       "      <td>PUDUCHERRY</td>\n",
       "      <td>PUDUCHERRY</td>\n",
       "      <td>605008.0</td>\n",
       "      <td>IN</td>\n",
       "      <td>NaN</td>\n",
       "      <td>False</td>\n",
       "      <td>Easy Ship</td>\n",
       "      <td>NaN</td>\n",
       "    </tr>\n",
       "    <tr>\n",
       "      <th>4</th>\n",
       "      <td>407-1069790-7240320</td>\n",
       "      <td>04-30-22</td>\n",
       "      <td>Shipped</td>\n",
       "      <td>Amazon</td>\n",
       "      <td>Amazon.in</td>\n",
       "      <td>Expedited</td>\n",
       "      <td>JNE3671</td>\n",
       "      <td>JNE3671-TU-XXXL</td>\n",
       "      <td>Top</td>\n",
       "      <td>3XL</td>\n",
       "      <td>...</td>\n",
       "      <td>INR</td>\n",
       "      <td>574.00</td>\n",
       "      <td>CHENNAI</td>\n",
       "      <td>TAMIL NADU</td>\n",
       "      <td>600073.0</td>\n",
       "      <td>IN</td>\n",
       "      <td>NaN</td>\n",
       "      <td>False</td>\n",
       "      <td>NaN</td>\n",
       "      <td>NaN</td>\n",
       "    </tr>\n",
       "  </tbody>\n",
       "</table>\n",
       "<p>5 rows × 23 columns</p>\n",
       "</div>"
      ],
      "text/plain": [
       "              Order ID      Date                        Status Fulfilment  \\\n",
       "0  405-8078784-5731545  04-30-22                     Cancelled   Merchant   \n",
       "1  171-9198151-1101146  04-30-22  Shipped - Delivered to Buyer   Merchant   \n",
       "2  404-0687676-7273146  04-30-22                       Shipped     Amazon   \n",
       "3  403-9615377-8133951  04-30-22                     Cancelled   Merchant   \n",
       "4  407-1069790-7240320  04-30-22                       Shipped     Amazon   \n",
       "\n",
       "  Sales Channel  ship-service-level    Style              SKU       Category  \\\n",
       "0      Amazon.in           Standard   SET389   SET389-KR-NP-S            Set   \n",
       "1      Amazon.in           Standard  JNE3781  JNE3781-KR-XXXL          kurta   \n",
       "2      Amazon.in          Expedited  JNE3371    JNE3371-KR-XL          kurta   \n",
       "3      Amazon.in           Standard    J0341       J0341-DR-L  Western Dress   \n",
       "4      Amazon.in          Expedited  JNE3671  JNE3671-TU-XXXL            Top   \n",
       "\n",
       "  Size  ... currency  Amount    ship-city   ship-state  ship-postal-code  \\\n",
       "0    S  ...      INR  647.62       MUMBAI  MAHARASHTRA          400081.0   \n",
       "1  3XL  ...      INR  406.00    BENGALURU    KARNATAKA          560085.0   \n",
       "2   XL  ...      INR  329.00  NAVI MUMBAI  MAHARASHTRA          410210.0   \n",
       "3    L  ...      INR  753.33   PUDUCHERRY   PUDUCHERRY          605008.0   \n",
       "4  3XL  ...      INR  574.00      CHENNAI   TAMIL NADU          600073.0   \n",
       "\n",
       "  ship-country                                      promotion-ids    B2B  \\\n",
       "0           IN                                                NaN  False   \n",
       "1           IN  Amazon PLCC Free-Financing Universal Merchant ...  False   \n",
       "2           IN       IN Core Free Shipping 2015/04/08 23-48-5-108   True   \n",
       "3           IN                                                NaN  False   \n",
       "4           IN                                                NaN  False   \n",
       "\n",
       "  fulfilled-by Unnamed: 22  \n",
       "0    Easy Ship         NaN  \n",
       "1    Easy Ship         NaN  \n",
       "2          NaN         NaN  \n",
       "3    Easy Ship         NaN  \n",
       "4          NaN         NaN  \n",
       "\n",
       "[5 rows x 23 columns]"
      ]
     },
     "execution_count": 4,
     "metadata": {},
     "output_type": "execute_result"
    }
   ],
   "source": [
    "# Displaying the first 5 rows of the DataFrame to get a quick overview of the dataset\n",
    "df.head()"
   ]
  },
  {
   "cell_type": "code",
   "execution_count": 5,
   "id": "f015e3b8",
   "metadata": {
    "execution": {
     "iopub.execute_input": "2025-06-01T08:02:31.747613Z",
     "iopub.status.busy": "2025-06-01T08:02:31.746887Z",
     "iopub.status.idle": "2025-06-01T08:02:31.765327Z",
     "shell.execute_reply": "2025-06-01T08:02:31.764425Z"
    },
    "papermill": {
     "duration": 0.04041,
     "end_time": "2025-06-01T08:02:31.766837",
     "exception": false,
     "start_time": "2025-06-01T08:02:31.726427",
     "status": "completed"
    },
    "tags": []
   },
   "outputs": [
    {
     "data": {
      "text/html": [
       "<div>\n",
       "<style scoped>\n",
       "    .dataframe tbody tr th:only-of-type {\n",
       "        vertical-align: middle;\n",
       "    }\n",
       "\n",
       "    .dataframe tbody tr th {\n",
       "        vertical-align: top;\n",
       "    }\n",
       "\n",
       "    .dataframe thead th {\n",
       "        text-align: right;\n",
       "    }\n",
       "</style>\n",
       "<table border=\"1\" class=\"dataframe\">\n",
       "  <thead>\n",
       "    <tr style=\"text-align: right;\">\n",
       "      <th></th>\n",
       "      <th>Order ID</th>\n",
       "      <th>Date</th>\n",
       "      <th>Status</th>\n",
       "      <th>Fulfilment</th>\n",
       "      <th>Sales Channel</th>\n",
       "      <th>ship-service-level</th>\n",
       "      <th>Style</th>\n",
       "      <th>SKU</th>\n",
       "      <th>Category</th>\n",
       "      <th>Size</th>\n",
       "      <th>...</th>\n",
       "      <th>currency</th>\n",
       "      <th>Amount</th>\n",
       "      <th>ship-city</th>\n",
       "      <th>ship-state</th>\n",
       "      <th>ship-postal-code</th>\n",
       "      <th>ship-country</th>\n",
       "      <th>promotion-ids</th>\n",
       "      <th>B2B</th>\n",
       "      <th>fulfilled-by</th>\n",
       "      <th>Unnamed: 22</th>\n",
       "    </tr>\n",
       "  </thead>\n",
       "  <tbody>\n",
       "    <tr>\n",
       "      <th>128944</th>\n",
       "      <td>406-6001380-7673107</td>\n",
       "      <td>05-31-22</td>\n",
       "      <td>Shipped</td>\n",
       "      <td>Amazon</td>\n",
       "      <td>Amazon.in</td>\n",
       "      <td>Expedited</td>\n",
       "      <td>JNE3697</td>\n",
       "      <td>JNE3697-KR-XL</td>\n",
       "      <td>kurta</td>\n",
       "      <td>XL</td>\n",
       "      <td>...</td>\n",
       "      <td>INR</td>\n",
       "      <td>517.0</td>\n",
       "      <td>HYDERABAD</td>\n",
       "      <td>TELANGANA</td>\n",
       "      <td>500013.0</td>\n",
       "      <td>IN</td>\n",
       "      <td>NaN</td>\n",
       "      <td>False</td>\n",
       "      <td>NaN</td>\n",
       "      <td>False</td>\n",
       "    </tr>\n",
       "    <tr>\n",
       "      <th>128945</th>\n",
       "      <td>402-9551604-7544318</td>\n",
       "      <td>05-31-22</td>\n",
       "      <td>Cancelled</td>\n",
       "      <td>Amazon</td>\n",
       "      <td>Amazon.in</td>\n",
       "      <td>Expedited</td>\n",
       "      <td>SET401</td>\n",
       "      <td>SET401-KR-NP-M</td>\n",
       "      <td>Set</td>\n",
       "      <td>M</td>\n",
       "      <td>...</td>\n",
       "      <td>INR</td>\n",
       "      <td>999.0</td>\n",
       "      <td>GURUGRAM</td>\n",
       "      <td>HARYANA</td>\n",
       "      <td>122004.0</td>\n",
       "      <td>IN</td>\n",
       "      <td>IN Core Free Shipping 2015/04/08 23-48-5-108</td>\n",
       "      <td>False</td>\n",
       "      <td>NaN</td>\n",
       "      <td>False</td>\n",
       "    </tr>\n",
       "    <tr>\n",
       "      <th>128946</th>\n",
       "      <td>407-9547469-3152358</td>\n",
       "      <td>05-31-22</td>\n",
       "      <td>Shipped</td>\n",
       "      <td>Amazon</td>\n",
       "      <td>Amazon.in</td>\n",
       "      <td>Expedited</td>\n",
       "      <td>J0157</td>\n",
       "      <td>J0157-DR-XXL</td>\n",
       "      <td>Western Dress</td>\n",
       "      <td>XXL</td>\n",
       "      <td>...</td>\n",
       "      <td>INR</td>\n",
       "      <td>690.0</td>\n",
       "      <td>HYDERABAD</td>\n",
       "      <td>TELANGANA</td>\n",
       "      <td>500049.0</td>\n",
       "      <td>IN</td>\n",
       "      <td>NaN</td>\n",
       "      <td>False</td>\n",
       "      <td>NaN</td>\n",
       "      <td>False</td>\n",
       "    </tr>\n",
       "    <tr>\n",
       "      <th>128947</th>\n",
       "      <td>402-6184140-0545956</td>\n",
       "      <td>05-31-22</td>\n",
       "      <td>Shipped</td>\n",
       "      <td>Amazon</td>\n",
       "      <td>Amazon.in</td>\n",
       "      <td>Expedited</td>\n",
       "      <td>J0012</td>\n",
       "      <td>J0012-SKD-XS</td>\n",
       "      <td>Set</td>\n",
       "      <td>XS</td>\n",
       "      <td>...</td>\n",
       "      <td>INR</td>\n",
       "      <td>1199.0</td>\n",
       "      <td>Halol</td>\n",
       "      <td>Gujarat</td>\n",
       "      <td>389350.0</td>\n",
       "      <td>IN</td>\n",
       "      <td>IN Core Free Shipping 2015/04/08 23-48-5-108</td>\n",
       "      <td>False</td>\n",
       "      <td>NaN</td>\n",
       "      <td>False</td>\n",
       "    </tr>\n",
       "    <tr>\n",
       "      <th>128948</th>\n",
       "      <td>408-7436540-8728312</td>\n",
       "      <td>05-31-22</td>\n",
       "      <td>Shipped</td>\n",
       "      <td>Amazon</td>\n",
       "      <td>Amazon.in</td>\n",
       "      <td>Expedited</td>\n",
       "      <td>J0003</td>\n",
       "      <td>J0003-SET-S</td>\n",
       "      <td>Set</td>\n",
       "      <td>S</td>\n",
       "      <td>...</td>\n",
       "      <td>INR</td>\n",
       "      <td>696.0</td>\n",
       "      <td>Raipur</td>\n",
       "      <td>CHHATTISGARH</td>\n",
       "      <td>492014.0</td>\n",
       "      <td>IN</td>\n",
       "      <td>IN Core Free Shipping 2015/04/08 23-48-5-108</td>\n",
       "      <td>False</td>\n",
       "      <td>NaN</td>\n",
       "      <td>False</td>\n",
       "    </tr>\n",
       "  </tbody>\n",
       "</table>\n",
       "<p>5 rows × 23 columns</p>\n",
       "</div>"
      ],
      "text/plain": [
       "                   Order ID      Date     Status Fulfilment Sales Channel   \\\n",
       "128944  406-6001380-7673107  05-31-22    Shipped     Amazon      Amazon.in   \n",
       "128945  402-9551604-7544318  05-31-22  Cancelled     Amazon      Amazon.in   \n",
       "128946  407-9547469-3152358  05-31-22    Shipped     Amazon      Amazon.in   \n",
       "128947  402-6184140-0545956  05-31-22    Shipped     Amazon      Amazon.in   \n",
       "128948  408-7436540-8728312  05-31-22    Shipped     Amazon      Amazon.in   \n",
       "\n",
       "       ship-service-level    Style             SKU       Category Size  ...  \\\n",
       "128944          Expedited  JNE3697   JNE3697-KR-XL          kurta   XL  ...   \n",
       "128945          Expedited   SET401  SET401-KR-NP-M            Set    M  ...   \n",
       "128946          Expedited    J0157    J0157-DR-XXL  Western Dress  XXL  ...   \n",
       "128947          Expedited    J0012    J0012-SKD-XS            Set   XS  ...   \n",
       "128948          Expedited    J0003     J0003-SET-S            Set    S  ...   \n",
       "\n",
       "       currency  Amount  ship-city    ship-state  ship-postal-code  \\\n",
       "128944      INR   517.0  HYDERABAD     TELANGANA          500013.0   \n",
       "128945      INR   999.0   GURUGRAM       HARYANA          122004.0   \n",
       "128946      INR   690.0  HYDERABAD     TELANGANA          500049.0   \n",
       "128947      INR  1199.0      Halol       Gujarat          389350.0   \n",
       "128948      INR   696.0     Raipur  CHHATTISGARH          492014.0   \n",
       "\n",
       "       ship-country                                 promotion-ids    B2B  \\\n",
       "128944           IN                                           NaN  False   \n",
       "128945           IN  IN Core Free Shipping 2015/04/08 23-48-5-108  False   \n",
       "128946           IN                                           NaN  False   \n",
       "128947           IN  IN Core Free Shipping 2015/04/08 23-48-5-108  False   \n",
       "128948           IN  IN Core Free Shipping 2015/04/08 23-48-5-108  False   \n",
       "\n",
       "       fulfilled-by Unnamed: 22  \n",
       "128944          NaN       False  \n",
       "128945          NaN       False  \n",
       "128946          NaN       False  \n",
       "128947          NaN       False  \n",
       "128948          NaN       False  \n",
       "\n",
       "[5 rows x 23 columns]"
      ]
     },
     "execution_count": 5,
     "metadata": {},
     "output_type": "execute_result"
    }
   ],
   "source": [
    "# Displaying the last 5 rows of the DataFrame to examine the dataset's ending records\n",
    "df.tail()"
   ]
  },
  {
   "cell_type": "markdown",
   "id": "1cb558eb",
   "metadata": {
    "papermill": {
     "duration": 0.020054,
     "end_time": "2025-06-01T08:02:31.806792",
     "exception": false,
     "start_time": "2025-06-01T08:02:31.786738",
     "status": "completed"
    },
    "tags": []
   },
   "source": [
    "* **Checking null values and Data type**"
   ]
  },
  {
   "cell_type": "code",
   "execution_count": 6,
   "id": "c557bcd0",
   "metadata": {
    "execution": {
     "iopub.execute_input": "2025-06-01T08:02:31.847993Z",
     "iopub.status.busy": "2025-06-01T08:02:31.847667Z",
     "iopub.status.idle": "2025-06-01T08:02:31.989727Z",
     "shell.execute_reply": "2025-06-01T08:02:31.988639Z"
    },
    "papermill": {
     "duration": 0.164749,
     "end_time": "2025-06-01T08:02:31.991475",
     "exception": false,
     "start_time": "2025-06-01T08:02:31.826726",
     "status": "completed"
    },
    "tags": []
   },
   "outputs": [
    {
     "name": "stdout",
     "output_type": "stream",
     "text": [
      "<class 'pandas.core.frame.DataFrame'>\n",
      "RangeIndex: 128949 entries, 0 to 128948\n",
      "Data columns (total 23 columns):\n",
      " #   Column              Non-Null Count   Dtype  \n",
      "---  ------              --------------   -----  \n",
      " 0   Order ID            128949 non-null  object \n",
      " 1   Date                128949 non-null  object \n",
      " 2   Status              128949 non-null  object \n",
      " 3   Fulfilment          128949 non-null  object \n",
      " 4   Sales Channel       128949 non-null  object \n",
      " 5   ship-service-level  128949 non-null  object \n",
      " 6   Style               128949 non-null  object \n",
      " 7   SKU                 128949 non-null  object \n",
      " 8   Category            128949 non-null  object \n",
      " 9   Size                128949 non-null  object \n",
      " 10  ASIN                128949 non-null  object \n",
      " 11  Courier Status      122078 non-null  object \n",
      " 12  Qty                 128949 non-null  int64  \n",
      " 13  currency            121155 non-null  object \n",
      " 14  Amount              121155 non-null  float64\n",
      " 15  ship-city           128916 non-null  object \n",
      " 16  ship-state          128916 non-null  object \n",
      " 17  ship-postal-code    128916 non-null  float64\n",
      " 18  ship-country        128916 non-null  object \n",
      " 19  promotion-ids       79807 non-null   object \n",
      " 20  B2B                 128949 non-null  bool   \n",
      " 21  fulfilled-by        39270 non-null   object \n",
      " 22  Unnamed: 22         79908 non-null   object \n",
      "dtypes: bool(1), float64(2), int64(1), object(19)\n",
      "memory usage: 21.8+ MB\n"
     ]
    }
   ],
   "source": [
    "# Displaying a concise summary of the DataFrame, including column names, non-null counts, and data types\n",
    "df.info()\n"
   ]
  },
  {
   "cell_type": "code",
   "execution_count": 7,
   "id": "97394246",
   "metadata": {
    "execution": {
     "iopub.execute_input": "2025-06-01T08:02:32.035857Z",
     "iopub.status.busy": "2025-06-01T08:02:32.035547Z",
     "iopub.status.idle": "2025-06-01T08:02:32.164735Z",
     "shell.execute_reply": "2025-06-01T08:02:32.163764Z"
    },
    "papermill": {
     "duration": 0.154252,
     "end_time": "2025-06-01T08:02:32.166472",
     "exception": false,
     "start_time": "2025-06-01T08:02:32.012220",
     "status": "completed"
    },
    "tags": []
   },
   "outputs": [
    {
     "data": {
      "text/plain": [
       "Order ID                  0\n",
       "Date                      0\n",
       "Status                    0\n",
       "Fulfilment                0\n",
       "Sales Channel             0\n",
       "ship-service-level        0\n",
       "Style                     0\n",
       "SKU                       0\n",
       "Category                  0\n",
       "Size                      0\n",
       "ASIN                      0\n",
       "Courier Status         6871\n",
       "Qty                       0\n",
       "currency               7794\n",
       "Amount                 7794\n",
       "ship-city                33\n",
       "ship-state               33\n",
       "ship-postal-code         33\n",
       "ship-country             33\n",
       "promotion-ids         49142\n",
       "B2B                       0\n",
       "fulfilled-by          89679\n",
       "Unnamed: 22           49041\n",
       "dtype: int64"
      ]
     },
     "execution_count": 7,
     "metadata": {},
     "output_type": "execute_result"
    }
   ],
   "source": [
    "# Checking for missing (null) values in each column and showing the total count per column\n",
    "df.isnull().sum()"
   ]
  },
  {
   "cell_type": "markdown",
   "id": "5617e538",
   "metadata": {
    "papermill": {
     "duration": 0.02127,
     "end_time": "2025-06-01T08:02:32.208140",
     "exception": false,
     "start_time": "2025-06-01T08:02:32.186870",
     "status": "completed"
    },
    "tags": []
   },
   "source": [
    "\n",
    "# 🔍 Detecting and Handling Null Values"
   ]
  },
  {
   "cell_type": "markdown",
   "id": "32eff842",
   "metadata": {
    "papermill": {
     "duration": 0.020463,
     "end_time": "2025-06-01T08:02:32.249116",
     "exception": false,
     "start_time": "2025-06-01T08:02:32.228653",
     "status": "completed"
    },
    "tags": []
   },
   "source": [
    "**1. Filling Missing Values with INR in coulmn \"currency\"**"
   ]
  },
  {
   "cell_type": "code",
   "execution_count": 8,
   "id": "6828681f",
   "metadata": {
    "execution": {
     "iopub.execute_input": "2025-06-01T08:02:32.290795Z",
     "iopub.status.busy": "2025-06-01T08:02:32.290518Z",
     "iopub.status.idle": "2025-06-01T08:02:32.305119Z",
     "shell.execute_reply": "2025-06-01T08:02:32.304165Z"
    },
    "papermill": {
     "duration": 0.037436,
     "end_time": "2025-06-01T08:02:32.306879",
     "exception": false,
     "start_time": "2025-06-01T08:02:32.269443",
     "status": "completed"
    },
    "tags": []
   },
   "outputs": [],
   "source": [
    "# Filling missing values in the 'currency' column with 'INR' (assumed default currency)\n",
    "df['currency'] = df['currency'].fillna('INR')"
   ]
  },
  {
   "cell_type": "markdown",
   "id": "cc066b77",
   "metadata": {
    "papermill": {
     "duration": 0.02112,
     "end_time": "2025-06-01T08:02:32.349496",
     "exception": false,
     "start_time": "2025-06-01T08:02:32.328376",
     "status": "completed"
    },
    "tags": []
   },
   "source": [
    "**2. Filling missing values by median**"
   ]
  },
  {
   "cell_type": "code",
   "execution_count": 9,
   "id": "00557685",
   "metadata": {
    "execution": {
     "iopub.execute_input": "2025-06-01T08:02:32.394282Z",
     "iopub.status.busy": "2025-06-01T08:02:32.393919Z",
     "iopub.status.idle": "2025-06-01T08:02:32.400777Z",
     "shell.execute_reply": "2025-06-01T08:02:32.399907Z"
    },
    "papermill": {
     "duration": 0.031476,
     "end_time": "2025-06-01T08:02:32.402387",
     "exception": false,
     "start_time": "2025-06-01T08:02:32.370911",
     "status": "completed"
    },
    "tags": []
   },
   "outputs": [
    {
     "data": {
      "text/plain": [
       "605.0"
      ]
     },
     "execution_count": 9,
     "metadata": {},
     "output_type": "execute_result"
    }
   ],
   "source": [
    "df['Amount'].median()"
   ]
  },
  {
   "cell_type": "code",
   "execution_count": 10,
   "id": "907986ca",
   "metadata": {
    "execution": {
     "iopub.execute_input": "2025-06-01T08:02:32.446911Z",
     "iopub.status.busy": "2025-06-01T08:02:32.446526Z",
     "iopub.status.idle": "2025-06-01T08:02:32.462887Z",
     "shell.execute_reply": "2025-06-01T08:02:32.461853Z"
    },
    "papermill": {
     "duration": 0.04133,
     "end_time": "2025-06-01T08:02:32.464601",
     "exception": false,
     "start_time": "2025-06-01T08:02:32.423271",
     "status": "completed"
    },
    "tags": []
   },
   "outputs": [],
   "source": [
    "# Setting the 'Amount' to 0 for all rows where the 'Status' is 'Cancelled'\n",
    "df.loc[df['Status'] == 'Cancelled', 'Amount'] = 0"
   ]
  },
  {
   "cell_type": "code",
   "execution_count": 11,
   "id": "011906bf",
   "metadata": {
    "execution": {
     "iopub.execute_input": "2025-06-01T08:02:32.507231Z",
     "iopub.status.busy": "2025-06-01T08:02:32.506856Z",
     "iopub.status.idle": "2025-06-01T08:02:32.514308Z",
     "shell.execute_reply": "2025-06-01T08:02:32.513443Z"
    },
    "papermill": {
     "duration": 0.030173,
     "end_time": "2025-06-01T08:02:32.515789",
     "exception": false,
     "start_time": "2025-06-01T08:02:32.485616",
     "status": "completed"
    },
    "tags": []
   },
   "outputs": [
    {
     "data": {
      "text/plain": [
       "545.0"
      ]
     },
     "execution_count": 11,
     "metadata": {},
     "output_type": "execute_result"
    }
   ],
   "source": [
    "# The median value is change when I apply cancelled status is 0\n",
    "df['Amount'].median()"
   ]
  },
  {
   "cell_type": "code",
   "execution_count": 12,
   "id": "be4f29a1",
   "metadata": {
    "execution": {
     "iopub.execute_input": "2025-06-01T08:02:32.559549Z",
     "iopub.status.busy": "2025-06-01T08:02:32.559259Z",
     "iopub.status.idle": "2025-06-01T08:02:32.565409Z",
     "shell.execute_reply": "2025-06-01T08:02:32.564633Z"
    },
    "papermill": {
     "duration": 0.029985,
     "end_time": "2025-06-01T08:02:32.566920",
     "exception": false,
     "start_time": "2025-06-01T08:02:32.536935",
     "status": "completed"
    },
    "tags": []
   },
   "outputs": [],
   "source": [
    "# Filling missing values in the 'Amount' column with median value as 545 \n",
    "df['Amount'] = df['Amount'].fillna(545)"
   ]
  },
  {
   "cell_type": "markdown",
   "id": "6584d016",
   "metadata": {
    "papermill": {
     "duration": 0.02043,
     "end_time": "2025-06-01T08:02:32.608870",
     "exception": false,
     "start_time": "2025-06-01T08:02:32.588440",
     "status": "completed"
    },
    "tags": []
   },
   "source": [
    "**Filling missing ship-city with mode**"
   ]
  },
  {
   "cell_type": "code",
   "execution_count": 13,
   "id": "6cf101a8",
   "metadata": {
    "execution": {
     "iopub.execute_input": "2025-06-01T08:02:32.652499Z",
     "iopub.status.busy": "2025-06-01T08:02:32.652204Z",
     "iopub.status.idle": "2025-06-01T08:02:32.678519Z",
     "shell.execute_reply": "2025-06-01T08:02:32.677411Z"
    },
    "papermill": {
     "duration": 0.049448,
     "end_time": "2025-06-01T08:02:32.680334",
     "exception": false,
     "start_time": "2025-06-01T08:02:32.630886",
     "status": "completed"
    },
    "tags": []
   },
   "outputs": [],
   "source": [
    "# Filling missing values in the 'ship-city' column with the most frequent city (mode) in that column\n",
    "df['ship-city'] = df['ship-city'].fillna(df['ship-city'].mode()[0])"
   ]
  },
  {
   "cell_type": "markdown",
   "id": "d13453cc",
   "metadata": {
    "papermill": {
     "duration": 0.020477,
     "end_time": "2025-06-01T08:02:32.721496",
     "exception": false,
     "start_time": "2025-06-01T08:02:32.701019",
     "status": "completed"
    },
    "tags": []
   },
   "source": [
    "**Filling missing ship-state , ship-postal code , ship-country with mode**"
   ]
  },
  {
   "cell_type": "code",
   "execution_count": 14,
   "id": "56581e55",
   "metadata": {
    "execution": {
     "iopub.execute_input": "2025-06-01T08:02:32.766294Z",
     "iopub.status.busy": "2025-06-01T08:02:32.765846Z",
     "iopub.status.idle": "2025-06-01T08:02:32.812167Z",
     "shell.execute_reply": "2025-06-01T08:02:32.811105Z"
    },
    "papermill": {
     "duration": 0.06995,
     "end_time": "2025-06-01T08:02:32.813918",
     "exception": false,
     "start_time": "2025-06-01T08:02:32.743968",
     "status": "completed"
    },
    "tags": []
   },
   "outputs": [],
   "source": [
    "# Filling missing values in 'ship-state' column with the most frequent state (mode)\n",
    "df['ship-state'] = df['ship-state'].fillna(df['ship-state'].mode()[0])\n",
    "\n",
    "# Filling missing values in 'ship-postal-code' column with the most frequent postal code (mode)\n",
    "df['ship-postal-code'] = df['ship-postal-code'].fillna(df['ship-postal-code'].mode()[0])\n",
    "\n",
    "# Filling missing values in 'ship-country' column with the most frequent country (mode)\n",
    "df['ship-country'] = df['ship-country'].fillna(df['ship-country'].mode()[0])\n"
   ]
  },
  {
   "cell_type": "markdown",
   "id": "51b88137",
   "metadata": {
    "papermill": {
     "duration": 0.020678,
     "end_time": "2025-06-01T08:02:32.856667",
     "exception": false,
     "start_time": "2025-06-01T08:02:32.835989",
     "status": "completed"
    },
    "tags": []
   },
   "source": [
    "**Assigning 'Easy Ship' to Merchant Fulfilled Orders**"
   ]
  },
  {
   "cell_type": "code",
   "execution_count": 15,
   "id": "e82c395c",
   "metadata": {
    "execution": {
     "iopub.execute_input": "2025-06-01T08:02:32.899316Z",
     "iopub.status.busy": "2025-06-01T08:02:32.898895Z",
     "iopub.status.idle": "2025-06-01T08:02:32.933434Z",
     "shell.execute_reply": "2025-06-01T08:02:32.932665Z"
    },
    "papermill": {
     "duration": 0.057676,
     "end_time": "2025-06-01T08:02:32.935099",
     "exception": false,
     "start_time": "2025-06-01T08:02:32.877423",
     "status": "completed"
    },
    "tags": []
   },
   "outputs": [],
   "source": [
    "# For rows where 'Fulfilment' is 'Merchant', filling missing values in 'fulfilled-by' with 'Easy Ship'\n",
    "df.loc[df['Fulfilment'] == 'Merchant', 'fulfilled-by'] = df.loc[df['Fulfilment'] == 'Merchant', 'fulfilled-by'].fillna('Easy Ship')"
   ]
  },
  {
   "cell_type": "markdown",
   "id": "61e20f39",
   "metadata": {
    "papermill": {
     "duration": 0.020189,
     "end_time": "2025-06-01T08:02:32.975915",
     "exception": false,
     "start_time": "2025-06-01T08:02:32.955726",
     "status": "completed"
    },
    "tags": []
   },
   "source": [
    "**Assigning 'Amazon Easy Ship' to Amazon Fulfilled Orders**"
   ]
  },
  {
   "cell_type": "code",
   "execution_count": 16,
   "id": "88cab86e",
   "metadata": {
    "execution": {
     "iopub.execute_input": "2025-06-01T08:02:33.018598Z",
     "iopub.status.busy": "2025-06-01T08:02:33.018322Z",
     "iopub.status.idle": "2025-06-01T08:02:33.044612Z",
     "shell.execute_reply": "2025-06-01T08:02:33.043489Z"
    },
    "papermill": {
     "duration": 0.05031,
     "end_time": "2025-06-01T08:02:33.046628",
     "exception": false,
     "start_time": "2025-06-01T08:02:32.996318",
     "status": "completed"
    },
    "tags": []
   },
   "outputs": [],
   "source": [
    "# For rows where 'Fulfilment' is 'Amazon' and 'fulfilled-by' is missing, fill it with 'Amazon Easy Ship'\n",
    "df.loc[(df['Fulfilment'] == 'Amazon') & (df['fulfilled-by'].isna()), 'fulfilled-by'] = 'Amazon Easy Ship'"
   ]
  },
  {
   "cell_type": "markdown",
   "id": "f905e60b",
   "metadata": {
    "papermill": {
     "duration": 0.020613,
     "end_time": "2025-06-01T08:02:33.088483",
     "exception": false,
     "start_time": "2025-06-01T08:02:33.067870",
     "status": "completed"
    },
    "tags": []
   },
   "source": [
    "**Drop unnecessary coulmn**"
   ]
  },
  {
   "cell_type": "code",
   "execution_count": 17,
   "id": "fb06d30a",
   "metadata": {
    "execution": {
     "iopub.execute_input": "2025-06-01T08:02:33.130510Z",
     "iopub.status.busy": "2025-06-01T08:02:33.130197Z",
     "iopub.status.idle": "2025-06-01T08:02:33.153101Z",
     "shell.execute_reply": "2025-06-01T08:02:33.152221Z"
    },
    "papermill": {
     "duration": 0.046124,
     "end_time": "2025-06-01T08:02:33.154809",
     "exception": false,
     "start_time": "2025-06-01T08:02:33.108685",
     "status": "completed"
    },
    "tags": []
   },
   "outputs": [],
   "source": [
    "# Dropping the 'Unnamed: 22' column, which is likely an empty or unnecessary column from the CSV file\n",
    "df.drop('Unnamed: 22', axis=1, inplace=True)"
   ]
  },
  {
   "cell_type": "markdown",
   "id": "77c4e304",
   "metadata": {
    "papermill": {
     "duration": 0.02009,
     "end_time": "2025-06-01T08:02:33.195537",
     "exception": false,
     "start_time": "2025-06-01T08:02:33.175447",
     "status": "completed"
    },
    "tags": []
   },
   "source": [
    "**Filling the Null values from \"Courier Status\" with \"Unknown\" and in \"promotion-ids\" with \"No_Data\"**"
   ]
  },
  {
   "cell_type": "code",
   "execution_count": 18,
   "id": "d91df3d3",
   "metadata": {
    "execution": {
     "iopub.execute_input": "2025-06-01T08:02:33.236920Z",
     "iopub.status.busy": "2025-06-01T08:02:33.236660Z",
     "iopub.status.idle": "2025-06-01T08:02:33.251608Z",
     "shell.execute_reply": "2025-06-01T08:02:33.250839Z"
    },
    "papermill": {
     "duration": 0.037542,
     "end_time": "2025-06-01T08:02:33.253268",
     "exception": false,
     "start_time": "2025-06-01T08:02:33.215726",
     "status": "completed"
    },
    "tags": []
   },
   "outputs": [],
   "source": [
    "# Filling missing values in the 'Courier Status' column with the placeholder 'Unknown'\n",
    "df['Courier Status'] = df['Courier Status'].fillna(\"Unknown\")"
   ]
  },
  {
   "cell_type": "code",
   "execution_count": 19,
   "id": "e7545ee6",
   "metadata": {
    "execution": {
     "iopub.execute_input": "2025-06-01T08:02:33.295265Z",
     "iopub.status.busy": "2025-06-01T08:02:33.294917Z",
     "iopub.status.idle": "2025-06-01T08:02:33.310711Z",
     "shell.execute_reply": "2025-06-01T08:02:33.309893Z"
    },
    "papermill": {
     "duration": 0.038518,
     "end_time": "2025-06-01T08:02:33.312206",
     "exception": false,
     "start_time": "2025-06-01T08:02:33.273688",
     "status": "completed"
    },
    "tags": []
   },
   "outputs": [],
   "source": [
    "df['promotion-ids'] = df['promotion-ids'].fillna(\"No_Data\")"
   ]
  },
  {
   "cell_type": "code",
   "execution_count": 20,
   "id": "7d5f5f1b",
   "metadata": {
    "execution": {
     "iopub.execute_input": "2025-06-01T08:02:33.354465Z",
     "iopub.status.busy": "2025-06-01T08:02:33.354120Z",
     "iopub.status.idle": "2025-06-01T08:02:33.493347Z",
     "shell.execute_reply": "2025-06-01T08:02:33.492123Z"
    },
    "papermill": {
     "duration": 0.162315,
     "end_time": "2025-06-01T08:02:33.495052",
     "exception": false,
     "start_time": "2025-06-01T08:02:33.332737",
     "status": "completed"
    },
    "tags": []
   },
   "outputs": [
    {
     "data": {
      "text/plain": [
       "Order ID              0\n",
       "Date                  0\n",
       "Status                0\n",
       "Fulfilment            0\n",
       "Sales Channel         0\n",
       "ship-service-level    0\n",
       "Style                 0\n",
       "SKU                   0\n",
       "Category              0\n",
       "Size                  0\n",
       "ASIN                  0\n",
       "Courier Status        0\n",
       "Qty                   0\n",
       "currency              0\n",
       "Amount                0\n",
       "ship-city             0\n",
       "ship-state            0\n",
       "ship-postal-code      0\n",
       "ship-country          0\n",
       "promotion-ids         0\n",
       "B2B                   0\n",
       "fulfilled-by          0\n",
       "dtype: int64"
      ]
     },
     "execution_count": 20,
     "metadata": {},
     "output_type": "execute_result"
    }
   ],
   "source": [
    "df.isnull().sum()"
   ]
  },
  {
   "cell_type": "markdown",
   "id": "dc890480",
   "metadata": {
    "papermill": {
     "duration": 0.020153,
     "end_time": "2025-06-01T08:02:33.537078",
     "exception": false,
     "start_time": "2025-06-01T08:02:33.516925",
     "status": "completed"
    },
    "tags": []
   },
   "source": [
    "# 🛠️ Fixing & Formatting: Changing Data Types"
   ]
  },
  {
   "cell_type": "code",
   "execution_count": 21,
   "id": "d2275ad1",
   "metadata": {
    "execution": {
     "iopub.execute_input": "2025-06-01T08:02:33.579377Z",
     "iopub.status.busy": "2025-06-01T08:02:33.579073Z",
     "iopub.status.idle": "2025-06-01T08:02:33.585558Z",
     "shell.execute_reply": "2025-06-01T08:02:33.584735Z"
    },
    "papermill": {
     "duration": 0.029414,
     "end_time": "2025-06-01T08:02:33.587052",
     "exception": false,
     "start_time": "2025-06-01T08:02:33.557638",
     "status": "completed"
    },
    "tags": []
   },
   "outputs": [
    {
     "data": {
      "text/plain": [
       "0    04-30-22\n",
       "1    04-30-22\n",
       "2    04-30-22\n",
       "3    04-30-22\n",
       "4    04-30-22\n",
       "Name: Date, dtype: object"
      ]
     },
     "execution_count": 21,
     "metadata": {},
     "output_type": "execute_result"
    }
   ],
   "source": [
    "# Displaying the first 5 entries of the 'Date' column to inspect date values\n",
    "df['Date'].head()"
   ]
  },
  {
   "cell_type": "code",
   "execution_count": 22,
   "id": "36ddd7c0",
   "metadata": {
    "execution": {
     "iopub.execute_input": "2025-06-01T08:02:33.629530Z",
     "iopub.status.busy": "2025-06-01T08:02:33.629203Z",
     "iopub.status.idle": "2025-06-01T08:02:33.641183Z",
     "shell.execute_reply": "2025-06-01T08:02:33.640287Z"
    },
    "papermill": {
     "duration": 0.035148,
     "end_time": "2025-06-01T08:02:33.642798",
     "exception": false,
     "start_time": "2025-06-01T08:02:33.607650",
     "status": "completed"
    },
    "tags": []
   },
   "outputs": [
    {
     "data": {
      "text/plain": [
       "array(['04-30-22', '04-29-22', '04-28-22', '04-27-22', '04-26-22',\n",
       "       '04-25-22', '04-24-22', '04-23-22', '04-22-22', '04-21-22',\n",
       "       '04-20-22', '04-19-22', '04-18-22', '04-17-22', '04-16-22',\n",
       "       '04-15-22', '04-14-22', '04-13-22', '04-12-2022', '04-11-2022',\n",
       "       '04-10-2022', '04-09-2022', '04-08-2022', '04-07-2022',\n",
       "       '04-06-2022', '04-05-2022', '04-04-2022', '04-03-2022',\n",
       "       '04-02-2022', '04-01-2022', '03-31-22', '05-31-22', '05-30-22',\n",
       "       '05-29-22', '05-28-22', '05-27-22', '05-26-22', '05-25-22',\n",
       "       '05-24-22', '05-23-22', '05-22-22', '05-21-22', '05-20-22',\n",
       "       '05-19-22', '05-18-22', '05-17-22', '05-16-22', '05-15-22',\n",
       "       '05-14-22', '05-13-22', '05-12-2022', '05-11-2022', '05-10-2022',\n",
       "       '05-09-2022', '05-08-2022', '05-07-2022', '05-06-2022',\n",
       "       '05-05-2022', '05-04-2022', '05-03-2022', '05-02-2022',\n",
       "       '05-01-2022', '06-29-22', '06-28-22', '06-27-22', '06-26-22',\n",
       "       '06-25-22', '06-24-22', '06-23-22', '06-22-22', '06-21-22',\n",
       "       '06-20-22', '06-19-22', '06-18-22', '06-17-22', '06-16-22',\n",
       "       '06-15-22', '06-14-22', '06-13-22', '06-12-2022', '06-11-2022',\n",
       "       '06-10-2022', '06-09-2022', '06-08-2022', '06-07-2022',\n",
       "       '06-06-2022', '06-05-2022', '06-04-2022', '06-03-2022',\n",
       "       '06-02-2022', '06-01-2022'], dtype=object)"
      ]
     },
     "execution_count": 22,
     "metadata": {},
     "output_type": "execute_result"
    }
   ],
   "source": [
    "# Displaying all unique values in the 'Date' column to check for duplicates, inconsistencies, or formatting issues\n",
    "df['Date'].unique()"
   ]
  },
  {
   "cell_type": "code",
   "execution_count": 23,
   "id": "b8216ef8",
   "metadata": {
    "execution": {
     "iopub.execute_input": "2025-06-01T08:02:33.687150Z",
     "iopub.status.busy": "2025-06-01T08:02:33.686760Z",
     "iopub.status.idle": "2025-06-01T08:02:33.721860Z",
     "shell.execute_reply": "2025-06-01T08:02:33.720851Z"
    },
    "papermill": {
     "duration": 0.059466,
     "end_time": "2025-06-01T08:02:33.723505",
     "exception": false,
     "start_time": "2025-06-01T08:02:33.664039",
     "status": "completed"
    },
    "tags": []
   },
   "outputs": [
    {
     "name": "stdout",
     "output_type": "stream",
     "text": [
      "Number of unparsed dates: 0\n"
     ]
    },
    {
     "name": "stderr",
     "output_type": "stream",
     "text": [
      "/tmp/ipykernel_13/232322837.py:2: UserWarning: Could not infer format, so each element will be parsed individually, falling back to `dateutil`. To ensure parsing is consistent and as-expected, please specify a format.\n",
      "  df['Date'] = pd.to_datetime(df['Date'], errors='coerce')\n"
     ]
    },
    {
     "data": {
      "text/html": [
       "<div>\n",
       "<style scoped>\n",
       "    .dataframe tbody tr th:only-of-type {\n",
       "        vertical-align: middle;\n",
       "    }\n",
       "\n",
       "    .dataframe tbody tr th {\n",
       "        vertical-align: top;\n",
       "    }\n",
       "\n",
       "    .dataframe thead th {\n",
       "        text-align: right;\n",
       "    }\n",
       "</style>\n",
       "<table border=\"1\" class=\"dataframe\">\n",
       "  <thead>\n",
       "    <tr style=\"text-align: right;\">\n",
       "      <th></th>\n",
       "      <th>Order ID</th>\n",
       "      <th>Date</th>\n",
       "      <th>Status</th>\n",
       "      <th>Fulfilment</th>\n",
       "      <th>Sales Channel</th>\n",
       "      <th>ship-service-level</th>\n",
       "      <th>Style</th>\n",
       "      <th>SKU</th>\n",
       "      <th>Category</th>\n",
       "      <th>Size</th>\n",
       "      <th>...</th>\n",
       "      <th>Qty</th>\n",
       "      <th>currency</th>\n",
       "      <th>Amount</th>\n",
       "      <th>ship-city</th>\n",
       "      <th>ship-state</th>\n",
       "      <th>ship-postal-code</th>\n",
       "      <th>ship-country</th>\n",
       "      <th>promotion-ids</th>\n",
       "      <th>B2B</th>\n",
       "      <th>fulfilled-by</th>\n",
       "    </tr>\n",
       "  </thead>\n",
       "  <tbody>\n",
       "  </tbody>\n",
       "</table>\n",
       "<p>0 rows × 22 columns</p>\n",
       "</div>"
      ],
      "text/plain": [
       "Empty DataFrame\n",
       "Columns: [Order ID, Date, Status, Fulfilment, Sales Channel , ship-service-level, Style, SKU, Category, Size, ASIN, Courier Status, Qty, currency, Amount, ship-city, ship-state, ship-postal-code, ship-country, promotion-ids, B2B, fulfilled-by]\n",
       "Index: []\n",
       "\n",
       "[0 rows x 22 columns]"
      ]
     },
     "execution_count": 23,
     "metadata": {},
     "output_type": "execute_result"
    }
   ],
   "source": [
    "# Convert 'Date' column to datetime, invalid formats will be set as NaT\n",
    "df['Date'] = pd.to_datetime(df['Date'], errors='coerce')\n",
    "\n",
    "# Check how many NaT values were created (i.e., problematic date entries)\n",
    "print(\"Number of unparsed dates:\", df['Date'].isna().sum())\n",
    "\n",
    "# Optionally: see the rows where Date could not be parsed\n",
    "df[df['Date'].isna()]\n",
    "\n"
   ]
  },
  {
   "cell_type": "markdown",
   "id": "d3cd7273",
   "metadata": {
    "papermill": {
     "duration": 0.020908,
     "end_time": "2025-06-01T08:02:33.768411",
     "exception": false,
     "start_time": "2025-06-01T08:02:33.747503",
     "status": "completed"
    },
    "tags": []
   },
   "source": [
    "**Convert Ship Postal Code to String**"
   ]
  },
  {
   "cell_type": "code",
   "execution_count": 24,
   "id": "9fbbf874",
   "metadata": {
    "execution": {
     "iopub.execute_input": "2025-06-01T08:02:33.812220Z",
     "iopub.status.busy": "2025-06-01T08:02:33.811803Z",
     "iopub.status.idle": "2025-06-01T08:02:33.901282Z",
     "shell.execute_reply": "2025-06-01T08:02:33.900303Z"
    },
    "papermill": {
     "duration": 0.113226,
     "end_time": "2025-06-01T08:02:33.902875",
     "exception": false,
     "start_time": "2025-06-01T08:02:33.789649",
     "status": "completed"
    },
    "tags": []
   },
   "outputs": [],
   "source": [
    "# Converting the 'ship-postal-code' column to string type to ensure consistency and prevent numeric issues (like losing leading zeros)\n",
    "df['ship-postal-code'] = df['ship-postal-code'].astype(str)"
   ]
  },
  {
   "cell_type": "markdown",
   "id": "e3a7a8c1",
   "metadata": {
    "papermill": {
     "duration": 0.020697,
     "end_time": "2025-06-01T08:02:33.945045",
     "exception": false,
     "start_time": "2025-06-01T08:02:33.924348",
     "status": "completed"
    },
    "tags": []
   },
   "source": [
    "**Convert numerical columns to smaller dtypes**"
   ]
  },
  {
   "cell_type": "code",
   "execution_count": 25,
   "id": "9c64cef8",
   "metadata": {
    "execution": {
     "iopub.execute_input": "2025-06-01T08:02:33.988483Z",
     "iopub.status.busy": "2025-06-01T08:02:33.988212Z",
     "iopub.status.idle": "2025-06-01T08:02:33.995398Z",
     "shell.execute_reply": "2025-06-01T08:02:33.994386Z"
    },
    "papermill": {
     "duration": 0.031051,
     "end_time": "2025-06-01T08:02:33.997272",
     "exception": false,
     "start_time": "2025-06-01T08:02:33.966221",
     "status": "completed"
    },
    "tags": []
   },
   "outputs": [],
   "source": [
    "# Converting 'Qty' column to int16 to save memory while preserving whole numbers\n",
    "df['Qty'] = df['Qty'].astype('int16')\n",
    "\n",
    "# Converting 'Amount' column to float32 to reduce memory usage while handling decimal values\n",
    "df['Amount'] = df['Amount'].astype('float32')\n"
   ]
  },
  {
   "cell_type": "code",
   "execution_count": 26,
   "id": "ca5a01c9",
   "metadata": {
    "execution": {
     "iopub.execute_input": "2025-06-01T08:02:34.042401Z",
     "iopub.status.busy": "2025-06-01T08:02:34.042060Z",
     "iopub.status.idle": "2025-06-01T08:02:34.049192Z",
     "shell.execute_reply": "2025-06-01T08:02:34.048318Z"
    },
    "papermill": {
     "duration": 0.031642,
     "end_time": "2025-06-01T08:02:34.050764",
     "exception": false,
     "start_time": "2025-06-01T08:02:34.019122",
     "status": "completed"
    },
    "tags": []
   },
   "outputs": [
    {
     "data": {
      "text/plain": [
       "Order ID                      object\n",
       "Date                  datetime64[ns]\n",
       "Status                        object\n",
       "Fulfilment                    object\n",
       "Sales Channel                 object\n",
       "ship-service-level            object\n",
       "Style                         object\n",
       "SKU                           object\n",
       "Category                      object\n",
       "Size                          object\n",
       "ASIN                          object\n",
       "Courier Status                object\n",
       "Qty                            int16\n",
       "currency                      object\n",
       "Amount                       float32\n",
       "ship-city                     object\n",
       "ship-state                    object\n",
       "ship-postal-code              object\n",
       "ship-country                  object\n",
       "promotion-ids                 object\n",
       "B2B                             bool\n",
       "fulfilled-by                  object\n",
       "dtype: object"
      ]
     },
     "execution_count": 26,
     "metadata": {},
     "output_type": "execute_result"
    }
   ],
   "source": [
    "df.dtypes"
   ]
  },
  {
   "cell_type": "markdown",
   "id": "43906bb6",
   "metadata": {
    "papermill": {
     "duration": 0.022206,
     "end_time": "2025-06-01T08:02:34.094101",
     "exception": false,
     "start_time": "2025-06-01T08:02:34.071895",
     "status": "completed"
    },
    "tags": []
   },
   "source": [
    "## 🧭 Identifying and Handling Duplicates"
   ]
  },
  {
   "cell_type": "code",
   "execution_count": 27,
   "id": "97546175",
   "metadata": {
    "execution": {
     "iopub.execute_input": "2025-06-01T08:02:34.138423Z",
     "iopub.status.busy": "2025-06-01T08:02:34.138106Z",
     "iopub.status.idle": "2025-06-01T08:02:34.399867Z",
     "shell.execute_reply": "2025-06-01T08:02:34.398596Z"
    },
    "papermill": {
     "duration": 0.28629,
     "end_time": "2025-06-01T08:02:34.402098",
     "exception": false,
     "start_time": "2025-06-01T08:02:34.115808",
     "status": "completed"
    },
    "tags": []
   },
   "outputs": [
    {
     "data": {
      "text/plain": [
       "6"
      ]
     },
     "execution_count": 27,
     "metadata": {},
     "output_type": "execute_result"
    }
   ],
   "source": [
    "# Counting the total number of completely duplicated rows in the DataFrame\n",
    "df.duplicated().sum()"
   ]
  },
  {
   "cell_type": "code",
   "execution_count": 28,
   "id": "4418c6b5",
   "metadata": {
    "execution": {
     "iopub.execute_input": "2025-06-01T08:02:34.447915Z",
     "iopub.status.busy": "2025-06-01T08:02:34.447592Z",
     "iopub.status.idle": "2025-06-01T08:02:34.474458Z",
     "shell.execute_reply": "2025-06-01T08:02:34.473727Z"
    },
    "papermill": {
     "duration": 0.051671,
     "end_time": "2025-06-01T08:02:34.475887",
     "exception": false,
     "start_time": "2025-06-01T08:02:34.424216",
     "status": "completed"
    },
    "tags": []
   },
   "outputs": [
    {
     "data": {
      "text/plain": [
       "15443"
      ]
     },
     "execution_count": 28,
     "metadata": {},
     "output_type": "execute_result"
    }
   ],
   "source": [
    "# Counting how many rows have duplicate 'Order ID' values (including all instances of the duplicates)\n",
    "df.duplicated(subset=['Order ID'], keep=False).sum()"
   ]
  },
  {
   "cell_type": "markdown",
   "id": "98c02204",
   "metadata": {
    "papermill": {
     "duration": 0.021024,
     "end_time": "2025-06-01T08:02:34.518317",
     "exception": false,
     "start_time": "2025-06-01T08:02:34.497293",
     "status": "completed"
    },
    "tags": []
   },
   "source": [
    "**Each order is identified by a unique Order ID; however, a single order can include several different products. Therefore, simply removing duplicates based on the Order ID alone could mistakenly delete valid entries for multiple products within the same order, leading to loss of important data. To accurately detect unintended duplicate records, it is better to consider the combination of Order ID, ASIN (product identifier), and SKU (stock keeping unit) together.**"
   ]
  },
  {
   "cell_type": "markdown",
   "id": "592cfe50",
   "metadata": {
    "papermill": {
     "duration": 0.020927,
     "end_time": "2025-06-01T08:02:34.560654",
     "exception": false,
     "start_time": "2025-06-01T08:02:34.539727",
     "status": "completed"
    },
    "tags": []
   },
   "source": [
    "**Find Duplicate Rows Based on Order ID, ASIN, and SKU**\n"
   ]
  },
  {
   "cell_type": "code",
   "execution_count": 29,
   "id": "97474cd1",
   "metadata": {
    "execution": {
     "iopub.execute_input": "2025-06-01T08:02:34.605778Z",
     "iopub.status.busy": "2025-06-01T08:02:34.605065Z",
     "iopub.status.idle": "2025-06-01T08:02:34.678236Z",
     "shell.execute_reply": "2025-06-01T08:02:34.677213Z"
    },
    "papermill": {
     "duration": 0.097832,
     "end_time": "2025-06-01T08:02:34.679876",
     "exception": false,
     "start_time": "2025-06-01T08:02:34.582044",
     "status": "completed"
    },
    "tags": []
   },
   "outputs": [
    {
     "data": {
      "text/html": [
       "<div>\n",
       "<style scoped>\n",
       "    .dataframe tbody tr th:only-of-type {\n",
       "        vertical-align: middle;\n",
       "    }\n",
       "\n",
       "    .dataframe tbody tr th {\n",
       "        vertical-align: top;\n",
       "    }\n",
       "\n",
       "    .dataframe thead th {\n",
       "        text-align: right;\n",
       "    }\n",
       "</style>\n",
       "<table border=\"1\" class=\"dataframe\">\n",
       "  <thead>\n",
       "    <tr style=\"text-align: right;\">\n",
       "      <th></th>\n",
       "      <th>Order ID</th>\n",
       "      <th>Date</th>\n",
       "      <th>Status</th>\n",
       "      <th>Fulfilment</th>\n",
       "      <th>Sales Channel</th>\n",
       "      <th>ship-service-level</th>\n",
       "      <th>Style</th>\n",
       "      <th>SKU</th>\n",
       "      <th>Category</th>\n",
       "      <th>Size</th>\n",
       "      <th>...</th>\n",
       "      <th>Qty</th>\n",
       "      <th>currency</th>\n",
       "      <th>Amount</th>\n",
       "      <th>ship-city</th>\n",
       "      <th>ship-state</th>\n",
       "      <th>ship-postal-code</th>\n",
       "      <th>ship-country</th>\n",
       "      <th>promotion-ids</th>\n",
       "      <th>B2B</th>\n",
       "      <th>fulfilled-by</th>\n",
       "    </tr>\n",
       "  </thead>\n",
       "  <tbody>\n",
       "    <tr>\n",
       "      <th>30651</th>\n",
       "      <td>406-0372545-6086735</td>\n",
       "      <td>2022-04-12</td>\n",
       "      <td>Cancelled</td>\n",
       "      <td>Amazon</td>\n",
       "      <td>Amazon.in</td>\n",
       "      <td>Expedited</td>\n",
       "      <td>SET197</td>\n",
       "      <td>SET197-KR-NP-L</td>\n",
       "      <td>Set</td>\n",
       "      <td>L</td>\n",
       "      <td>...</td>\n",
       "      <td>0</td>\n",
       "      <td>INR</td>\n",
       "      <td>0.0</td>\n",
       "      <td>Siliguri</td>\n",
       "      <td>WEST BENGAL</td>\n",
       "      <td>734008.0</td>\n",
       "      <td>IN</td>\n",
       "      <td>No_Data</td>\n",
       "      <td>False</td>\n",
       "      <td>Amazon Easy Ship</td>\n",
       "    </tr>\n",
       "    <tr>\n",
       "      <th>30652</th>\n",
       "      <td>406-0372545-6086735</td>\n",
       "      <td>2022-04-12</td>\n",
       "      <td>Cancelled</td>\n",
       "      <td>Amazon</td>\n",
       "      <td>Amazon.in</td>\n",
       "      <td>Expedited</td>\n",
       "      <td>SET197</td>\n",
       "      <td>SET197-KR-NP-L</td>\n",
       "      <td>Set</td>\n",
       "      <td>L</td>\n",
       "      <td>...</td>\n",
       "      <td>0</td>\n",
       "      <td>INR</td>\n",
       "      <td>0.0</td>\n",
       "      <td>Siliguri</td>\n",
       "      <td>WEST BENGAL</td>\n",
       "      <td>734008.0</td>\n",
       "      <td>IN</td>\n",
       "      <td>No_Data</td>\n",
       "      <td>False</td>\n",
       "      <td>Amazon Easy Ship</td>\n",
       "    </tr>\n",
       "    <tr>\n",
       "      <th>41282</th>\n",
       "      <td>408-0373839-4433120</td>\n",
       "      <td>2022-04-05</td>\n",
       "      <td>Cancelled</td>\n",
       "      <td>Amazon</td>\n",
       "      <td>Amazon.in</td>\n",
       "      <td>Expedited</td>\n",
       "      <td>JNE3501</td>\n",
       "      <td>JNE3501-KR-M</td>\n",
       "      <td>kurta</td>\n",
       "      <td>M</td>\n",
       "      <td>...</td>\n",
       "      <td>0</td>\n",
       "      <td>INR</td>\n",
       "      <td>0.0</td>\n",
       "      <td>BENGALURU</td>\n",
       "      <td>KARNATAKA</td>\n",
       "      <td>560072.0</td>\n",
       "      <td>IN</td>\n",
       "      <td>No_Data</td>\n",
       "      <td>False</td>\n",
       "      <td>Amazon Easy Ship</td>\n",
       "    </tr>\n",
       "    <tr>\n",
       "      <th>41283</th>\n",
       "      <td>408-0373839-4433120</td>\n",
       "      <td>2022-04-05</td>\n",
       "      <td>Cancelled</td>\n",
       "      <td>Amazon</td>\n",
       "      <td>Amazon.in</td>\n",
       "      <td>Expedited</td>\n",
       "      <td>JNE3501</td>\n",
       "      <td>JNE3501-KR-M</td>\n",
       "      <td>kurta</td>\n",
       "      <td>M</td>\n",
       "      <td>...</td>\n",
       "      <td>0</td>\n",
       "      <td>INR</td>\n",
       "      <td>0.0</td>\n",
       "      <td>BENGALURU</td>\n",
       "      <td>KARNATAKA</td>\n",
       "      <td>560072.0</td>\n",
       "      <td>IN</td>\n",
       "      <td>No_Data</td>\n",
       "      <td>False</td>\n",
       "      <td>Amazon Easy Ship</td>\n",
       "    </tr>\n",
       "    <tr>\n",
       "      <th>52321</th>\n",
       "      <td>407-8364731-6449117</td>\n",
       "      <td>2022-05-29</td>\n",
       "      <td>Shipped</td>\n",
       "      <td>Amazon</td>\n",
       "      <td>Amazon.in</td>\n",
       "      <td>Expedited</td>\n",
       "      <td>JNE3769</td>\n",
       "      <td>JNE3769-KR-L</td>\n",
       "      <td>kurta</td>\n",
       "      <td>L</td>\n",
       "      <td>...</td>\n",
       "      <td>0</td>\n",
       "      <td>INR</td>\n",
       "      <td>545.0</td>\n",
       "      <td>Theni</td>\n",
       "      <td>TAMIL NADU</td>\n",
       "      <td>625579.0</td>\n",
       "      <td>IN</td>\n",
       "      <td>IN Core Free Shipping 2015/04/08 23-48-5-108</td>\n",
       "      <td>False</td>\n",
       "      <td>Amazon Easy Ship</td>\n",
       "    </tr>\n",
       "    <tr>\n",
       "      <th>52324</th>\n",
       "      <td>407-8364731-6449117</td>\n",
       "      <td>2022-05-29</td>\n",
       "      <td>Shipped</td>\n",
       "      <td>Amazon</td>\n",
       "      <td>Amazon.in</td>\n",
       "      <td>Expedited</td>\n",
       "      <td>JNE3769</td>\n",
       "      <td>JNE3769-KR-L</td>\n",
       "      <td>kurta</td>\n",
       "      <td>L</td>\n",
       "      <td>...</td>\n",
       "      <td>1</td>\n",
       "      <td>INR</td>\n",
       "      <td>487.0</td>\n",
       "      <td>Theni</td>\n",
       "      <td>TAMIL NADU</td>\n",
       "      <td>625579.0</td>\n",
       "      <td>IN</td>\n",
       "      <td>IN Core Free Shipping 2015/04/08 23-48-5-108</td>\n",
       "      <td>False</td>\n",
       "      <td>Amazon Easy Ship</td>\n",
       "    </tr>\n",
       "    <tr>\n",
       "      <th>79835</th>\n",
       "      <td>171-9628368-5329958</td>\n",
       "      <td>2022-05-07</td>\n",
       "      <td>Cancelled</td>\n",
       "      <td>Amazon</td>\n",
       "      <td>Amazon.in</td>\n",
       "      <td>Expedited</td>\n",
       "      <td>J0329</td>\n",
       "      <td>J0329-KR-L</td>\n",
       "      <td>kurta</td>\n",
       "      <td>L</td>\n",
       "      <td>...</td>\n",
       "      <td>0</td>\n",
       "      <td>INR</td>\n",
       "      <td>0.0</td>\n",
       "      <td>ERNAKULAM</td>\n",
       "      <td>KERALA</td>\n",
       "      <td>682017.0</td>\n",
       "      <td>IN</td>\n",
       "      <td>No_Data</td>\n",
       "      <td>False</td>\n",
       "      <td>Amazon Easy Ship</td>\n",
       "    </tr>\n",
       "    <tr>\n",
       "      <th>79836</th>\n",
       "      <td>171-9628368-5329958</td>\n",
       "      <td>2022-05-07</td>\n",
       "      <td>Cancelled</td>\n",
       "      <td>Amazon</td>\n",
       "      <td>Amazon.in</td>\n",
       "      <td>Expedited</td>\n",
       "      <td>J0329</td>\n",
       "      <td>J0329-KR-L</td>\n",
       "      <td>kurta</td>\n",
       "      <td>L</td>\n",
       "      <td>...</td>\n",
       "      <td>0</td>\n",
       "      <td>INR</td>\n",
       "      <td>0.0</td>\n",
       "      <td>ERNAKULAM</td>\n",
       "      <td>KERALA</td>\n",
       "      <td>682017.0</td>\n",
       "      <td>IN</td>\n",
       "      <td>No_Data</td>\n",
       "      <td>False</td>\n",
       "      <td>Amazon Easy Ship</td>\n",
       "    </tr>\n",
       "    <tr>\n",
       "      <th>85781</th>\n",
       "      <td>171-3249942-2207542</td>\n",
       "      <td>2022-05-03</td>\n",
       "      <td>Shipped</td>\n",
       "      <td>Amazon</td>\n",
       "      <td>Amazon.in</td>\n",
       "      <td>Expedited</td>\n",
       "      <td>SET323</td>\n",
       "      <td>SET323-KR-NP-XL</td>\n",
       "      <td>Set</td>\n",
       "      <td>XL</td>\n",
       "      <td>...</td>\n",
       "      <td>1</td>\n",
       "      <td>INR</td>\n",
       "      <td>939.0</td>\n",
       "      <td>PUNE</td>\n",
       "      <td>MAHARASHTRA</td>\n",
       "      <td>411057.0</td>\n",
       "      <td>IN</td>\n",
       "      <td>IN Core Free Shipping 2015/04/08 23-48-5-108</td>\n",
       "      <td>False</td>\n",
       "      <td>Amazon Easy Ship</td>\n",
       "    </tr>\n",
       "    <tr>\n",
       "      <th>85782</th>\n",
       "      <td>171-3249942-2207542</td>\n",
       "      <td>2022-05-03</td>\n",
       "      <td>Shipped</td>\n",
       "      <td>Amazon</td>\n",
       "      <td>Amazon.in</td>\n",
       "      <td>Expedited</td>\n",
       "      <td>SET323</td>\n",
       "      <td>SET323-KR-NP-XL</td>\n",
       "      <td>Set</td>\n",
       "      <td>XL</td>\n",
       "      <td>...</td>\n",
       "      <td>1</td>\n",
       "      <td>INR</td>\n",
       "      <td>939.0</td>\n",
       "      <td>PUNE</td>\n",
       "      <td>MAHARASHTRA</td>\n",
       "      <td>411057.0</td>\n",
       "      <td>IN</td>\n",
       "      <td>IN Core Free Shipping 2015/04/08 23-48-5-108</td>\n",
       "      <td>False</td>\n",
       "      <td>Amazon Easy Ship</td>\n",
       "    </tr>\n",
       "    <tr>\n",
       "      <th>86409</th>\n",
       "      <td>405-8669298-3850736</td>\n",
       "      <td>2022-05-03</td>\n",
       "      <td>Shipped</td>\n",
       "      <td>Amazon</td>\n",
       "      <td>Amazon.in</td>\n",
       "      <td>Expedited</td>\n",
       "      <td>MEN5025</td>\n",
       "      <td>MEN5025-KR-XXXL</td>\n",
       "      <td>kurta</td>\n",
       "      <td>3XL</td>\n",
       "      <td>...</td>\n",
       "      <td>1</td>\n",
       "      <td>INR</td>\n",
       "      <td>533.0</td>\n",
       "      <td>GHAZIABAD</td>\n",
       "      <td>UTTAR PRADESH</td>\n",
       "      <td>201010.0</td>\n",
       "      <td>IN</td>\n",
       "      <td>IN Core Free Shipping 2015/04/08 23-48-5-108</td>\n",
       "      <td>False</td>\n",
       "      <td>Amazon Easy Ship</td>\n",
       "    </tr>\n",
       "    <tr>\n",
       "      <th>86410</th>\n",
       "      <td>405-8669298-3850736</td>\n",
       "      <td>2022-05-03</td>\n",
       "      <td>Shipped</td>\n",
       "      <td>Amazon</td>\n",
       "      <td>Amazon.in</td>\n",
       "      <td>Expedited</td>\n",
       "      <td>MEN5025</td>\n",
       "      <td>MEN5025-KR-XXXL</td>\n",
       "      <td>kurta</td>\n",
       "      <td>3XL</td>\n",
       "      <td>...</td>\n",
       "      <td>1</td>\n",
       "      <td>INR</td>\n",
       "      <td>533.0</td>\n",
       "      <td>GHAZIABAD</td>\n",
       "      <td>UTTAR PRADESH</td>\n",
       "      <td>201010.0</td>\n",
       "      <td>IN</td>\n",
       "      <td>IN Core Free Shipping 2015/04/08 23-48-5-108</td>\n",
       "      <td>False</td>\n",
       "      <td>Amazon Easy Ship</td>\n",
       "    </tr>\n",
       "    <tr>\n",
       "      <th>98945</th>\n",
       "      <td>407-4853873-4978725</td>\n",
       "      <td>2022-06-22</td>\n",
       "      <td>Shipped</td>\n",
       "      <td>Amazon</td>\n",
       "      <td>Amazon.in</td>\n",
       "      <td>Expedited</td>\n",
       "      <td>J0230</td>\n",
       "      <td>J0230-SKD-M</td>\n",
       "      <td>Set</td>\n",
       "      <td>M</td>\n",
       "      <td>...</td>\n",
       "      <td>1</td>\n",
       "      <td>INR</td>\n",
       "      <td>1163.0</td>\n",
       "      <td>Zirakpur</td>\n",
       "      <td>Punjab</td>\n",
       "      <td>140603.0</td>\n",
       "      <td>IN</td>\n",
       "      <td>IN Core Free Shipping 2015/04/08 23-48-5-108</td>\n",
       "      <td>False</td>\n",
       "      <td>Amazon Easy Ship</td>\n",
       "    </tr>\n",
       "    <tr>\n",
       "      <th>98946</th>\n",
       "      <td>407-4853873-4978725</td>\n",
       "      <td>2022-06-22</td>\n",
       "      <td>Shipped</td>\n",
       "      <td>Amazon</td>\n",
       "      <td>Amazon.in</td>\n",
       "      <td>Expedited</td>\n",
       "      <td>J0230</td>\n",
       "      <td>J0230-SKD-M</td>\n",
       "      <td>Set</td>\n",
       "      <td>M</td>\n",
       "      <td>...</td>\n",
       "      <td>1</td>\n",
       "      <td>INR</td>\n",
       "      <td>1163.0</td>\n",
       "      <td>Zirakpur</td>\n",
       "      <td>Punjab</td>\n",
       "      <td>140603.0</td>\n",
       "      <td>IN</td>\n",
       "      <td>IN Core Free Shipping 2015/04/08 23-48-5-108</td>\n",
       "      <td>False</td>\n",
       "      <td>Amazon Easy Ship</td>\n",
       "    </tr>\n",
       "  </tbody>\n",
       "</table>\n",
       "<p>14 rows × 22 columns</p>\n",
       "</div>"
      ],
      "text/plain": [
       "                  Order ID       Date     Status Fulfilment Sales Channel   \\\n",
       "30651  406-0372545-6086735 2022-04-12  Cancelled     Amazon      Amazon.in   \n",
       "30652  406-0372545-6086735 2022-04-12  Cancelled     Amazon      Amazon.in   \n",
       "41282  408-0373839-4433120 2022-04-05  Cancelled     Amazon      Amazon.in   \n",
       "41283  408-0373839-4433120 2022-04-05  Cancelled     Amazon      Amazon.in   \n",
       "52321  407-8364731-6449117 2022-05-29    Shipped     Amazon      Amazon.in   \n",
       "52324  407-8364731-6449117 2022-05-29    Shipped     Amazon      Amazon.in   \n",
       "79835  171-9628368-5329958 2022-05-07  Cancelled     Amazon      Amazon.in   \n",
       "79836  171-9628368-5329958 2022-05-07  Cancelled     Amazon      Amazon.in   \n",
       "85781  171-3249942-2207542 2022-05-03    Shipped     Amazon      Amazon.in   \n",
       "85782  171-3249942-2207542 2022-05-03    Shipped     Amazon      Amazon.in   \n",
       "86409  405-8669298-3850736 2022-05-03    Shipped     Amazon      Amazon.in   \n",
       "86410  405-8669298-3850736 2022-05-03    Shipped     Amazon      Amazon.in   \n",
       "98945  407-4853873-4978725 2022-06-22    Shipped     Amazon      Amazon.in   \n",
       "98946  407-4853873-4978725 2022-06-22    Shipped     Amazon      Amazon.in   \n",
       "\n",
       "      ship-service-level    Style              SKU Category Size  ... Qty  \\\n",
       "30651          Expedited   SET197   SET197-KR-NP-L      Set    L  ...   0   \n",
       "30652          Expedited   SET197   SET197-KR-NP-L      Set    L  ...   0   \n",
       "41282          Expedited  JNE3501     JNE3501-KR-M    kurta    M  ...   0   \n",
       "41283          Expedited  JNE3501     JNE3501-KR-M    kurta    M  ...   0   \n",
       "52321          Expedited  JNE3769     JNE3769-KR-L    kurta    L  ...   0   \n",
       "52324          Expedited  JNE3769     JNE3769-KR-L    kurta    L  ...   1   \n",
       "79835          Expedited    J0329       J0329-KR-L    kurta    L  ...   0   \n",
       "79836          Expedited    J0329       J0329-KR-L    kurta    L  ...   0   \n",
       "85781          Expedited   SET323  SET323-KR-NP-XL      Set   XL  ...   1   \n",
       "85782          Expedited   SET323  SET323-KR-NP-XL      Set   XL  ...   1   \n",
       "86409          Expedited  MEN5025  MEN5025-KR-XXXL    kurta  3XL  ...   1   \n",
       "86410          Expedited  MEN5025  MEN5025-KR-XXXL    kurta  3XL  ...   1   \n",
       "98945          Expedited    J0230      J0230-SKD-M      Set    M  ...   1   \n",
       "98946          Expedited    J0230      J0230-SKD-M      Set    M  ...   1   \n",
       "\n",
       "      currency  Amount  ship-city     ship-state ship-postal-code  \\\n",
       "30651      INR     0.0   Siliguri    WEST BENGAL         734008.0   \n",
       "30652      INR     0.0   Siliguri    WEST BENGAL         734008.0   \n",
       "41282      INR     0.0  BENGALURU      KARNATAKA         560072.0   \n",
       "41283      INR     0.0  BENGALURU      KARNATAKA         560072.0   \n",
       "52321      INR   545.0      Theni     TAMIL NADU         625579.0   \n",
       "52324      INR   487.0      Theni     TAMIL NADU         625579.0   \n",
       "79835      INR     0.0  ERNAKULAM         KERALA         682017.0   \n",
       "79836      INR     0.0  ERNAKULAM         KERALA         682017.0   \n",
       "85781      INR   939.0       PUNE    MAHARASHTRA         411057.0   \n",
       "85782      INR   939.0       PUNE    MAHARASHTRA         411057.0   \n",
       "86409      INR   533.0  GHAZIABAD  UTTAR PRADESH         201010.0   \n",
       "86410      INR   533.0  GHAZIABAD  UTTAR PRADESH         201010.0   \n",
       "98945      INR  1163.0   Zirakpur         Punjab         140603.0   \n",
       "98946      INR  1163.0   Zirakpur         Punjab         140603.0   \n",
       "\n",
       "      ship-country                                 promotion-ids    B2B  \\\n",
       "30651           IN                                       No_Data  False   \n",
       "30652           IN                                       No_Data  False   \n",
       "41282           IN                                       No_Data  False   \n",
       "41283           IN                                       No_Data  False   \n",
       "52321           IN  IN Core Free Shipping 2015/04/08 23-48-5-108  False   \n",
       "52324           IN  IN Core Free Shipping 2015/04/08 23-48-5-108  False   \n",
       "79835           IN                                       No_Data  False   \n",
       "79836           IN                                       No_Data  False   \n",
       "85781           IN  IN Core Free Shipping 2015/04/08 23-48-5-108  False   \n",
       "85782           IN  IN Core Free Shipping 2015/04/08 23-48-5-108  False   \n",
       "86409           IN  IN Core Free Shipping 2015/04/08 23-48-5-108  False   \n",
       "86410           IN  IN Core Free Shipping 2015/04/08 23-48-5-108  False   \n",
       "98945           IN  IN Core Free Shipping 2015/04/08 23-48-5-108  False   \n",
       "98946           IN  IN Core Free Shipping 2015/04/08 23-48-5-108  False   \n",
       "\n",
       "           fulfilled-by  \n",
       "30651  Amazon Easy Ship  \n",
       "30652  Amazon Easy Ship  \n",
       "41282  Amazon Easy Ship  \n",
       "41283  Amazon Easy Ship  \n",
       "52321  Amazon Easy Ship  \n",
       "52324  Amazon Easy Ship  \n",
       "79835  Amazon Easy Ship  \n",
       "79836  Amazon Easy Ship  \n",
       "85781  Amazon Easy Ship  \n",
       "85782  Amazon Easy Ship  \n",
       "86409  Amazon Easy Ship  \n",
       "86410  Amazon Easy Ship  \n",
       "98945  Amazon Easy Ship  \n",
       "98946  Amazon Easy Ship  \n",
       "\n",
       "[14 rows x 22 columns]"
      ]
     },
     "execution_count": 29,
     "metadata": {},
     "output_type": "execute_result"
    }
   ],
   "source": [
    "# Selecting all rows that have duplicate combinations of 'Order ID', 'ASIN', and 'SKU'\n",
    "# This helps identify repeated entries of the same product within the same order\n",
    "duplicates = df[df.duplicated(subset=['Order ID', 'ASIN', 'SKU'], keep=False)]\n",
    "duplicates"
   ]
  },
  {
   "cell_type": "code",
   "execution_count": 30,
   "id": "6488bee7",
   "metadata": {
    "execution": {
     "iopub.execute_input": "2025-06-01T08:02:34.725560Z",
     "iopub.status.busy": "2025-06-01T08:02:34.725268Z",
     "iopub.status.idle": "2025-06-01T08:02:34.797578Z",
     "shell.execute_reply": "2025-06-01T08:02:34.796750Z"
    },
    "papermill": {
     "duration": 0.097274,
     "end_time": "2025-06-01T08:02:34.799485",
     "exception": false,
     "start_time": "2025-06-01T08:02:34.702211",
     "status": "completed"
    },
    "tags": []
   },
   "outputs": [
    {
     "data": {
      "text/html": [
       "<div>\n",
       "<style scoped>\n",
       "    .dataframe tbody tr th:only-of-type {\n",
       "        vertical-align: middle;\n",
       "    }\n",
       "\n",
       "    .dataframe tbody tr th {\n",
       "        vertical-align: top;\n",
       "    }\n",
       "\n",
       "    .dataframe thead th {\n",
       "        text-align: right;\n",
       "    }\n",
       "</style>\n",
       "<table border=\"1\" class=\"dataframe\">\n",
       "  <thead>\n",
       "    <tr style=\"text-align: right;\">\n",
       "      <th></th>\n",
       "      <th>Order ID</th>\n",
       "      <th>Date</th>\n",
       "      <th>Status</th>\n",
       "      <th>Fulfilment</th>\n",
       "      <th>Sales Channel</th>\n",
       "      <th>ship-service-level</th>\n",
       "      <th>Style</th>\n",
       "      <th>SKU</th>\n",
       "      <th>Category</th>\n",
       "      <th>Size</th>\n",
       "      <th>...</th>\n",
       "      <th>Qty</th>\n",
       "      <th>currency</th>\n",
       "      <th>Amount</th>\n",
       "      <th>ship-city</th>\n",
       "      <th>ship-state</th>\n",
       "      <th>ship-postal-code</th>\n",
       "      <th>ship-country</th>\n",
       "      <th>promotion-ids</th>\n",
       "      <th>B2B</th>\n",
       "      <th>fulfilled-by</th>\n",
       "    </tr>\n",
       "  </thead>\n",
       "  <tbody>\n",
       "    <tr>\n",
       "      <th>30651</th>\n",
       "      <td>406-0372545-6086735</td>\n",
       "      <td>2022-04-12</td>\n",
       "      <td>Cancelled</td>\n",
       "      <td>Amazon</td>\n",
       "      <td>Amazon.in</td>\n",
       "      <td>Expedited</td>\n",
       "      <td>SET197</td>\n",
       "      <td>SET197-KR-NP-L</td>\n",
       "      <td>Set</td>\n",
       "      <td>L</td>\n",
       "      <td>...</td>\n",
       "      <td>0</td>\n",
       "      <td>INR</td>\n",
       "      <td>0.0</td>\n",
       "      <td>Siliguri</td>\n",
       "      <td>WEST BENGAL</td>\n",
       "      <td>734008.0</td>\n",
       "      <td>IN</td>\n",
       "      <td>No_Data</td>\n",
       "      <td>False</td>\n",
       "      <td>Amazon Easy Ship</td>\n",
       "    </tr>\n",
       "    <tr>\n",
       "      <th>30652</th>\n",
       "      <td>406-0372545-6086735</td>\n",
       "      <td>2022-04-12</td>\n",
       "      <td>Cancelled</td>\n",
       "      <td>Amazon</td>\n",
       "      <td>Amazon.in</td>\n",
       "      <td>Expedited</td>\n",
       "      <td>SET197</td>\n",
       "      <td>SET197-KR-NP-L</td>\n",
       "      <td>Set</td>\n",
       "      <td>L</td>\n",
       "      <td>...</td>\n",
       "      <td>0</td>\n",
       "      <td>INR</td>\n",
       "      <td>0.0</td>\n",
       "      <td>Siliguri</td>\n",
       "      <td>WEST BENGAL</td>\n",
       "      <td>734008.0</td>\n",
       "      <td>IN</td>\n",
       "      <td>No_Data</td>\n",
       "      <td>False</td>\n",
       "      <td>Amazon Easy Ship</td>\n",
       "    </tr>\n",
       "    <tr>\n",
       "      <th>41282</th>\n",
       "      <td>408-0373839-4433120</td>\n",
       "      <td>2022-04-05</td>\n",
       "      <td>Cancelled</td>\n",
       "      <td>Amazon</td>\n",
       "      <td>Amazon.in</td>\n",
       "      <td>Expedited</td>\n",
       "      <td>JNE3501</td>\n",
       "      <td>JNE3501-KR-M</td>\n",
       "      <td>kurta</td>\n",
       "      <td>M</td>\n",
       "      <td>...</td>\n",
       "      <td>0</td>\n",
       "      <td>INR</td>\n",
       "      <td>0.0</td>\n",
       "      <td>BENGALURU</td>\n",
       "      <td>KARNATAKA</td>\n",
       "      <td>560072.0</td>\n",
       "      <td>IN</td>\n",
       "      <td>No_Data</td>\n",
       "      <td>False</td>\n",
       "      <td>Amazon Easy Ship</td>\n",
       "    </tr>\n",
       "    <tr>\n",
       "      <th>41283</th>\n",
       "      <td>408-0373839-4433120</td>\n",
       "      <td>2022-04-05</td>\n",
       "      <td>Cancelled</td>\n",
       "      <td>Amazon</td>\n",
       "      <td>Amazon.in</td>\n",
       "      <td>Expedited</td>\n",
       "      <td>JNE3501</td>\n",
       "      <td>JNE3501-KR-M</td>\n",
       "      <td>kurta</td>\n",
       "      <td>M</td>\n",
       "      <td>...</td>\n",
       "      <td>0</td>\n",
       "      <td>INR</td>\n",
       "      <td>0.0</td>\n",
       "      <td>BENGALURU</td>\n",
       "      <td>KARNATAKA</td>\n",
       "      <td>560072.0</td>\n",
       "      <td>IN</td>\n",
       "      <td>No_Data</td>\n",
       "      <td>False</td>\n",
       "      <td>Amazon Easy Ship</td>\n",
       "    </tr>\n",
       "    <tr>\n",
       "      <th>52321</th>\n",
       "      <td>407-8364731-6449117</td>\n",
       "      <td>2022-05-29</td>\n",
       "      <td>Shipped</td>\n",
       "      <td>Amazon</td>\n",
       "      <td>Amazon.in</td>\n",
       "      <td>Expedited</td>\n",
       "      <td>JNE3769</td>\n",
       "      <td>JNE3769-KR-L</td>\n",
       "      <td>kurta</td>\n",
       "      <td>L</td>\n",
       "      <td>...</td>\n",
       "      <td>0</td>\n",
       "      <td>INR</td>\n",
       "      <td>545.0</td>\n",
       "      <td>Theni</td>\n",
       "      <td>TAMIL NADU</td>\n",
       "      <td>625579.0</td>\n",
       "      <td>IN</td>\n",
       "      <td>IN Core Free Shipping 2015/04/08 23-48-5-108</td>\n",
       "      <td>False</td>\n",
       "      <td>Amazon Easy Ship</td>\n",
       "    </tr>\n",
       "    <tr>\n",
       "      <th>52324</th>\n",
       "      <td>407-8364731-6449117</td>\n",
       "      <td>2022-05-29</td>\n",
       "      <td>Shipped</td>\n",
       "      <td>Amazon</td>\n",
       "      <td>Amazon.in</td>\n",
       "      <td>Expedited</td>\n",
       "      <td>JNE3769</td>\n",
       "      <td>JNE3769-KR-L</td>\n",
       "      <td>kurta</td>\n",
       "      <td>L</td>\n",
       "      <td>...</td>\n",
       "      <td>1</td>\n",
       "      <td>INR</td>\n",
       "      <td>487.0</td>\n",
       "      <td>Theni</td>\n",
       "      <td>TAMIL NADU</td>\n",
       "      <td>625579.0</td>\n",
       "      <td>IN</td>\n",
       "      <td>IN Core Free Shipping 2015/04/08 23-48-5-108</td>\n",
       "      <td>False</td>\n",
       "      <td>Amazon Easy Ship</td>\n",
       "    </tr>\n",
       "    <tr>\n",
       "      <th>79835</th>\n",
       "      <td>171-9628368-5329958</td>\n",
       "      <td>2022-05-07</td>\n",
       "      <td>Cancelled</td>\n",
       "      <td>Amazon</td>\n",
       "      <td>Amazon.in</td>\n",
       "      <td>Expedited</td>\n",
       "      <td>J0329</td>\n",
       "      <td>J0329-KR-L</td>\n",
       "      <td>kurta</td>\n",
       "      <td>L</td>\n",
       "      <td>...</td>\n",
       "      <td>0</td>\n",
       "      <td>INR</td>\n",
       "      <td>0.0</td>\n",
       "      <td>ERNAKULAM</td>\n",
       "      <td>KERALA</td>\n",
       "      <td>682017.0</td>\n",
       "      <td>IN</td>\n",
       "      <td>No_Data</td>\n",
       "      <td>False</td>\n",
       "      <td>Amazon Easy Ship</td>\n",
       "    </tr>\n",
       "    <tr>\n",
       "      <th>79836</th>\n",
       "      <td>171-9628368-5329958</td>\n",
       "      <td>2022-05-07</td>\n",
       "      <td>Cancelled</td>\n",
       "      <td>Amazon</td>\n",
       "      <td>Amazon.in</td>\n",
       "      <td>Expedited</td>\n",
       "      <td>J0329</td>\n",
       "      <td>J0329-KR-L</td>\n",
       "      <td>kurta</td>\n",
       "      <td>L</td>\n",
       "      <td>...</td>\n",
       "      <td>0</td>\n",
       "      <td>INR</td>\n",
       "      <td>0.0</td>\n",
       "      <td>ERNAKULAM</td>\n",
       "      <td>KERALA</td>\n",
       "      <td>682017.0</td>\n",
       "      <td>IN</td>\n",
       "      <td>No_Data</td>\n",
       "      <td>False</td>\n",
       "      <td>Amazon Easy Ship</td>\n",
       "    </tr>\n",
       "    <tr>\n",
       "      <th>85781</th>\n",
       "      <td>171-3249942-2207542</td>\n",
       "      <td>2022-05-03</td>\n",
       "      <td>Shipped</td>\n",
       "      <td>Amazon</td>\n",
       "      <td>Amazon.in</td>\n",
       "      <td>Expedited</td>\n",
       "      <td>SET323</td>\n",
       "      <td>SET323-KR-NP-XL</td>\n",
       "      <td>Set</td>\n",
       "      <td>XL</td>\n",
       "      <td>...</td>\n",
       "      <td>1</td>\n",
       "      <td>INR</td>\n",
       "      <td>939.0</td>\n",
       "      <td>PUNE</td>\n",
       "      <td>MAHARASHTRA</td>\n",
       "      <td>411057.0</td>\n",
       "      <td>IN</td>\n",
       "      <td>IN Core Free Shipping 2015/04/08 23-48-5-108</td>\n",
       "      <td>False</td>\n",
       "      <td>Amazon Easy Ship</td>\n",
       "    </tr>\n",
       "    <tr>\n",
       "      <th>85782</th>\n",
       "      <td>171-3249942-2207542</td>\n",
       "      <td>2022-05-03</td>\n",
       "      <td>Shipped</td>\n",
       "      <td>Amazon</td>\n",
       "      <td>Amazon.in</td>\n",
       "      <td>Expedited</td>\n",
       "      <td>SET323</td>\n",
       "      <td>SET323-KR-NP-XL</td>\n",
       "      <td>Set</td>\n",
       "      <td>XL</td>\n",
       "      <td>...</td>\n",
       "      <td>1</td>\n",
       "      <td>INR</td>\n",
       "      <td>939.0</td>\n",
       "      <td>PUNE</td>\n",
       "      <td>MAHARASHTRA</td>\n",
       "      <td>411057.0</td>\n",
       "      <td>IN</td>\n",
       "      <td>IN Core Free Shipping 2015/04/08 23-48-5-108</td>\n",
       "      <td>False</td>\n",
       "      <td>Amazon Easy Ship</td>\n",
       "    </tr>\n",
       "    <tr>\n",
       "      <th>86409</th>\n",
       "      <td>405-8669298-3850736</td>\n",
       "      <td>2022-05-03</td>\n",
       "      <td>Shipped</td>\n",
       "      <td>Amazon</td>\n",
       "      <td>Amazon.in</td>\n",
       "      <td>Expedited</td>\n",
       "      <td>MEN5025</td>\n",
       "      <td>MEN5025-KR-XXXL</td>\n",
       "      <td>kurta</td>\n",
       "      <td>3XL</td>\n",
       "      <td>...</td>\n",
       "      <td>1</td>\n",
       "      <td>INR</td>\n",
       "      <td>533.0</td>\n",
       "      <td>GHAZIABAD</td>\n",
       "      <td>UTTAR PRADESH</td>\n",
       "      <td>201010.0</td>\n",
       "      <td>IN</td>\n",
       "      <td>IN Core Free Shipping 2015/04/08 23-48-5-108</td>\n",
       "      <td>False</td>\n",
       "      <td>Amazon Easy Ship</td>\n",
       "    </tr>\n",
       "    <tr>\n",
       "      <th>86410</th>\n",
       "      <td>405-8669298-3850736</td>\n",
       "      <td>2022-05-03</td>\n",
       "      <td>Shipped</td>\n",
       "      <td>Amazon</td>\n",
       "      <td>Amazon.in</td>\n",
       "      <td>Expedited</td>\n",
       "      <td>MEN5025</td>\n",
       "      <td>MEN5025-KR-XXXL</td>\n",
       "      <td>kurta</td>\n",
       "      <td>3XL</td>\n",
       "      <td>...</td>\n",
       "      <td>1</td>\n",
       "      <td>INR</td>\n",
       "      <td>533.0</td>\n",
       "      <td>GHAZIABAD</td>\n",
       "      <td>UTTAR PRADESH</td>\n",
       "      <td>201010.0</td>\n",
       "      <td>IN</td>\n",
       "      <td>IN Core Free Shipping 2015/04/08 23-48-5-108</td>\n",
       "      <td>False</td>\n",
       "      <td>Amazon Easy Ship</td>\n",
       "    </tr>\n",
       "    <tr>\n",
       "      <th>98945</th>\n",
       "      <td>407-4853873-4978725</td>\n",
       "      <td>2022-06-22</td>\n",
       "      <td>Shipped</td>\n",
       "      <td>Amazon</td>\n",
       "      <td>Amazon.in</td>\n",
       "      <td>Expedited</td>\n",
       "      <td>J0230</td>\n",
       "      <td>J0230-SKD-M</td>\n",
       "      <td>Set</td>\n",
       "      <td>M</td>\n",
       "      <td>...</td>\n",
       "      <td>1</td>\n",
       "      <td>INR</td>\n",
       "      <td>1163.0</td>\n",
       "      <td>Zirakpur</td>\n",
       "      <td>Punjab</td>\n",
       "      <td>140603.0</td>\n",
       "      <td>IN</td>\n",
       "      <td>IN Core Free Shipping 2015/04/08 23-48-5-108</td>\n",
       "      <td>False</td>\n",
       "      <td>Amazon Easy Ship</td>\n",
       "    </tr>\n",
       "    <tr>\n",
       "      <th>98946</th>\n",
       "      <td>407-4853873-4978725</td>\n",
       "      <td>2022-06-22</td>\n",
       "      <td>Shipped</td>\n",
       "      <td>Amazon</td>\n",
       "      <td>Amazon.in</td>\n",
       "      <td>Expedited</td>\n",
       "      <td>J0230</td>\n",
       "      <td>J0230-SKD-M</td>\n",
       "      <td>Set</td>\n",
       "      <td>M</td>\n",
       "      <td>...</td>\n",
       "      <td>1</td>\n",
       "      <td>INR</td>\n",
       "      <td>1163.0</td>\n",
       "      <td>Zirakpur</td>\n",
       "      <td>Punjab</td>\n",
       "      <td>140603.0</td>\n",
       "      <td>IN</td>\n",
       "      <td>IN Core Free Shipping 2015/04/08 23-48-5-108</td>\n",
       "      <td>False</td>\n",
       "      <td>Amazon Easy Ship</td>\n",
       "    </tr>\n",
       "  </tbody>\n",
       "</table>\n",
       "<p>14 rows × 22 columns</p>\n",
       "</div>"
      ],
      "text/plain": [
       "                  Order ID       Date     Status Fulfilment Sales Channel   \\\n",
       "30651  406-0372545-6086735 2022-04-12  Cancelled     Amazon      Amazon.in   \n",
       "30652  406-0372545-6086735 2022-04-12  Cancelled     Amazon      Amazon.in   \n",
       "41282  408-0373839-4433120 2022-04-05  Cancelled     Amazon      Amazon.in   \n",
       "41283  408-0373839-4433120 2022-04-05  Cancelled     Amazon      Amazon.in   \n",
       "52321  407-8364731-6449117 2022-05-29    Shipped     Amazon      Amazon.in   \n",
       "52324  407-8364731-6449117 2022-05-29    Shipped     Amazon      Amazon.in   \n",
       "79835  171-9628368-5329958 2022-05-07  Cancelled     Amazon      Amazon.in   \n",
       "79836  171-9628368-5329958 2022-05-07  Cancelled     Amazon      Amazon.in   \n",
       "85781  171-3249942-2207542 2022-05-03    Shipped     Amazon      Amazon.in   \n",
       "85782  171-3249942-2207542 2022-05-03    Shipped     Amazon      Amazon.in   \n",
       "86409  405-8669298-3850736 2022-05-03    Shipped     Amazon      Amazon.in   \n",
       "86410  405-8669298-3850736 2022-05-03    Shipped     Amazon      Amazon.in   \n",
       "98945  407-4853873-4978725 2022-06-22    Shipped     Amazon      Amazon.in   \n",
       "98946  407-4853873-4978725 2022-06-22    Shipped     Amazon      Amazon.in   \n",
       "\n",
       "      ship-service-level    Style              SKU Category Size  ... Qty  \\\n",
       "30651          Expedited   SET197   SET197-KR-NP-L      Set    L  ...   0   \n",
       "30652          Expedited   SET197   SET197-KR-NP-L      Set    L  ...   0   \n",
       "41282          Expedited  JNE3501     JNE3501-KR-M    kurta    M  ...   0   \n",
       "41283          Expedited  JNE3501     JNE3501-KR-M    kurta    M  ...   0   \n",
       "52321          Expedited  JNE3769     JNE3769-KR-L    kurta    L  ...   0   \n",
       "52324          Expedited  JNE3769     JNE3769-KR-L    kurta    L  ...   1   \n",
       "79835          Expedited    J0329       J0329-KR-L    kurta    L  ...   0   \n",
       "79836          Expedited    J0329       J0329-KR-L    kurta    L  ...   0   \n",
       "85781          Expedited   SET323  SET323-KR-NP-XL      Set   XL  ...   1   \n",
       "85782          Expedited   SET323  SET323-KR-NP-XL      Set   XL  ...   1   \n",
       "86409          Expedited  MEN5025  MEN5025-KR-XXXL    kurta  3XL  ...   1   \n",
       "86410          Expedited  MEN5025  MEN5025-KR-XXXL    kurta  3XL  ...   1   \n",
       "98945          Expedited    J0230      J0230-SKD-M      Set    M  ...   1   \n",
       "98946          Expedited    J0230      J0230-SKD-M      Set    M  ...   1   \n",
       "\n",
       "      currency  Amount  ship-city     ship-state ship-postal-code  \\\n",
       "30651      INR     0.0   Siliguri    WEST BENGAL         734008.0   \n",
       "30652      INR     0.0   Siliguri    WEST BENGAL         734008.0   \n",
       "41282      INR     0.0  BENGALURU      KARNATAKA         560072.0   \n",
       "41283      INR     0.0  BENGALURU      KARNATAKA         560072.0   \n",
       "52321      INR   545.0      Theni     TAMIL NADU         625579.0   \n",
       "52324      INR   487.0      Theni     TAMIL NADU         625579.0   \n",
       "79835      INR     0.0  ERNAKULAM         KERALA         682017.0   \n",
       "79836      INR     0.0  ERNAKULAM         KERALA         682017.0   \n",
       "85781      INR   939.0       PUNE    MAHARASHTRA         411057.0   \n",
       "85782      INR   939.0       PUNE    MAHARASHTRA         411057.0   \n",
       "86409      INR   533.0  GHAZIABAD  UTTAR PRADESH         201010.0   \n",
       "86410      INR   533.0  GHAZIABAD  UTTAR PRADESH         201010.0   \n",
       "98945      INR  1163.0   Zirakpur         Punjab         140603.0   \n",
       "98946      INR  1163.0   Zirakpur         Punjab         140603.0   \n",
       "\n",
       "      ship-country                                 promotion-ids    B2B  \\\n",
       "30651           IN                                       No_Data  False   \n",
       "30652           IN                                       No_Data  False   \n",
       "41282           IN                                       No_Data  False   \n",
       "41283           IN                                       No_Data  False   \n",
       "52321           IN  IN Core Free Shipping 2015/04/08 23-48-5-108  False   \n",
       "52324           IN  IN Core Free Shipping 2015/04/08 23-48-5-108  False   \n",
       "79835           IN                                       No_Data  False   \n",
       "79836           IN                                       No_Data  False   \n",
       "85781           IN  IN Core Free Shipping 2015/04/08 23-48-5-108  False   \n",
       "85782           IN  IN Core Free Shipping 2015/04/08 23-48-5-108  False   \n",
       "86409           IN  IN Core Free Shipping 2015/04/08 23-48-5-108  False   \n",
       "86410           IN  IN Core Free Shipping 2015/04/08 23-48-5-108  False   \n",
       "98945           IN  IN Core Free Shipping 2015/04/08 23-48-5-108  False   \n",
       "98946           IN  IN Core Free Shipping 2015/04/08 23-48-5-108  False   \n",
       "\n",
       "           fulfilled-by  \n",
       "30651  Amazon Easy Ship  \n",
       "30652  Amazon Easy Ship  \n",
       "41282  Amazon Easy Ship  \n",
       "41283  Amazon Easy Ship  \n",
       "52321  Amazon Easy Ship  \n",
       "52324  Amazon Easy Ship  \n",
       "79835  Amazon Easy Ship  \n",
       "79836  Amazon Easy Ship  \n",
       "85781  Amazon Easy Ship  \n",
       "85782  Amazon Easy Ship  \n",
       "86409  Amazon Easy Ship  \n",
       "86410  Amazon Easy Ship  \n",
       "98945  Amazon Easy Ship  \n",
       "98946  Amazon Easy Ship  \n",
       "\n",
       "[14 rows x 22 columns]"
      ]
     },
     "execution_count": 30,
     "metadata": {},
     "output_type": "execute_result"
    }
   ],
   "source": [
    "# This returns all rows where the combination of 'Order ID', 'ASIN', and 'SKU' appears more than once.\n",
    "df[df.duplicated(subset=['Order ID', 'ASIN', 'SKU'], keep=False)]\n"
   ]
  },
  {
   "cell_type": "code",
   "execution_count": 31,
   "id": "70abde56",
   "metadata": {
    "execution": {
     "iopub.execute_input": "2025-06-01T08:02:34.847407Z",
     "iopub.status.busy": "2025-06-01T08:02:34.846700Z",
     "iopub.status.idle": "2025-06-01T08:02:34.903146Z",
     "shell.execute_reply": "2025-06-01T08:02:34.902009Z"
    },
    "papermill": {
     "duration": 0.082082,
     "end_time": "2025-06-01T08:02:34.904679",
     "exception": false,
     "start_time": "2025-06-01T08:02:34.822597",
     "status": "completed"
    },
    "tags": []
   },
   "outputs": [
    {
     "data": {
      "text/plain": [
       "14"
      ]
     },
     "execution_count": 31,
     "metadata": {},
     "output_type": "execute_result"
    }
   ],
   "source": [
    "# Count the total number of duplicated rows based on the combination of 'Order ID', 'ASIN', and 'SKU'\n",
    "df.duplicated(subset=['Order ID', 'ASIN', 'SKU'], keep=False).sum()"
   ]
  },
  {
   "cell_type": "markdown",
   "id": "f22e4add",
   "metadata": {
    "papermill": {
     "duration": 0.022217,
     "end_time": "2025-06-01T08:02:34.950416",
     "exception": false,
     "start_time": "2025-06-01T08:02:34.928199",
     "status": "completed"
    },
    "tags": []
   },
   "source": [
    "# 🚫 Handling Duplicate Values"
   ]
  },
  {
   "cell_type": "code",
   "execution_count": 32,
   "id": "bd289e56",
   "metadata": {
    "execution": {
     "iopub.execute_input": "2025-06-01T08:02:34.998134Z",
     "iopub.status.busy": "2025-06-01T08:02:34.997431Z",
     "iopub.status.idle": "2025-06-01T08:02:35.071754Z",
     "shell.execute_reply": "2025-06-01T08:02:35.070814Z"
    },
    "papermill": {
     "duration": 0.100441,
     "end_time": "2025-06-01T08:02:35.073589",
     "exception": false,
     "start_time": "2025-06-01T08:02:34.973148",
     "status": "completed"
    },
    "tags": []
   },
   "outputs": [],
   "source": [
    "# Removes duplicate rows where the combination of 'Order ID', 'ASIN', and 'SKU' is repeated\n",
    "# Keeps only the first occurrence and drops the rest\n",
    "df = df.drop_duplicates(subset=['Order ID', 'ASIN', 'SKU'], keep='first')\n"
   ]
  },
  {
   "cell_type": "code",
   "execution_count": 33,
   "id": "54ad116a",
   "metadata": {
    "execution": {
     "iopub.execute_input": "2025-06-01T08:02:35.121620Z",
     "iopub.status.busy": "2025-06-01T08:02:35.121326Z",
     "iopub.status.idle": "2025-06-01T08:02:35.178766Z",
     "shell.execute_reply": "2025-06-01T08:02:35.177793Z"
    },
    "papermill": {
     "duration": 0.08302,
     "end_time": "2025-06-01T08:02:35.180355",
     "exception": false,
     "start_time": "2025-06-01T08:02:35.097335",
     "status": "completed"
    },
    "tags": []
   },
   "outputs": [
    {
     "data": {
      "text/plain": [
       "0"
      ]
     },
     "execution_count": 33,
     "metadata": {},
     "output_type": "execute_result"
    }
   ],
   "source": [
    "# Count how many rows have duplicate combinations of 'Order ID', 'ASIN', and 'SKU'\n",
    "# This helps confirm if any duplicate product entries still exist for the same order\n",
    "df.duplicated(subset=['Order ID', 'ASIN', 'SKU'], keep=False).sum()\n"
   ]
  },
  {
   "cell_type": "code",
   "execution_count": 34,
   "id": "d552f07b",
   "metadata": {
    "execution": {
     "iopub.execute_input": "2025-06-01T08:02:35.227566Z",
     "iopub.status.busy": "2025-06-01T08:02:35.226701Z",
     "iopub.status.idle": "2025-06-01T08:02:35.245428Z",
     "shell.execute_reply": "2025-06-01T08:02:35.244527Z"
    },
    "papermill": {
     "duration": 0.043752,
     "end_time": "2025-06-01T08:02:35.246819",
     "exception": false,
     "start_time": "2025-06-01T08:02:35.203067",
     "status": "completed"
    },
    "tags": []
   },
   "outputs": [
    {
     "data": {
      "text/html": [
       "<div>\n",
       "<style scoped>\n",
       "    .dataframe tbody tr th:only-of-type {\n",
       "        vertical-align: middle;\n",
       "    }\n",
       "\n",
       "    .dataframe tbody tr th {\n",
       "        vertical-align: top;\n",
       "    }\n",
       "\n",
       "    .dataframe thead th {\n",
       "        text-align: right;\n",
       "    }\n",
       "</style>\n",
       "<table border=\"1\" class=\"dataframe\">\n",
       "  <thead>\n",
       "    <tr style=\"text-align: right;\">\n",
       "      <th></th>\n",
       "      <th>Order ID</th>\n",
       "      <th>Date</th>\n",
       "      <th>Status</th>\n",
       "      <th>Fulfilment</th>\n",
       "      <th>Sales Channel</th>\n",
       "      <th>ship-service-level</th>\n",
       "      <th>Style</th>\n",
       "      <th>SKU</th>\n",
       "      <th>Category</th>\n",
       "      <th>Size</th>\n",
       "      <th>...</th>\n",
       "      <th>Qty</th>\n",
       "      <th>currency</th>\n",
       "      <th>Amount</th>\n",
       "      <th>ship-city</th>\n",
       "      <th>ship-state</th>\n",
       "      <th>ship-postal-code</th>\n",
       "      <th>ship-country</th>\n",
       "      <th>promotion-ids</th>\n",
       "      <th>B2B</th>\n",
       "      <th>fulfilled-by</th>\n",
       "    </tr>\n",
       "  </thead>\n",
       "  <tbody>\n",
       "    <tr>\n",
       "      <th>0</th>\n",
       "      <td>405-8078784-5731545</td>\n",
       "      <td>2022-04-30</td>\n",
       "      <td>Cancelled</td>\n",
       "      <td>Merchant</td>\n",
       "      <td>Amazon.in</td>\n",
       "      <td>Standard</td>\n",
       "      <td>SET389</td>\n",
       "      <td>SET389-KR-NP-S</td>\n",
       "      <td>Set</td>\n",
       "      <td>S</td>\n",
       "      <td>...</td>\n",
       "      <td>0</td>\n",
       "      <td>INR</td>\n",
       "      <td>0.0</td>\n",
       "      <td>MUMBAI</td>\n",
       "      <td>MAHARASHTRA</td>\n",
       "      <td>400081.0</td>\n",
       "      <td>IN</td>\n",
       "      <td>No_Data</td>\n",
       "      <td>False</td>\n",
       "      <td>Easy Ship</td>\n",
       "    </tr>\n",
       "    <tr>\n",
       "      <th>1</th>\n",
       "      <td>171-9198151-1101146</td>\n",
       "      <td>2022-04-30</td>\n",
       "      <td>Shipped - Delivered to Buyer</td>\n",
       "      <td>Merchant</td>\n",
       "      <td>Amazon.in</td>\n",
       "      <td>Standard</td>\n",
       "      <td>JNE3781</td>\n",
       "      <td>JNE3781-KR-XXXL</td>\n",
       "      <td>kurta</td>\n",
       "      <td>3XL</td>\n",
       "      <td>...</td>\n",
       "      <td>1</td>\n",
       "      <td>INR</td>\n",
       "      <td>406.0</td>\n",
       "      <td>BENGALURU</td>\n",
       "      <td>KARNATAKA</td>\n",
       "      <td>560085.0</td>\n",
       "      <td>IN</td>\n",
       "      <td>Amazon PLCC Free-Financing Universal Merchant ...</td>\n",
       "      <td>False</td>\n",
       "      <td>Easy Ship</td>\n",
       "    </tr>\n",
       "    <tr>\n",
       "      <th>2</th>\n",
       "      <td>404-0687676-7273146</td>\n",
       "      <td>2022-04-30</td>\n",
       "      <td>Shipped</td>\n",
       "      <td>Amazon</td>\n",
       "      <td>Amazon.in</td>\n",
       "      <td>Expedited</td>\n",
       "      <td>JNE3371</td>\n",
       "      <td>JNE3371-KR-XL</td>\n",
       "      <td>kurta</td>\n",
       "      <td>XL</td>\n",
       "      <td>...</td>\n",
       "      <td>1</td>\n",
       "      <td>INR</td>\n",
       "      <td>329.0</td>\n",
       "      <td>NAVI MUMBAI</td>\n",
       "      <td>MAHARASHTRA</td>\n",
       "      <td>410210.0</td>\n",
       "      <td>IN</td>\n",
       "      <td>IN Core Free Shipping 2015/04/08 23-48-5-108</td>\n",
       "      <td>True</td>\n",
       "      <td>Amazon Easy Ship</td>\n",
       "    </tr>\n",
       "  </tbody>\n",
       "</table>\n",
       "<p>3 rows × 22 columns</p>\n",
       "</div>"
      ],
      "text/plain": [
       "              Order ID       Date                        Status Fulfilment  \\\n",
       "0  405-8078784-5731545 2022-04-30                     Cancelled   Merchant   \n",
       "1  171-9198151-1101146 2022-04-30  Shipped - Delivered to Buyer   Merchant   \n",
       "2  404-0687676-7273146 2022-04-30                       Shipped     Amazon   \n",
       "\n",
       "  Sales Channel  ship-service-level    Style              SKU Category Size  \\\n",
       "0      Amazon.in           Standard   SET389   SET389-KR-NP-S      Set    S   \n",
       "1      Amazon.in           Standard  JNE3781  JNE3781-KR-XXXL    kurta  3XL   \n",
       "2      Amazon.in          Expedited  JNE3371    JNE3371-KR-XL    kurta   XL   \n",
       "\n",
       "   ... Qty currency  Amount    ship-city   ship-state ship-postal-code  \\\n",
       "0  ...   0      INR     0.0       MUMBAI  MAHARASHTRA         400081.0   \n",
       "1  ...   1      INR   406.0    BENGALURU    KARNATAKA         560085.0   \n",
       "2  ...   1      INR   329.0  NAVI MUMBAI  MAHARASHTRA         410210.0   \n",
       "\n",
       "  ship-country                                      promotion-ids    B2B  \\\n",
       "0           IN                                            No_Data  False   \n",
       "1           IN  Amazon PLCC Free-Financing Universal Merchant ...  False   \n",
       "2           IN       IN Core Free Shipping 2015/04/08 23-48-5-108   True   \n",
       "\n",
       "       fulfilled-by  \n",
       "0         Easy Ship  \n",
       "1         Easy Ship  \n",
       "2  Amazon Easy Ship  \n",
       "\n",
       "[3 rows x 22 columns]"
      ]
     },
     "execution_count": 34,
     "metadata": {},
     "output_type": "execute_result"
    }
   ],
   "source": [
    "df.head(3)"
   ]
  },
  {
   "cell_type": "markdown",
   "id": "f5c74d96",
   "metadata": {
    "papermill": {
     "duration": 0.02249,
     "end_time": "2025-06-01T08:02:35.292545",
     "exception": false,
     "start_time": "2025-06-01T08:02:35.270055",
     "status": "completed"
    },
    "tags": []
   },
   "source": [
    "# 🔢 Convert `ship-postal-code` to String (Remove .0)"
   ]
  },
  {
   "cell_type": "code",
   "execution_count": 35,
   "id": "0891f467",
   "metadata": {
    "execution": {
     "iopub.execute_input": "2025-06-01T08:02:35.339804Z",
     "iopub.status.busy": "2025-06-01T08:02:35.339525Z",
     "iopub.status.idle": "2025-06-01T08:02:35.438213Z",
     "shell.execute_reply": "2025-06-01T08:02:35.437263Z"
    },
    "papermill": {
     "duration": 0.124942,
     "end_time": "2025-06-01T08:02:35.440021",
     "exception": false,
     "start_time": "2025-06-01T08:02:35.315079",
     "status": "completed"
    },
    "tags": []
   },
   "outputs": [],
   "source": [
    "# Convert 'ship-postal-code' to string and remove any trailing '.0' (common when numeric postal codes are read as floats)\n",
    "df.loc[:, 'ship-postal-code'] = df['ship-postal-code'].astype(str).str.replace(r'\\.0$', '', regex=True)\n"
   ]
  },
  {
   "cell_type": "code",
   "execution_count": 36,
   "id": "a806b5f5",
   "metadata": {
    "execution": {
     "iopub.execute_input": "2025-06-01T08:02:35.489730Z",
     "iopub.status.busy": "2025-06-01T08:02:35.489408Z",
     "iopub.status.idle": "2025-06-01T08:02:35.511146Z",
     "shell.execute_reply": "2025-06-01T08:02:35.510040Z"
    },
    "papermill": {
     "duration": 0.048299,
     "end_time": "2025-06-01T08:02:35.512771",
     "exception": false,
     "start_time": "2025-06-01T08:02:35.464472",
     "status": "completed"
    },
    "tags": []
   },
   "outputs": [
    {
     "data": {
      "text/html": [
       "<div>\n",
       "<style scoped>\n",
       "    .dataframe tbody tr th:only-of-type {\n",
       "        vertical-align: middle;\n",
       "    }\n",
       "\n",
       "    .dataframe tbody tr th {\n",
       "        vertical-align: top;\n",
       "    }\n",
       "\n",
       "    .dataframe thead th {\n",
       "        text-align: right;\n",
       "    }\n",
       "</style>\n",
       "<table border=\"1\" class=\"dataframe\">\n",
       "  <thead>\n",
       "    <tr style=\"text-align: right;\">\n",
       "      <th></th>\n",
       "      <th>Order ID</th>\n",
       "      <th>Date</th>\n",
       "      <th>Status</th>\n",
       "      <th>Fulfilment</th>\n",
       "      <th>Sales Channel</th>\n",
       "      <th>ship-service-level</th>\n",
       "      <th>Style</th>\n",
       "      <th>SKU</th>\n",
       "      <th>Category</th>\n",
       "      <th>Size</th>\n",
       "      <th>...</th>\n",
       "      <th>Qty</th>\n",
       "      <th>currency</th>\n",
       "      <th>Amount</th>\n",
       "      <th>ship-city</th>\n",
       "      <th>ship-state</th>\n",
       "      <th>ship-postal-code</th>\n",
       "      <th>ship-country</th>\n",
       "      <th>promotion-ids</th>\n",
       "      <th>B2B</th>\n",
       "      <th>fulfilled-by</th>\n",
       "    </tr>\n",
       "  </thead>\n",
       "  <tbody>\n",
       "    <tr>\n",
       "      <th>0</th>\n",
       "      <td>405-8078784-5731545</td>\n",
       "      <td>2022-04-30</td>\n",
       "      <td>Cancelled</td>\n",
       "      <td>Merchant</td>\n",
       "      <td>Amazon.in</td>\n",
       "      <td>Standard</td>\n",
       "      <td>SET389</td>\n",
       "      <td>SET389-KR-NP-S</td>\n",
       "      <td>Set</td>\n",
       "      <td>S</td>\n",
       "      <td>...</td>\n",
       "      <td>0</td>\n",
       "      <td>INR</td>\n",
       "      <td>0.0</td>\n",
       "      <td>MUMBAI</td>\n",
       "      <td>MAHARASHTRA</td>\n",
       "      <td>400081</td>\n",
       "      <td>IN</td>\n",
       "      <td>No_Data</td>\n",
       "      <td>False</td>\n",
       "      <td>Easy Ship</td>\n",
       "    </tr>\n",
       "    <tr>\n",
       "      <th>1</th>\n",
       "      <td>171-9198151-1101146</td>\n",
       "      <td>2022-04-30</td>\n",
       "      <td>Shipped - Delivered to Buyer</td>\n",
       "      <td>Merchant</td>\n",
       "      <td>Amazon.in</td>\n",
       "      <td>Standard</td>\n",
       "      <td>JNE3781</td>\n",
       "      <td>JNE3781-KR-XXXL</td>\n",
       "      <td>kurta</td>\n",
       "      <td>3XL</td>\n",
       "      <td>...</td>\n",
       "      <td>1</td>\n",
       "      <td>INR</td>\n",
       "      <td>406.0</td>\n",
       "      <td>BENGALURU</td>\n",
       "      <td>KARNATAKA</td>\n",
       "      <td>560085</td>\n",
       "      <td>IN</td>\n",
       "      <td>Amazon PLCC Free-Financing Universal Merchant ...</td>\n",
       "      <td>False</td>\n",
       "      <td>Easy Ship</td>\n",
       "    </tr>\n",
       "    <tr>\n",
       "      <th>2</th>\n",
       "      <td>404-0687676-7273146</td>\n",
       "      <td>2022-04-30</td>\n",
       "      <td>Shipped</td>\n",
       "      <td>Amazon</td>\n",
       "      <td>Amazon.in</td>\n",
       "      <td>Expedited</td>\n",
       "      <td>JNE3371</td>\n",
       "      <td>JNE3371-KR-XL</td>\n",
       "      <td>kurta</td>\n",
       "      <td>XL</td>\n",
       "      <td>...</td>\n",
       "      <td>1</td>\n",
       "      <td>INR</td>\n",
       "      <td>329.0</td>\n",
       "      <td>NAVI MUMBAI</td>\n",
       "      <td>MAHARASHTRA</td>\n",
       "      <td>410210</td>\n",
       "      <td>IN</td>\n",
       "      <td>IN Core Free Shipping 2015/04/08 23-48-5-108</td>\n",
       "      <td>True</td>\n",
       "      <td>Amazon Easy Ship</td>\n",
       "    </tr>\n",
       "  </tbody>\n",
       "</table>\n",
       "<p>3 rows × 22 columns</p>\n",
       "</div>"
      ],
      "text/plain": [
       "              Order ID       Date                        Status Fulfilment  \\\n",
       "0  405-8078784-5731545 2022-04-30                     Cancelled   Merchant   \n",
       "1  171-9198151-1101146 2022-04-30  Shipped - Delivered to Buyer   Merchant   \n",
       "2  404-0687676-7273146 2022-04-30                       Shipped     Amazon   \n",
       "\n",
       "  Sales Channel  ship-service-level    Style              SKU Category Size  \\\n",
       "0      Amazon.in           Standard   SET389   SET389-KR-NP-S      Set    S   \n",
       "1      Amazon.in           Standard  JNE3781  JNE3781-KR-XXXL    kurta  3XL   \n",
       "2      Amazon.in          Expedited  JNE3371    JNE3371-KR-XL    kurta   XL   \n",
       "\n",
       "   ... Qty currency  Amount    ship-city   ship-state ship-postal-code  \\\n",
       "0  ...   0      INR     0.0       MUMBAI  MAHARASHTRA           400081   \n",
       "1  ...   1      INR   406.0    BENGALURU    KARNATAKA           560085   \n",
       "2  ...   1      INR   329.0  NAVI MUMBAI  MAHARASHTRA           410210   \n",
       "\n",
       "  ship-country                                      promotion-ids    B2B  \\\n",
       "0           IN                                            No_Data  False   \n",
       "1           IN  Amazon PLCC Free-Financing Universal Merchant ...  False   \n",
       "2           IN       IN Core Free Shipping 2015/04/08 23-48-5-108   True   \n",
       "\n",
       "       fulfilled-by  \n",
       "0         Easy Ship  \n",
       "1         Easy Ship  \n",
       "2  Amazon Easy Ship  \n",
       "\n",
       "[3 rows x 22 columns]"
      ]
     },
     "execution_count": 36,
     "metadata": {},
     "output_type": "execute_result"
    }
   ],
   "source": [
    "df.head(3)"
   ]
  },
  {
   "cell_type": "markdown",
   "id": "2e787a0d",
   "metadata": {
    "papermill": {
     "duration": 0.024021,
     "end_time": "2025-06-01T08:02:35.560433",
     "exception": false,
     "start_time": "2025-06-01T08:02:35.536412",
     "status": "completed"
    },
    "tags": []
   },
   "source": [
    "# 🏷️ Renaming Column Names"
   ]
  },
  {
   "cell_type": "code",
   "execution_count": 37,
   "id": "e901bc0e",
   "metadata": {
    "execution": {
     "iopub.execute_input": "2025-06-01T08:02:35.608132Z",
     "iopub.status.busy": "2025-06-01T08:02:35.607768Z",
     "iopub.status.idle": "2025-06-01T08:02:35.613492Z",
     "shell.execute_reply": "2025-06-01T08:02:35.612509Z"
    },
    "papermill": {
     "duration": 0.03128,
     "end_time": "2025-06-01T08:02:35.614870",
     "exception": false,
     "start_time": "2025-06-01T08:02:35.583590",
     "status": "completed"
    },
    "tags": []
   },
   "outputs": [
    {
     "data": {
      "text/plain": [
       "['Order ID',\n",
       " 'Date',\n",
       " 'Status',\n",
       " 'Fulfilment',\n",
       " 'Sales Channel ',\n",
       " 'ship-service-level',\n",
       " 'Style',\n",
       " 'SKU',\n",
       " 'Category',\n",
       " 'Size',\n",
       " 'ASIN',\n",
       " 'Courier Status',\n",
       " 'Qty',\n",
       " 'currency',\n",
       " 'Amount',\n",
       " 'ship-city',\n",
       " 'ship-state',\n",
       " 'ship-postal-code',\n",
       " 'ship-country',\n",
       " 'promotion-ids',\n",
       " 'B2B',\n",
       " 'fulfilled-by']"
      ]
     },
     "execution_count": 37,
     "metadata": {},
     "output_type": "execute_result"
    }
   ],
   "source": [
    "# Returns a list of all column names in the DataFrame\n",
    "df.columns.tolist()"
   ]
  },
  {
   "cell_type": "code",
   "execution_count": 38,
   "id": "79d8c7ce",
   "metadata": {
    "execution": {
     "iopub.execute_input": "2025-06-01T08:02:35.662632Z",
     "iopub.status.busy": "2025-06-01T08:02:35.662350Z",
     "iopub.status.idle": "2025-06-01T08:02:35.775297Z",
     "shell.execute_reply": "2025-06-01T08:02:35.774387Z"
    },
    "papermill": {
     "duration": 0.138766,
     "end_time": "2025-06-01T08:02:35.777012",
     "exception": false,
     "start_time": "2025-06-01T08:02:35.638246",
     "status": "completed"
    },
    "tags": []
   },
   "outputs": [],
   "source": [
    "# Create a copy of the original DataFrame to avoid modifying it directly\n",
    "df = df.copy()\n",
    "\n",
    "# Rename multiple columns to improve readability and maintain consistent naming conventions\n",
    "df.rename(columns={\n",
    "    'Order ID': 'Order_ID',                     # Replaces space with underscore\n",
    "    'currency': 'Currency',                     # Capitalizes for uniformity\n",
    "    'ship-service-level': 'Ship Service level', # Formats service level column name\n",
    "    'Qty': 'Quantity',                          # Expands abbreviation for clarity\n",
    "    'ship-city': 'City',                        # Simplifies to standard label\n",
    "    'ship-state': 'State',                      # Simplifies to standard label\n",
    "    'ship-postal-code': 'Postal Code',          # Adds space for consistency\n",
    "    'fulfilled-by': 'Fulfilled By',             # Formats text casing\n",
    "    'ship-country': 'Country',                  # Simplifies column name\n",
    "    'promotion-ids': 'Promotion_IDs',           # Uses underscore for readability\n",
    "    'Courier Status': 'Courier_Status'          # Replaces space with underscore\n",
    "}, inplace=True)  # Apply changes directly to the DataFrame\n"
   ]
  },
  {
   "cell_type": "code",
   "execution_count": 39,
   "id": "dc116568",
   "metadata": {
    "execution": {
     "iopub.execute_input": "2025-06-01T08:02:35.826533Z",
     "iopub.status.busy": "2025-06-01T08:02:35.826240Z",
     "iopub.status.idle": "2025-06-01T08:02:35.832086Z",
     "shell.execute_reply": "2025-06-01T08:02:35.831272Z"
    },
    "papermill": {
     "duration": 0.033008,
     "end_time": "2025-06-01T08:02:35.833547",
     "exception": false,
     "start_time": "2025-06-01T08:02:35.800539",
     "status": "completed"
    },
    "tags": []
   },
   "outputs": [
    {
     "data": {
      "text/plain": [
       "Index(['Order_ID', 'Date', 'Status', 'Fulfilment', 'Sales Channel ',\n",
       "       'Ship Service level', 'Style', 'SKU', 'Category', 'Size', 'ASIN',\n",
       "       'Courier_Status', 'Quantity', 'Currency', 'Amount', 'City', 'State',\n",
       "       'Postal Code', 'Country', 'Promotion_IDs', 'B2B', 'Fulfilled By'],\n",
       "      dtype='object')"
      ]
     },
     "execution_count": 39,
     "metadata": {},
     "output_type": "execute_result"
    }
   ],
   "source": [
    "# Displays the current list of column names in the DataFrame (Index object)\n",
    "df.columns"
   ]
  },
  {
   "cell_type": "markdown",
   "id": "ad68f60c",
   "metadata": {
    "papermill": {
     "duration": 0.023331,
     "end_time": "2025-06-01T08:02:35.880623",
     "exception": false,
     "start_time": "2025-06-01T08:02:35.857292",
     "status": "completed"
    },
    "tags": []
   },
   "source": [
    "# 📊 Exploratory Data Analysis (EDA) – Summary Statistics"
   ]
  },
  {
   "cell_type": "code",
   "execution_count": 40,
   "id": "2dd6c59f",
   "metadata": {
    "execution": {
     "iopub.execute_input": "2025-06-01T08:02:35.928744Z",
     "iopub.status.busy": "2025-06-01T08:02:35.928478Z",
     "iopub.status.idle": "2025-06-01T08:02:35.980133Z",
     "shell.execute_reply": "2025-06-01T08:02:35.979266Z"
    },
    "papermill": {
     "duration": 0.077632,
     "end_time": "2025-06-01T08:02:35.981773",
     "exception": false,
     "start_time": "2025-06-01T08:02:35.904141",
     "status": "completed"
    },
    "tags": []
   },
   "outputs": [
    {
     "data": {
      "text/html": [
       "<div>\n",
       "<style scoped>\n",
       "    .dataframe tbody tr th:only-of-type {\n",
       "        vertical-align: middle;\n",
       "    }\n",
       "\n",
       "    .dataframe tbody tr th {\n",
       "        vertical-align: top;\n",
       "    }\n",
       "\n",
       "    .dataframe thead th {\n",
       "        text-align: right;\n",
       "    }\n",
       "</style>\n",
       "<table border=\"1\" class=\"dataframe\">\n",
       "  <thead>\n",
       "    <tr style=\"text-align: right;\">\n",
       "      <th></th>\n",
       "      <th>Date</th>\n",
       "      <th>Quantity</th>\n",
       "      <th>Amount</th>\n",
       "    </tr>\n",
       "  </thead>\n",
       "  <tbody>\n",
       "    <tr>\n",
       "      <th>count</th>\n",
       "      <td>128942</td>\n",
       "      <td>128942.000000</td>\n",
       "      <td>128942.000000</td>\n",
       "    </tr>\n",
       "    <tr>\n",
       "      <th>mean</th>\n",
       "      <td>2022-05-12 11:47:01.380155648</td>\n",
       "      <td>0.904647</td>\n",
       "      <td>556.620972</td>\n",
       "    </tr>\n",
       "    <tr>\n",
       "      <th>min</th>\n",
       "      <td>2022-03-31 00:00:00</td>\n",
       "      <td>0.000000</td>\n",
       "      <td>0.000000</td>\n",
       "    </tr>\n",
       "    <tr>\n",
       "      <th>25%</th>\n",
       "      <td>2022-04-20 00:00:00</td>\n",
       "      <td>1.000000</td>\n",
       "      <td>376.000000</td>\n",
       "    </tr>\n",
       "    <tr>\n",
       "      <th>50%</th>\n",
       "      <td>2022-05-10 00:00:00</td>\n",
       "      <td>1.000000</td>\n",
       "      <td>545.000000</td>\n",
       "    </tr>\n",
       "    <tr>\n",
       "      <th>75%</th>\n",
       "      <td>2022-06-04 00:00:00</td>\n",
       "      <td>1.000000</td>\n",
       "      <td>760.000000</td>\n",
       "    </tr>\n",
       "    <tr>\n",
       "      <th>max</th>\n",
       "      <td>2022-06-29 00:00:00</td>\n",
       "      <td>15.000000</td>\n",
       "      <td>5584.000000</td>\n",
       "    </tr>\n",
       "    <tr>\n",
       "      <th>std</th>\n",
       "      <td>NaN</td>\n",
       "      <td>0.314759</td>\n",
       "      <td>346.510864</td>\n",
       "    </tr>\n",
       "  </tbody>\n",
       "</table>\n",
       "</div>"
      ],
      "text/plain": [
       "                                Date       Quantity         Amount\n",
       "count                         128942  128942.000000  128942.000000\n",
       "mean   2022-05-12 11:47:01.380155648       0.904647     556.620972\n",
       "min              2022-03-31 00:00:00       0.000000       0.000000\n",
       "25%              2022-04-20 00:00:00       1.000000     376.000000\n",
       "50%              2022-05-10 00:00:00       1.000000     545.000000\n",
       "75%              2022-06-04 00:00:00       1.000000     760.000000\n",
       "max              2022-06-29 00:00:00      15.000000    5584.000000\n",
       "std                              NaN       0.314759     346.510864"
      ]
     },
     "execution_count": 40,
     "metadata": {},
     "output_type": "execute_result"
    }
   ],
   "source": [
    "# Generate descriptive statistics of the DataFrame `df`,\n",
    "# including count, mean, std deviation, min, max, and quartiles for numeric columns.\n",
    "df.describe()"
   ]
  },
  {
   "cell_type": "code",
   "execution_count": 41,
   "id": "c1fd0b34",
   "metadata": {
    "execution": {
     "iopub.execute_input": "2025-06-01T08:02:36.031739Z",
     "iopub.status.busy": "2025-06-01T08:02:36.030899Z",
     "iopub.status.idle": "2025-06-01T08:02:36.038827Z",
     "shell.execute_reply": "2025-06-01T08:02:36.037450Z"
    },
    "papermill": {
     "duration": 0.034311,
     "end_time": "2025-06-01T08:02:36.040610",
     "exception": false,
     "start_time": "2025-06-01T08:02:36.006299",
     "status": "completed"
    },
    "tags": []
   },
   "outputs": [
    {
     "data": {
      "text/plain": [
       "545.0"
      ]
     },
     "execution_count": 41,
     "metadata": {},
     "output_type": "execute_result"
    }
   ],
   "source": [
    "# Calculate and return the median (middle value) of the 'Amount' column in the DataFrame `df`.\n",
    "df['Amount'].median()\n"
   ]
  },
  {
   "cell_type": "code",
   "execution_count": 42,
   "id": "a52c6467",
   "metadata": {
    "execution": {
     "iopub.execute_input": "2025-06-01T08:02:36.090294Z",
     "iopub.status.busy": "2025-06-01T08:02:36.089938Z",
     "iopub.status.idle": "2025-06-01T08:02:36.104784Z",
     "shell.execute_reply": "2025-06-01T08:02:36.104066Z"
    },
    "papermill": {
     "duration": 0.041242,
     "end_time": "2025-06-01T08:02:36.106406",
     "exception": false,
     "start_time": "2025-06-01T08:02:36.065164",
     "status": "completed"
    },
    "tags": []
   },
   "outputs": [
    {
     "data": {
      "text/plain": [
       "State\n",
       "MAHARASHTRA               22289\n",
       "KARNATAKA                 17320\n",
       "TAMIL NADU                11480\n",
       "TELANGANA                 11327\n",
       "UTTAR PRADESH             10635\n",
       "                          ...  \n",
       "Mizoram                       1\n",
       "rajsthan                      1\n",
       "Punjab/Mohali/Zirakpur        1\n",
       "Rajsthan                      1\n",
       "orissa                        1\n",
       "Name: count, Length: 69, dtype: int64"
      ]
     },
     "execution_count": 42,
     "metadata": {},
     "output_type": "execute_result"
    }
   ],
   "source": [
    "# Count the occurrences of each unique value in the 'State' column of the DataFrame `df`.\n",
    "df['State'].value_counts()"
   ]
  },
  {
   "cell_type": "code",
   "execution_count": 43,
   "id": "4be404ce",
   "metadata": {
    "execution": {
     "iopub.execute_input": "2025-06-01T08:02:36.156870Z",
     "iopub.status.busy": "2025-06-01T08:02:36.156574Z",
     "iopub.status.idle": "2025-06-01T08:02:36.170071Z",
     "shell.execute_reply": "2025-06-01T08:02:36.169303Z"
    },
    "papermill": {
     "duration": 0.040891,
     "end_time": "2025-06-01T08:02:36.171514",
     "exception": false,
     "start_time": "2025-06-01T08:02:36.130623",
     "status": "completed"
    },
    "tags": []
   },
   "outputs": [
    {
     "data": {
      "text/plain": [
       "0    MAHARASHTRA\n",
       "Name: State, dtype: object"
      ]
     },
     "execution_count": 43,
     "metadata": {},
     "output_type": "execute_result"
    }
   ],
   "source": [
    "# Find the most frequent value(s) (mode) in the 'State' column of the DataFrame `df`.\n",
    "df['State'].mode()\n"
   ]
  },
  {
   "cell_type": "markdown",
   "id": "38ac8f7c",
   "metadata": {
    "papermill": {
     "duration": 0.024105,
     "end_time": "2025-06-01T08:02:36.219907",
     "exception": false,
     "start_time": "2025-06-01T08:02:36.195802",
     "status": "completed"
    },
    "tags": []
   },
   "source": [
    "# 📈 Aggregated Metrics & Key Data Insights"
   ]
  },
  {
   "cell_type": "code",
   "execution_count": 44,
   "id": "405fe8e7",
   "metadata": {
    "execution": {
     "iopub.execute_input": "2025-06-01T08:02:36.270474Z",
     "iopub.status.busy": "2025-06-01T08:02:36.269809Z",
     "iopub.status.idle": "2025-06-01T08:02:36.280859Z",
     "shell.execute_reply": "2025-06-01T08:02:36.280025Z"
    },
    "papermill": {
     "duration": 0.037572,
     "end_time": "2025-06-01T08:02:36.282569",
     "exception": false,
     "start_time": "2025-06-01T08:02:36.244997",
     "status": "completed"
    },
    "tags": []
   },
   "outputs": [
    {
     "data": {
      "text/plain": [
       "array(['IN'], dtype=object)"
      ]
     },
     "execution_count": 44,
     "metadata": {},
     "output_type": "execute_result"
    }
   ],
   "source": [
    "# Get an array of all unique values present in the 'Country' column of the DataFrame `df`.\n",
    "df['Country'].unique()"
   ]
  },
  {
   "cell_type": "code",
   "execution_count": 45,
   "id": "7d1aa539",
   "metadata": {
    "execution": {
     "iopub.execute_input": "2025-06-01T08:02:36.334012Z",
     "iopub.status.busy": "2025-06-01T08:02:36.333702Z",
     "iopub.status.idle": "2025-06-01T08:02:36.346759Z",
     "shell.execute_reply": "2025-06-01T08:02:36.345694Z"
    },
    "papermill": {
     "duration": 0.040666,
     "end_time": "2025-06-01T08:02:36.348518",
     "exception": false,
     "start_time": "2025-06-01T08:02:36.307852",
     "status": "completed"
    },
    "tags": []
   },
   "outputs": [
    {
     "data": {
      "text/plain": [
       "array(['Cancelled', 'Shipped - Delivered to Buyer', 'Shipped',\n",
       "       'Shipped - Returned to Seller', 'Shipped - Rejected by Buyer',\n",
       "       'Shipped - Lost in Transit', 'Shipped - Out for Delivery',\n",
       "       'Shipped - Returning to Seller', 'Shipped - Picked Up', 'Pending',\n",
       "       'Pending - Waiting for Pick Up', 'Shipped - Damaged', 'Shipping'],\n",
       "      dtype=object)"
      ]
     },
     "execution_count": 45,
     "metadata": {},
     "output_type": "execute_result"
    }
   ],
   "source": [
    "# Retrieve all unique values from the 'Status' column in the DataFrame `df`.\n",
    "df['Status'].unique()\n"
   ]
  },
  {
   "cell_type": "code",
   "execution_count": 46,
   "id": "60a23ff7",
   "metadata": {
    "execution": {
     "iopub.execute_input": "2025-06-01T08:02:36.399345Z",
     "iopub.status.busy": "2025-06-01T08:02:36.399052Z",
     "iopub.status.idle": "2025-06-01T08:02:36.413099Z",
     "shell.execute_reply": "2025-06-01T08:02:36.411911Z"
    },
    "papermill": {
     "duration": 0.041521,
     "end_time": "2025-06-01T08:02:36.414690",
     "exception": false,
     "start_time": "2025-06-01T08:02:36.373169",
     "status": "completed"
    },
    "tags": []
   },
   "outputs": [
    {
     "data": {
      "text/plain": [
       "13"
      ]
     },
     "execution_count": 46,
     "metadata": {},
     "output_type": "execute_result"
    }
   ],
   "source": [
    "# Count the number of unique values in the 'Status' column of the DataFrame `df`.\n",
    "df['Status'].nunique()\n"
   ]
  },
  {
   "cell_type": "code",
   "execution_count": 47,
   "id": "063cf043",
   "metadata": {
    "execution": {
     "iopub.execute_input": "2025-06-01T08:02:36.465524Z",
     "iopub.status.busy": "2025-06-01T08:02:36.465215Z",
     "iopub.status.idle": "2025-06-01T08:02:36.469780Z",
     "shell.execute_reply": "2025-06-01T08:02:36.468995Z"
    },
    "papermill": {
     "duration": 0.032247,
     "end_time": "2025-06-01T08:02:36.471282",
     "exception": false,
     "start_time": "2025-06-01T08:02:36.439035",
     "status": "completed"
    },
    "tags": []
   },
   "outputs": [],
   "source": [
    "# Define a set named `status_mapping` containing various order status strings,\n",
    "# representing different stages or conditions of an order shipment.\n",
    "status_mapping = {'Cancelled', 'Shipped - Delivered to Buyer', 'Shipped',\n",
    "                  'Shipped - Returned to Seller', 'Shipped - Rejected by Buyer',\n",
    "                  'Shipped - Lost in Transit', 'Shipped - Out for Delivery',\n",
    "                  'Shipped - Returning to Seller', 'Shipped - Picked Up', 'Pending',\n",
    "                  'Pending - Waiting for Pick Up', 'Shipped - Damaged', 'Shipping'}\n"
   ]
  },
  {
   "cell_type": "code",
   "execution_count": 48,
   "id": "b3a34a1d",
   "metadata": {
    "execution": {
     "iopub.execute_input": "2025-06-01T08:02:36.522435Z",
     "iopub.status.busy": "2025-06-01T08:02:36.521977Z",
     "iopub.status.idle": "2025-06-01T08:02:36.527228Z",
     "shell.execute_reply": "2025-06-01T08:02:36.526201Z"
    },
    "papermill": {
     "duration": 0.03339,
     "end_time": "2025-06-01T08:02:36.528940",
     "exception": false,
     "start_time": "2025-06-01T08:02:36.495550",
     "status": "completed"
    },
    "tags": []
   },
   "outputs": [],
   "source": [
    "# Define a dictionary `status_mapping` to map order status strings to numeric codes,\n",
    "# which can be useful for converting categorical status data into numerical form for analysis.\n",
    "status_mapping = {\n",
    "    'Active': 1,\n",
    "    'Inactive': 0,\n",
    "    'Pending': 2\n",
    "}"
   ]
  },
  {
   "cell_type": "code",
   "execution_count": 49,
   "id": "6cdc821a",
   "metadata": {
    "execution": {
     "iopub.execute_input": "2025-06-01T08:02:36.583556Z",
     "iopub.status.busy": "2025-06-01T08:02:36.583205Z",
     "iopub.status.idle": "2025-06-01T08:02:36.611445Z",
     "shell.execute_reply": "2025-06-01T08:02:36.610387Z"
    },
    "papermill": {
     "duration": 0.057952,
     "end_time": "2025-06-01T08:02:36.613436",
     "exception": false,
     "start_time": "2025-06-01T08:02:36.555484",
     "status": "completed"
    },
    "tags": []
   },
   "outputs": [],
   "source": [
    "# Replace the values in the 'Status' column of DataFrame `df` based on the `status_mapping` dictionary,\n",
    "# converting categorical status labels into their corresponding numeric codes.\n",
    "df['Status'] = df['Status'].replace(to_replace=status_mapping)\n"
   ]
  },
  {
   "cell_type": "code",
   "execution_count": 50,
   "id": "ef87583b",
   "metadata": {
    "execution": {
     "iopub.execute_input": "2025-06-01T08:02:36.664929Z",
     "iopub.status.busy": "2025-06-01T08:02:36.664600Z",
     "iopub.status.idle": "2025-06-01T08:02:36.675246Z",
     "shell.execute_reply": "2025-06-01T08:02:36.674311Z"
    },
    "papermill": {
     "duration": 0.037626,
     "end_time": "2025-06-01T08:02:36.676842",
     "exception": false,
     "start_time": "2025-06-01T08:02:36.639216",
     "status": "completed"
    },
    "tags": []
   },
   "outputs": [
    {
     "data": {
      "text/plain": [
       "array(['Cancelled', 'Shipped - Delivered to Buyer', 'Shipped',\n",
       "       'Shipped - Returned to Seller', 'Shipped - Rejected by Buyer',\n",
       "       'Shipped - Lost in Transit', 'Shipped - Out for Delivery',\n",
       "       'Shipped - Returning to Seller', 'Shipped - Picked Up', 2,\n",
       "       'Pending - Waiting for Pick Up', 'Shipped - Damaged', 'Shipping'],\n",
       "      dtype=object)"
      ]
     },
     "execution_count": 50,
     "metadata": {},
     "output_type": "execute_result"
    }
   ],
   "source": [
    "# Display the unique values currently present in the 'Status' column of the DataFrame `df`.\n",
    "df['Status'].unique()"
   ]
  },
  {
   "cell_type": "code",
   "execution_count": 51,
   "id": "e258a67e",
   "metadata": {
    "execution": {
     "iopub.execute_input": "2025-06-01T08:02:36.728794Z",
     "iopub.status.busy": "2025-06-01T08:02:36.728450Z",
     "iopub.status.idle": "2025-06-01T08:02:36.740996Z",
     "shell.execute_reply": "2025-06-01T08:02:36.739884Z"
    },
    "papermill": {
     "duration": 0.039746,
     "end_time": "2025-06-01T08:02:36.742717",
     "exception": false,
     "start_time": "2025-06-01T08:02:36.702971",
     "status": "completed"
    },
    "tags": []
   },
   "outputs": [
    {
     "data": {
      "text/plain": [
       "array(['Merchant', 'Amazon'], dtype=object)"
      ]
     },
     "execution_count": 51,
     "metadata": {},
     "output_type": "execute_result"
    }
   ],
   "source": [
    "# Get all unique values from the 'Fulfilment' column in the DataFrame `df`.\n",
    "df['Fulfilment'].unique()"
   ]
  },
  {
   "cell_type": "code",
   "execution_count": 52,
   "id": "bdc72496",
   "metadata": {
    "execution": {
     "iopub.execute_input": "2025-06-01T08:02:36.793624Z",
     "iopub.status.busy": "2025-06-01T08:02:36.793343Z",
     "iopub.status.idle": "2025-06-01T08:02:36.805448Z",
     "shell.execute_reply": "2025-06-01T08:02:36.804391Z"
    },
    "papermill": {
     "duration": 0.039809,
     "end_time": "2025-06-01T08:02:36.807424",
     "exception": false,
     "start_time": "2025-06-01T08:02:36.767615",
     "status": "completed"
    },
    "tags": []
   },
   "outputs": [
    {
     "data": {
      "text/plain": [
       "array(['Amazon.in', 'Non-Amazon'], dtype=object)"
      ]
     },
     "execution_count": 52,
     "metadata": {},
     "output_type": "execute_result"
    }
   ],
   "source": [
    "# Retrieve all unique values from the 'Sales Channel ' column of the DataFrame `df`.\n",
    "df['Sales Channel '].unique()\n"
   ]
  },
  {
   "cell_type": "code",
   "execution_count": 53,
   "id": "b7ff406d",
   "metadata": {
    "execution": {
     "iopub.execute_input": "2025-06-01T08:02:36.857819Z",
     "iopub.status.busy": "2025-06-01T08:02:36.857536Z",
     "iopub.status.idle": "2025-06-01T08:02:36.869467Z",
     "shell.execute_reply": "2025-06-01T08:02:36.868453Z"
    },
    "papermill": {
     "duration": 0.038773,
     "end_time": "2025-06-01T08:02:36.871014",
     "exception": false,
     "start_time": "2025-06-01T08:02:36.832241",
     "status": "completed"
    },
    "tags": []
   },
   "outputs": [
    {
     "data": {
      "text/plain": [
       "array(['Set', 'kurta', 'Western Dress', 'Top', 'Ethnic Dress', 'Bottom',\n",
       "       'Saree', 'Blouse', 'Dupatta'], dtype=object)"
      ]
     },
     "execution_count": 53,
     "metadata": {},
     "output_type": "execute_result"
    }
   ],
   "source": [
    "# Get an array of unique values from the 'Category' column in the DataFrame `df`.\n",
    "df['Category'].unique()\n"
   ]
  },
  {
   "cell_type": "code",
   "execution_count": 54,
   "id": "9fc335c7",
   "metadata": {
    "execution": {
     "iopub.execute_input": "2025-06-01T08:02:36.922557Z",
     "iopub.status.busy": "2025-06-01T08:02:36.922257Z",
     "iopub.status.idle": "2025-06-01T08:02:36.934999Z",
     "shell.execute_reply": "2025-06-01T08:02:36.934096Z"
    },
    "papermill": {
     "duration": 0.04011,
     "end_time": "2025-06-01T08:02:36.936533",
     "exception": false,
     "start_time": "2025-06-01T08:02:36.896423",
     "status": "completed"
    },
    "tags": []
   },
   "outputs": [
    {
     "data": {
      "text/plain": [
       "array(['Easy Ship', 'Amazon Easy Ship'], dtype=object)"
      ]
     },
     "execution_count": 54,
     "metadata": {},
     "output_type": "execute_result"
    }
   ],
   "source": [
    "# Retrieve all unique values from the 'Fulfilled By' column in the DataFrame `df`.\n",
    "df['Fulfilled By'].unique()\n"
   ]
  },
  {
   "cell_type": "markdown",
   "id": "6e5e04e9",
   "metadata": {
    "papermill": {
     "duration": 0.024272,
     "end_time": "2025-06-01T08:02:36.985712",
     "exception": false,
     "start_time": "2025-06-01T08:02:36.961440",
     "status": "completed"
    },
    "tags": []
   },
   "source": [
    "# 🧍‍♂️ Customer Insights Analysis"
   ]
  },
  {
   "cell_type": "code",
   "execution_count": 55,
   "id": "2c601dad",
   "metadata": {
    "execution": {
     "iopub.execute_input": "2025-06-01T08:02:37.036337Z",
     "iopub.status.busy": "2025-06-01T08:02:37.036025Z",
     "iopub.status.idle": "2025-06-01T08:02:37.068416Z",
     "shell.execute_reply": "2025-06-01T08:02:37.067499Z"
    },
    "papermill": {
     "duration": 0.059716,
     "end_time": "2025-06-01T08:02:37.069926",
     "exception": false,
     "start_time": "2025-06-01T08:02:37.010210",
     "status": "completed"
    },
    "tags": []
   },
   "outputs": [
    {
     "data": {
      "text/plain": [
       "City\n",
       "BENGALURU    6,366,354\n",
       "HYDERABAD    4,499,884\n",
       "MUMBAI       3,400,494\n",
       "NEW DELHI    3,331,168\n",
       "CHENNAI      2,823,610\n",
       "PUNE         2,153,145\n",
       "KOLKATA      1,305,113\n",
       "GURUGRAM     1,135,033\n",
       "THANE          918,782\n",
       "LUCKNOW        850,481\n",
       "Name: Amount, dtype: object"
      ]
     },
     "execution_count": 55,
     "metadata": {},
     "output_type": "execute_result"
    }
   ],
   "source": [
    "# Group the DataFrame `df` by 'City' and sum the 'Amount' for each city.\n",
    "# Then select the top 10 cities with the highest total 'Amount'.\n",
    "# Format these sums with commas as thousand separators and no decimal places.\n",
    "top_locations = df.groupby('City')['Amount'].sum().nlargest(10).apply(lambda x: f\"{x:,.0f}\")\n",
    "\n",
    "# Display the formatted top 10 cities by total 'Amount'.\n",
    "top_locations\n"
   ]
  },
  {
   "cell_type": "markdown",
   "id": "3018fdfd",
   "metadata": {
    "papermill": {
     "duration": 0.025476,
     "end_time": "2025-06-01T08:02:37.120251",
     "exception": false,
     "start_time": "2025-06-01T08:02:37.094775",
     "status": "completed"
    },
    "tags": []
   },
   "source": [
    "**Order Cancellation Rate**"
   ]
  },
  {
   "cell_type": "code",
   "execution_count": 56,
   "id": "763c6b89",
   "metadata": {
    "execution": {
     "iopub.execute_input": "2025-06-01T08:02:37.171702Z",
     "iopub.status.busy": "2025-06-01T08:02:37.171399Z",
     "iopub.status.idle": "2025-06-01T08:02:37.196094Z",
     "shell.execute_reply": "2025-06-01T08:02:37.195009Z"
    },
    "papermill": {
     "duration": 0.052376,
     "end_time": "2025-06-01T08:02:37.197751",
     "exception": false,
     "start_time": "2025-06-01T08:02:37.145375",
     "status": "completed"
    },
    "tags": []
   },
   "outputs": [
    {
     "data": {
      "text/plain": [
       "14.22"
      ]
     },
     "execution_count": 56,
     "metadata": {},
     "output_type": "execute_result"
    }
   ],
   "source": [
    "# Calculate the cancellation rate as a percentage:\n",
    "# 1. Filter rows where 'Status' is 'Cancelled'.\n",
    "# 2. Count these rows (`shape[0]`).\n",
    "# 3. Divide by total number of rows in `df`.\n",
    "# 4. Multiply by 100 to get percentage.\n",
    "# 5. Round the result to 2 decimal places.\n",
    "cancel_rate = round(df[df['Status'] == 'Cancelled'].shape[0] / df.shape[0] * 100, 2)\n",
    "\n",
    "# Output the cancellation rate percentage.\n",
    "cancel_rate"
   ]
  },
  {
   "cell_type": "markdown",
   "id": "ddcc56d5",
   "metadata": {
    "papermill": {
     "duration": 0.025075,
     "end_time": "2025-06-01T08:02:37.249237",
     "exception": false,
     "start_time": "2025-06-01T08:02:37.224162",
     "status": "completed"
    },
    "tags": []
   },
   "source": [
    "**B2B vs. B2C Behavior**"
   ]
  },
  {
   "cell_type": "code",
   "execution_count": 57,
   "id": "a0002aba",
   "metadata": {
    "execution": {
     "iopub.execute_input": "2025-06-01T08:02:37.305181Z",
     "iopub.status.busy": "2025-06-01T08:02:37.304841Z",
     "iopub.status.idle": "2025-06-01T08:02:37.323144Z",
     "shell.execute_reply": "2025-06-01T08:02:37.322263Z"
    },
    "papermill": {
     "duration": 0.05051,
     "end_time": "2025-06-01T08:02:37.324668",
     "exception": false,
     "start_time": "2025-06-01T08:02:37.274158",
     "status": "completed"
    },
    "tags": []
   },
   "outputs": [
    {
     "data": {
      "text/html": [
       "<div>\n",
       "<style scoped>\n",
       "    .dataframe tbody tr th:only-of-type {\n",
       "        vertical-align: middle;\n",
       "    }\n",
       "\n",
       "    .dataframe tbody tr th {\n",
       "        vertical-align: top;\n",
       "    }\n",
       "\n",
       "    .dataframe thead th {\n",
       "        text-align: right;\n",
       "    }\n",
       "</style>\n",
       "<table border=\"1\" class=\"dataframe\">\n",
       "  <thead>\n",
       "    <tr style=\"text-align: right;\">\n",
       "      <th></th>\n",
       "      <th>sum</th>\n",
       "      <th>count</th>\n",
       "      <th>mean</th>\n",
       "    </tr>\n",
       "    <tr>\n",
       "      <th>B2B</th>\n",
       "      <th></th>\n",
       "      <th></th>\n",
       "      <th></th>\n",
       "    </tr>\n",
       "  </thead>\n",
       "  <tbody>\n",
       "    <tr>\n",
       "      <th>False</th>\n",
       "      <td>71211880.00</td>\n",
       "      <td>128071.00</td>\n",
       "      <td>556.03</td>\n",
       "    </tr>\n",
       "    <tr>\n",
       "      <th>True</th>\n",
       "      <td>559945.00</td>\n",
       "      <td>871.00</td>\n",
       "      <td>642.88</td>\n",
       "    </tr>\n",
       "  </tbody>\n",
       "</table>\n",
       "</div>"
      ],
      "text/plain": [
       "               sum      count    mean\n",
       "B2B                                  \n",
       "False  71211880.00  128071.00  556.03\n",
       "True     559945.00     871.00  642.88"
      ]
     },
     "execution_count": 57,
     "metadata": {},
     "output_type": "execute_result"
    }
   ],
   "source": [
    "# Group the DataFrame `df` by the 'B2B' column (business-to-business indicator),\n",
    "# then calculate aggregate statistics on the 'Amount' column:\n",
    "# sum (total amount), count (number of entries), and mean (average amount).\n",
    "# Round all these values to 2 decimal places.\n",
    "b2b_vs_b2c = df.groupby('B2B')['Amount'].agg(['sum', 'count', 'mean']).round(2)\n",
    "\n",
    "# Convert all aggregated numeric values to strings formatted with 2 decimal places.\n",
    "b2b_vs_b2c = b2b_vs_b2c.astype(str).apply(lambda x: x.map(lambda y: f\"{float(y):.2f}\"))\n",
    "\n",
    "# Display the resulting DataFrame comparing B2B and B2C amounts.\n",
    "b2b_vs_b2c\n"
   ]
  },
  {
   "cell_type": "markdown",
   "id": "5a4f4ccc",
   "metadata": {
    "papermill": {
     "duration": 0.024774,
     "end_time": "2025-06-01T08:02:37.374987",
     "exception": false,
     "start_time": "2025-06-01T08:02:37.350213",
     "status": "completed"
    },
    "tags": []
   },
   "source": [
    "## 📦 Streamlining Logistics and Fulfillment Processes"
   ]
  },
  {
   "cell_type": "markdown",
   "id": "f2ac3457",
   "metadata": {
    "papermill": {
     "duration": 0.024601,
     "end_time": "2025-06-01T08:02:37.424604",
     "exception": false,
     "start_time": "2025-06-01T08:02:37.400003",
     "status": "completed"
    },
    "tags": []
   },
   "source": [
    "**Average Shipping Time**"
   ]
  },
  {
   "cell_type": "markdown",
   "id": "1702d00d",
   "metadata": {
    "papermill": {
     "duration": 0.025183,
     "end_time": "2025-06-01T08:02:37.474917",
     "exception": false,
     "start_time": "2025-06-01T08:02:37.449734",
     "status": "completed"
    },
    "tags": []
   },
   "source": [
    "> As the dataset does not include actual shipping dates, it is not possible to measure real shipping delays. For more accurate analysis of shipping performance, we suggest adding shipping timestamps in future data collection efforts.\n"
   ]
  },
  {
   "cell_type": "markdown",
   "id": "616cdd28",
   "metadata": {
    "papermill": {
     "duration": 0.025703,
     "end_time": "2025-06-01T08:02:37.526380",
     "exception": false,
     "start_time": "2025-06-01T08:02:37.500677",
     "status": "completed"
    },
    "tags": []
   },
   "source": [
    "**Comparing orders fulfilled by Amazon vs. Merchant**"
   ]
  },
  {
   "cell_type": "code",
   "execution_count": 58,
   "id": "42d12899",
   "metadata": {
    "execution": {
     "iopub.execute_input": "2025-06-01T08:02:37.578690Z",
     "iopub.status.busy": "2025-06-01T08:02:37.578409Z",
     "iopub.status.idle": "2025-06-01T08:02:37.595114Z",
     "shell.execute_reply": "2025-06-01T08:02:37.594054Z"
    },
    "papermill": {
     "duration": 0.044135,
     "end_time": "2025-06-01T08:02:37.596725",
     "exception": false,
     "start_time": "2025-06-01T08:02:37.552590",
     "status": "completed"
    },
    "tags": []
   },
   "outputs": [
    {
     "data": {
      "text/plain": [
       "Fulfilled By\n",
       "Amazon Easy Ship    50689744.0\n",
       "Easy Ship           21082084.0\n",
       "Name: Amount, dtype: float32"
      ]
     },
     "execution_count": 58,
     "metadata": {},
     "output_type": "execute_result"
    }
   ],
   "source": [
    "# Group the DataFrame `df` by the 'Fulfilled By' column,\n",
    "# then calculate the total sum of 'Amount' for each fulfillment method.\n",
    "fulfillment_comparison = df.groupby('Fulfilled By')['Amount'].sum()\n",
    "\n",
    "# Display the total sales amount by each fulfillment method.\n",
    "fulfillment_comparison\n"
   ]
  },
  {
   "cell_type": "markdown",
   "id": "f7c6d47c",
   "metadata": {
    "papermill": {
     "duration": 0.024631,
     "end_time": "2025-06-01T08:02:37.646721",
     "exception": false,
     "start_time": "2025-06-01T08:02:37.622090",
     "status": "completed"
    },
    "tags": []
   },
   "source": [
    "**Order Status Count**"
   ]
  },
  {
   "cell_type": "code",
   "execution_count": 59,
   "id": "8862b289",
   "metadata": {
    "execution": {
     "iopub.execute_input": "2025-06-01T08:02:37.703512Z",
     "iopub.status.busy": "2025-06-01T08:02:37.703240Z",
     "iopub.status.idle": "2025-06-01T08:02:37.717700Z",
     "shell.execute_reply": "2025-06-01T08:02:37.716982Z"
    },
    "papermill": {
     "duration": 0.046187,
     "end_time": "2025-06-01T08:02:37.719072",
     "exception": false,
     "start_time": "2025-06-01T08:02:37.672885",
     "status": "completed"
    },
    "tags": []
   },
   "outputs": [
    {
     "data": {
      "text/plain": [
       "Status\n",
       "Shipped                          77763\n",
       "Shipped - Delivered to Buyer     28771\n",
       "Cancelled                        18338\n",
       "Shipped - Returned to Seller      1953\n",
       "Shipped - Picked Up                973\n",
       "2                                  658\n",
       "Pending - Waiting for Pick Up      281\n",
       "Shipped - Returning to Seller      145\n",
       "Shipped - Out for Delivery          35\n",
       "Shipped - Rejected by Buyer         11\n",
       "Shipping                             8\n",
       "Shipped - Lost in Transit            5\n",
       "Shipped - Damaged                    1\n",
       "Name: count, dtype: int64"
      ]
     },
     "execution_count": 59,
     "metadata": {},
     "output_type": "execute_result"
    }
   ],
   "source": [
    "# Count the occurrences of each unique value in the 'Status' column of the DataFrame `df`.\n",
    "order_status_counts = df['Status'].value_counts()\n",
    "\n",
    "# Display the counts of each order status.\n",
    "order_status_counts\n"
   ]
  },
  {
   "cell_type": "markdown",
   "id": "c2b9e91e",
   "metadata": {
    "papermill": {
     "duration": 0.025262,
     "end_time": "2025-06-01T08:02:37.770883",
     "exception": false,
     "start_time": "2025-06-01T08:02:37.745621",
     "status": "completed"
    },
    "tags": []
   },
   "source": [
    "# 🛍️ Product & Inventory Optimization"
   ]
  },
  {
   "cell_type": "markdown",
   "id": "808524fc",
   "metadata": {
    "papermill": {
     "duration": 0.03114,
     "end_time": "2025-06-01T08:02:37.827340",
     "exception": false,
     "start_time": "2025-06-01T08:02:37.796200",
     "status": "completed"
    },
    "tags": []
   },
   "source": [
    "**High-Demand Product Categories Wise**"
   ]
  },
  {
   "cell_type": "code",
   "execution_count": 60,
   "id": "7e8e65ba",
   "metadata": {
    "execution": {
     "iopub.execute_input": "2025-06-01T08:02:37.895555Z",
     "iopub.status.busy": "2025-06-01T08:02:37.895279Z",
     "iopub.status.idle": "2025-06-01T08:02:37.911628Z",
     "shell.execute_reply": "2025-06-01T08:02:37.910745Z"
    },
    "papermill": {
     "duration": 0.049473,
     "end_time": "2025-06-01T08:02:37.913177",
     "exception": false,
     "start_time": "2025-06-01T08:02:37.863704",
     "status": "completed"
    },
    "tags": []
   },
   "outputs": [
    {
     "data": {
      "text/plain": [
       "Category\n",
       "Set              45286\n",
       "kurta            45047\n",
       "Western Dress    13943\n",
       "Top               9902\n",
       "Ethnic Dress      1052\n",
       "Blouse             864\n",
       "Bottom             398\n",
       "Saree              152\n",
       "Dupatta              3\n",
       "Name: Quantity, dtype: int64"
      ]
     },
     "execution_count": 60,
     "metadata": {},
     "output_type": "execute_result"
    }
   ],
   "source": [
    "# Group the DataFrame `df` by 'Category' and sum the 'Quantity' for each category.\n",
    "# Then select the top 10 categories with the highest total quantity sold.\n",
    "# Round the resulting sums to 2 decimal places.\n",
    "top_categories = df.groupby('Category')['Quantity'].sum().nlargest(10).round(2)\n",
    "\n",
    "# Display the top 10 categories by total quantity sold.\n",
    "top_categories\n"
   ]
  },
  {
   "cell_type": "markdown",
   "id": "fe0f893f",
   "metadata": {
    "papermill": {
     "duration": 0.02467,
     "end_time": "2025-06-01T08:02:37.962880",
     "exception": false,
     "start_time": "2025-06-01T08:02:37.938210",
     "status": "completed"
    },
    "tags": []
   },
   "source": [
    "**Average Quantity Ordered per Transaction**"
   ]
  },
  {
   "cell_type": "code",
   "execution_count": 61,
   "id": "688b9d0d",
   "metadata": {
    "execution": {
     "iopub.execute_input": "2025-06-01T08:02:38.015658Z",
     "iopub.status.busy": "2025-06-01T08:02:38.015344Z",
     "iopub.status.idle": "2025-06-01T08:02:38.021095Z",
     "shell.execute_reply": "2025-06-01T08:02:38.020184Z"
    },
    "papermill": {
     "duration": 0.034297,
     "end_time": "2025-06-01T08:02:38.022513",
     "exception": false,
     "start_time": "2025-06-01T08:02:37.988216",
     "status": "completed"
    },
    "tags": []
   },
   "outputs": [
    {
     "name": "stdout",
     "output_type": "stream",
     "text": [
      "Average Quantity Ordered: 0.90\n"
     ]
    }
   ],
   "source": [
    "# Calculate the average (mean) of the 'Quantity' column in the DataFrame `df`.\n",
    "avg_quantity = df['Quantity'].mean()\n",
    "\n",
    "# Print the average quantity ordered, formatted to 2 decimal places.\n",
    "print(f\"Average Quantity Ordered: {avg_quantity:.2f}\")\n"
   ]
  },
  {
   "cell_type": "markdown",
   "id": "62a65fab",
   "metadata": {
    "papermill": {
     "duration": 0.024853,
     "end_time": "2025-06-01T08:02:38.075039",
     "exception": false,
     "start_time": "2025-06-01T08:02:38.050186",
     "status": "completed"
    },
    "tags": []
   },
   "source": [
    "\n",
    "# 🧾 Tracking Returns & Enhancing Customer Experience"
   ]
  },
  {
   "cell_type": "markdown",
   "id": "0b3955ce",
   "metadata": {
    "papermill": {
     "duration": 0.025317,
     "end_time": "2025-06-01T08:02:38.125672",
     "exception": false,
     "start_time": "2025-06-01T08:02:38.100355",
     "status": "completed"
    },
    "tags": []
   },
   "source": [
    "**High Return & Cancellation Rates**"
   ]
  },
  {
   "cell_type": "code",
   "execution_count": 62,
   "id": "d3fbbaa3",
   "metadata": {
    "execution": {
     "iopub.execute_input": "2025-06-01T08:02:38.177338Z",
     "iopub.status.busy": "2025-06-01T08:02:38.177031Z",
     "iopub.status.idle": "2025-06-01T08:02:38.274123Z",
     "shell.execute_reply": "2025-06-01T08:02:38.273304Z"
    },
    "papermill": {
     "duration": 0.124749,
     "end_time": "2025-06-01T08:02:38.275572",
     "exception": false,
     "start_time": "2025-06-01T08:02:38.150823",
     "status": "completed"
    },
    "tags": []
   },
   "outputs": [
    {
     "data": {
      "text/plain": [
       "SKU\n",
       "JNE3797-KR-L     152\n",
       "JNE3797-KR-M     125\n",
       "JNE3797-KR-S     122\n",
       "JNE3405-KR-L      88\n",
       "JNE3797-KR-XL     85\n",
       "dtype: int64"
      ]
     },
     "execution_count": 62,
     "metadata": {},
     "output_type": "execute_result"
    }
   ],
   "source": [
    "# Filter the DataFrame `df` to include only rows where 'Status' contains\n",
    "# any of the following keywords indicating returns or cancellations:\n",
    "# 'Cancelled', 'Returned to Seller', 'Returning to Seller', 'Rejected by Buyer'.\n",
    "# The `na=False` ensures that NaN values in 'Status' are ignored.\n",
    "# Group the filtered data by 'SKU' and count the number of such occurrences per SKU.\n",
    "# Select the top 5 SKUs with the highest counts of these return-related statuses.\n",
    "return_rates = df[df['Status'].str.contains('Cancelled|Returned to Seller|Returning to Seller|Rejected by Buyer', na=False)] \\\n",
    "    .groupby('SKU').size().nlargest(5)\n",
    "\n",
    "# Display the top 5 SKUs with the highest return or cancellation counts.\n",
    "return_rates\n"
   ]
  },
  {
   "cell_type": "markdown",
   "id": "72c59dc5",
   "metadata": {
    "papermill": {
     "duration": 0.024886,
     "end_time": "2025-06-01T08:02:38.326610",
     "exception": false,
     "start_time": "2025-06-01T08:02:38.301724",
     "status": "completed"
    },
    "tags": []
   },
   "source": [
    "**Problematic Categories**"
   ]
  },
  {
   "cell_type": "code",
   "execution_count": 63,
   "id": "e02626aa",
   "metadata": {
    "execution": {
     "iopub.execute_input": "2025-06-01T08:02:38.378825Z",
     "iopub.status.busy": "2025-06-01T08:02:38.378541Z",
     "iopub.status.idle": "2025-06-01T08:02:38.471505Z",
     "shell.execute_reply": "2025-06-01T08:02:38.470530Z"
    },
    "papermill": {
     "duration": 0.121399,
     "end_time": "2025-06-01T08:02:38.473323",
     "exception": false,
     "start_time": "2025-06-01T08:02:38.351924",
     "status": "completed"
    },
    "tags": []
   },
   "outputs": [
    {
     "data": {
      "text/plain": [
       "Category\n",
       "Set              8182\n",
       "kurta            8009\n",
       "Western Dress    2468\n",
       "Top              1410\n",
       "Ethnic Dress      162\n",
       "Blouse            128\n",
       "Bottom             66\n",
       "Saree              22\n",
       "Name: count, dtype: int64"
      ]
     },
     "execution_count": 63,
     "metadata": {},
     "output_type": "execute_result"
    }
   ],
   "source": [
    "# Filter the DataFrame `df` to include rows where 'Status' contains any of the return or cancellation keywords:\n",
    "# 'Cancelled', 'Returned to Seller', 'Returning to Seller', or 'Rejected by Buyer'.\n",
    "# Then select the 'Category' column from these filtered rows,\n",
    "# count the occurrences of each category,\n",
    "# and get the top 10 categories with the highest counts of problematic orders.\n",
    "problematic_categories = df[df['Status'].str.contains('Cancelled|Returned to Seller|Returning to Seller|Rejected by Buyer', na=False)]['Category'].value_counts().nlargest(10)\n",
    "\n",
    "# Display the top 10 categories with the most return or cancellation issues.\n",
    "problematic_categories\n"
   ]
  },
  {
   "cell_type": "markdown",
   "id": "0b5f5e76",
   "metadata": {
    "papermill": {
     "duration": 0.02561,
     "end_time": "2025-06-01T08:02:38.524741",
     "exception": false,
     "start_time": "2025-06-01T08:02:38.499131",
     "status": "completed"
    },
    "tags": []
   },
   "source": [
    "# 💰 Financial Performance Analysis"
   ]
  },
  {
   "cell_type": "markdown",
   "id": "21a54740",
   "metadata": {
    "papermill": {
     "duration": 0.026278,
     "end_time": "2025-06-01T08:02:38.576806",
     "exception": false,
     "start_time": "2025-06-01T08:02:38.550528",
     "status": "completed"
    },
    "tags": []
   },
   "source": [
    "**Best-Selling Products & Seasonal Trends**"
   ]
  },
  {
   "cell_type": "code",
   "execution_count": 64,
   "id": "44dca359",
   "metadata": {
    "execution": {
     "iopub.execute_input": "2025-06-01T08:02:38.629515Z",
     "iopub.status.busy": "2025-06-01T08:02:38.629194Z",
     "iopub.status.idle": "2025-06-01T08:02:38.655464Z",
     "shell.execute_reply": "2025-06-01T08:02:38.654416Z"
    },
    "papermill": {
     "duration": 0.054456,
     "end_time": "2025-06-01T08:02:38.656967",
     "exception": false,
     "start_time": "2025-06-01T08:02:38.602511",
     "status": "completed"
    },
    "tags": []
   },
   "outputs": [
    {
     "data": {
      "text/plain": [
       "SKU\n",
       "J0230-SKD-M        482448.0\n",
       "JNE3797-KR-L       469312.0\n",
       "J0230-SKD-S        448825.0\n",
       "JNE3797-KR-M       403850.0\n",
       "JNE3797-KR-S       360194.0\n",
       "JNE3797-KR-XL      302519.0\n",
       "J0230-SKD-L        278223.0\n",
       "JNE3797-KR-XS      274609.0\n",
       "SET268-KR-NP-XL    261246.0\n",
       "JNE3797-KR-XXL     253211.0\n",
       "Name: Amount, dtype: float64"
      ]
     },
     "execution_count": 64,
     "metadata": {},
     "output_type": "execute_result"
    }
   ],
   "source": [
    "# Group the DataFrame `df` by 'SKU' (product identifier),\n",
    "# sum the 'Amount' for each product,\n",
    "# convert the sums to float type,\n",
    "# round the results to 2 decimal places,\n",
    "# sort the sums in descending order to get the highest values first,\n",
    "# and select the top 10 products with the highest total sales amount.\n",
    "top_products = df.groupby('SKU')['Amount'].sum().astype(float).round(2).sort_values(ascending=False).head(10)\n",
    "\n",
    "# Display the top 10 products by total sales amount.\n",
    "top_products\n"
   ]
  },
  {
   "cell_type": "markdown",
   "id": "ad631fe7",
   "metadata": {
    "papermill": {
     "duration": 0.026097,
     "end_time": "2025-06-01T08:02:38.708837",
     "exception": false,
     "start_time": "2025-06-01T08:02:38.682740",
     "status": "completed"
    },
    "tags": []
   },
   "source": [
    "**Calculate Average Order Value (AOV)**"
   ]
  },
  {
   "cell_type": "code",
   "execution_count": 65,
   "id": "1136cef6",
   "metadata": {
    "execution": {
     "iopub.execute_input": "2025-06-01T08:02:38.764284Z",
     "iopub.status.busy": "2025-06-01T08:02:38.763919Z",
     "iopub.status.idle": "2025-06-01T08:02:38.799010Z",
     "shell.execute_reply": "2025-06-01T08:02:38.797934Z"
    },
    "papermill": {
     "duration": 0.065292,
     "end_time": "2025-06-01T08:02:38.800440",
     "exception": false,
     "start_time": "2025-06-01T08:02:38.735148",
     "status": "completed"
    },
    "tags": []
   },
   "outputs": [
    {
     "name": "stdout",
     "output_type": "stream",
     "text": [
      "Average Order Value (AOV): 596.35\n"
     ]
    }
   ],
   "source": [
    "# Calculate the Average Order Value (AOV):\n",
    "# 1. Sum all values in the 'Amount' column.\n",
    "# 2. Divide by the number of unique orders, found by counting unique 'Order_ID's.\n",
    "AOV = df['Amount'].sum() / df['Order_ID'].nunique()\n",
    "\n",
    "# Print the Average Order Value rounded to 2 decimal places.\n",
    "print(f\"Average Order Value (AOV): {AOV:.2f}\")\n"
   ]
  },
  {
   "cell_type": "code",
   "execution_count": 66,
   "id": "b07c9930",
   "metadata": {
    "execution": {
     "iopub.execute_input": "2025-06-01T08:02:38.854870Z",
     "iopub.status.busy": "2025-06-01T08:02:38.853891Z",
     "iopub.status.idle": "2025-06-01T08:02:38.861189Z",
     "shell.execute_reply": "2025-06-01T08:02:38.860353Z"
    },
    "papermill": {
     "duration": 0.036043,
     "end_time": "2025-06-01T08:02:38.862679",
     "exception": false,
     "start_time": "2025-06-01T08:02:38.826636",
     "status": "completed"
    },
    "tags": []
   },
   "outputs": [
    {
     "data": {
      "text/plain": [
       "556.62"
      ]
     },
     "execution_count": 66,
     "metadata": {},
     "output_type": "execute_result"
    }
   ],
   "source": [
    "# Calculate the Average Order Value (AOV) by finding the mean of the 'Amount' column.\n",
    "# Round the result to 2 decimal places.\n",
    "AOV = round(df['Amount'].mean(), 2)\n",
    "\n",
    "# Display the Average Order Value.\n",
    "AOV\n"
   ]
  },
  {
   "cell_type": "code",
   "execution_count": 67,
   "id": "119d39bb",
   "metadata": {
    "execution": {
     "iopub.execute_input": "2025-06-01T08:02:38.915809Z",
     "iopub.status.busy": "2025-06-01T08:02:38.915544Z",
     "iopub.status.idle": "2025-06-01T08:02:38.958469Z",
     "shell.execute_reply": "2025-06-01T08:02:38.957403Z"
    },
    "papermill": {
     "duration": 0.07105,
     "end_time": "2025-06-01T08:02:38.960085",
     "exception": false,
     "start_time": "2025-06-01T08:02:38.889035",
     "status": "completed"
    },
    "tags": []
   },
   "outputs": [
    {
     "name": "stdout",
     "output_type": "stream",
     "text": [
      "Month\n",
      "3    603.512658\n",
      "4    573.154703\n",
      "5    611.525500\n",
      "6    609.647812\n",
      "dtype: float64\n"
     ]
    }
   ],
   "source": [
    "# Extract the month (as an integer) from the 'Date' column and create a new 'Month' column in `df`.\n",
    "df['Month'] = df['Date'].dt.month  \n",
    "\n",
    "# Calculate Average Order Value (AOV) for each month:\n",
    "# 1. Group by 'Month' and sum the 'Amount'.\n",
    "# 2. Group by 'Month' and count unique 'Order_ID's.\n",
    "# 3. Divide total amount by number of unique orders per month.\n",
    "aov_by_month = df.groupby('Month')['Amount'].sum() / df.groupby('Month')['Order_ID'].nunique()\n",
    "\n",
    "# Print the AOV for each month.\n",
    "print(aov_by_month)\n"
   ]
  },
  {
   "cell_type": "markdown",
   "id": "9462561b",
   "metadata": {
    "papermill": {
     "duration": 0.025736,
     "end_time": "2025-06-01T08:02:39.011567",
     "exception": false,
     "start_time": "2025-06-01T08:02:38.985831",
     "status": "completed"
    },
    "tags": []
   },
   "source": [
    "**Total sales**"
   ]
  },
  {
   "cell_type": "code",
   "execution_count": 68,
   "id": "b26db47d",
   "metadata": {
    "execution": {
     "iopub.execute_input": "2025-06-01T08:02:39.064879Z",
     "iopub.status.busy": "2025-06-01T08:02:39.064583Z",
     "iopub.status.idle": "2025-06-01T08:02:39.071290Z",
     "shell.execute_reply": "2025-06-01T08:02:39.070332Z"
    },
    "papermill": {
     "duration": 0.035519,
     "end_time": "2025-06-01T08:02:39.072777",
     "exception": false,
     "start_time": "2025-06-01T08:02:39.037258",
     "status": "completed"
    },
    "tags": []
   },
   "outputs": [
    {
     "data": {
      "text/plain": [
       "71771820.0"
      ]
     },
     "execution_count": 68,
     "metadata": {},
     "output_type": "execute_result"
    }
   ],
   "source": [
    "# Calculate the total sales amount by summing all values in the 'Amount' column of the DataFrame `df`.\n",
    "total_sales = df['Amount'].sum()\n",
    "\n",
    "# Display the total sales amount.\n",
    "total_sales\n"
   ]
  },
  {
   "cell_type": "markdown",
   "id": "cba929c5",
   "metadata": {
    "papermill": {
     "duration": 0.025574,
     "end_time": "2025-06-01T08:02:39.124428",
     "exception": false,
     "start_time": "2025-06-01T08:02:39.098854",
     "status": "completed"
    },
    "tags": []
   },
   "source": [
    "# 💡 Additional Calculated Insights"
   ]
  },
  {
   "cell_type": "markdown",
   "id": "56065d13",
   "metadata": {
    "papermill": {
     "duration": 0.025864,
     "end_time": "2025-06-01T08:02:39.177245",
     "exception": false,
     "start_time": "2025-06-01T08:02:39.151381",
     "status": "completed"
    },
    "tags": []
   },
   "source": [
    "**Monthly Sales By Amount**"
   ]
  },
  {
   "cell_type": "code",
   "execution_count": 69,
   "id": "a52aaffa",
   "metadata": {
    "execution": {
     "iopub.execute_input": "2025-06-01T08:02:39.230275Z",
     "iopub.status.busy": "2025-06-01T08:02:39.229922Z",
     "iopub.status.idle": "2025-06-01T08:02:39.250804Z",
     "shell.execute_reply": "2025-06-01T08:02:39.250054Z"
    },
    "papermill": {
     "duration": 0.049141,
     "end_time": "2025-06-01T08:02:39.252346",
     "exception": false,
     "start_time": "2025-06-01T08:02:39.203205",
     "status": "completed"
    },
    "tags": []
   },
   "outputs": [
    {
     "data": {
      "text/plain": [
       "Month\n",
       "2022-03       95355.0\n",
       "2022-04    26278570.0\n",
       "2022-05    23981584.0\n",
       "2022-06    21416318.0\n",
       "Freq: M, Name: Amount, dtype: float32"
      ]
     },
     "execution_count": 69,
     "metadata": {},
     "output_type": "execute_result"
    }
   ],
   "source": [
    "# Convert the 'Date' column to a monthly period format (e.g., '2023-05') and store it in a new 'Month' column.\n",
    "df['Month'] = df['Date'].dt.to_period('M')\n",
    "\n",
    "# Group the DataFrame by this monthly period and sum the 'Amount' for each month.\n",
    "monthly_sales = df.groupby('Month')['Amount'].sum()\n",
    "\n",
    "# Display the total sales amount for each month.\n",
    "monthly_sales\n"
   ]
  },
  {
   "cell_type": "markdown",
   "id": "19d179f2",
   "metadata": {
    "papermill": {
     "duration": 0.025726,
     "end_time": "2025-06-01T08:02:39.304783",
     "exception": false,
     "start_time": "2025-06-01T08:02:39.279057",
     "status": "completed"
    },
    "tags": []
   },
   "source": [
    "**Weekly Sales By Amount**"
   ]
  },
  {
   "cell_type": "code",
   "execution_count": 70,
   "id": "2d163530",
   "metadata": {
    "execution": {
     "iopub.execute_input": "2025-06-01T08:02:39.358115Z",
     "iopub.status.busy": "2025-06-01T08:02:39.357761Z",
     "iopub.status.idle": "2025-06-01T08:02:39.377047Z",
     "shell.execute_reply": "2025-06-01T08:02:39.376244Z"
    },
    "papermill": {
     "duration": 0.047911,
     "end_time": "2025-06-01T08:02:39.378561",
     "exception": false,
     "start_time": "2025-06-01T08:02:39.330650",
     "status": "completed"
    },
    "tags": []
   },
   "outputs": [
    {
     "data": {
      "text/plain": [
       "Week\n",
       "2022-03-28/2022-04-03    2616156.0\n",
       "2022-04-04/2022-04-10    6117683.0\n",
       "2022-04-11/2022-04-17    6242662.0\n",
       "2022-04-18/2022-04-24    6484615.0\n",
       "2022-04-25/2022-05-01    5915219.5\n",
       "2022-05-02/2022-05-08    6583608.0\n",
       "2022-05-09/2022-05-15    4837909.0\n",
       "2022-05-16/2022-05-22    4800021.0\n",
       "2022-05-23/2022-05-29    5179178.0\n",
       "2022-05-30/2022-06-05    5639566.0\n",
       "2022-06-06/2022-06-12    5908084.0\n",
       "2022-06-13/2022-06-19    5063668.0\n",
       "2022-06-20/2022-06-26    4602689.0\n",
       "2022-06-27/2022-07-03    1780768.0\n",
       "Freq: W-SUN, Name: Amount, dtype: float32"
      ]
     },
     "execution_count": 70,
     "metadata": {},
     "output_type": "execute_result"
    }
   ],
   "source": [
    "# Convert the 'Date' column to weekly period format (year-week) and create a new 'Week' column.\n",
    "df['Week'] = df['Date'].dt.to_period('W')\n",
    "\n",
    "# Group the DataFrame by the weekly period and sum the 'Amount' for each week.\n",
    "weekly_sales = df.groupby('Week')['Amount'].sum()\n",
    "\n",
    "# Display the total sales amount for each week.\n",
    "weekly_sales\n"
   ]
  },
  {
   "cell_type": "markdown",
   "id": "b6493ff6",
   "metadata": {
    "papermill": {
     "duration": 0.025985,
     "end_time": "2025-06-01T08:02:39.431853",
     "exception": false,
     "start_time": "2025-06-01T08:02:39.405868",
     "status": "completed"
    },
    "tags": []
   },
   "source": [
    "**Highest Sales Day of the Week**"
   ]
  },
  {
   "cell_type": "code",
   "execution_count": 71,
   "id": "ecc6e8e9",
   "metadata": {
    "execution": {
     "iopub.execute_input": "2025-06-01T08:02:39.485367Z",
     "iopub.status.busy": "2025-06-01T08:02:39.485033Z",
     "iopub.status.idle": "2025-06-01T08:02:39.536858Z",
     "shell.execute_reply": "2025-06-01T08:02:39.535815Z"
    },
    "papermill": {
     "duration": 0.08053,
     "end_time": "2025-06-01T08:02:39.538472",
     "exception": false,
     "start_time": "2025-06-01T08:02:39.457942",
     "status": "completed"
    },
    "tags": []
   },
   "outputs": [
    {
     "name": "stdout",
     "output_type": "stream",
     "text": [
      "Highest Sales Day: Sunday with Total Sales: ₹11009419.0\n"
     ]
    }
   ],
   "source": [
    "# Extract the day name (e.g., Monday, Tuesday) from the 'Date' column and create a new 'Day' column.\n",
    "df['Day'] = df['Date'].dt.day_name()\n",
    "\n",
    "# Group the DataFrame by 'Day' and sum the 'Amount' to get total sales per day of the week.\n",
    "day_sales = df.groupby('Day')['Amount'].sum()\n",
    "\n",
    "# Find the day with the highest total sales.\n",
    "highest_sales_day = day_sales.idxmax()\n",
    "\n",
    "# Find the highest total sales amount among all days.\n",
    "highest_sales_amount = day_sales.max()\n",
    "\n",
    "# Print the day with the highest sales and the corresponding sales amount.\n",
    "print(f\"Highest Sales Day: {highest_sales_day} with Total Sales: ₹{highest_sales_amount}\")\n"
   ]
  },
  {
   "cell_type": "markdown",
   "id": "73baa53c",
   "metadata": {
    "papermill": {
     "duration": 0.026554,
     "end_time": "2025-06-01T08:02:39.591070",
     "exception": false,
     "start_time": "2025-06-01T08:02:39.564516",
     "status": "completed"
    },
    "tags": []
   },
   "source": [
    "**Highest Sales Of Months**"
   ]
  },
  {
   "cell_type": "code",
   "execution_count": 72,
   "id": "c1f48462",
   "metadata": {
    "execution": {
     "iopub.execute_input": "2025-06-01T08:02:39.644605Z",
     "iopub.status.busy": "2025-06-01T08:02:39.644281Z",
     "iopub.status.idle": "2025-06-01T08:02:39.661230Z",
     "shell.execute_reply": "2025-06-01T08:02:39.660259Z"
    },
    "papermill": {
     "duration": 0.045781,
     "end_time": "2025-06-01T08:02:39.662863",
     "exception": false,
     "start_time": "2025-06-01T08:02:39.617082",
     "status": "completed"
    },
    "tags": []
   },
   "outputs": [
    {
     "name": "stdout",
     "output_type": "stream",
     "text": [
      "The month with the highest sales is 2022-04 with sales of ₹26278570.0.\n"
     ]
    }
   ],
   "source": [
    "# Convert the 'Date' column to a monthly period format (e.g., '2023-05') and create a new 'Month' column.\n",
    "df['Month'] = df['Date'].dt.to_period('M')\n",
    "\n",
    "# Group the DataFrame by 'Month' and sum the 'Amount' for each month to get monthly sales totals.\n",
    "monthly_sales = df.groupby('Month')['Amount'].sum()\n",
    "\n",
    "# Identify the month with the highest total sales.\n",
    "highest_sales_month = monthly_sales.idxmax()\n",
    "\n",
    "# Get the value of the highest sales amount in that month.\n",
    "highest_sales_value = monthly_sales.max()\n",
    "\n",
    "# Print the month with the highest sales and the corresponding sales value.\n",
    "print(f\"The month with the highest sales is {highest_sales_month} with sales of ₹{highest_sales_value}.\")\n"
   ]
  },
  {
   "cell_type": "markdown",
   "id": "52977650",
   "metadata": {
    "papermill": {
     "duration": 0.026483,
     "end_time": "2025-06-01T08:02:39.717939",
     "exception": false,
     "start_time": "2025-06-01T08:02:39.691456",
     "status": "completed"
    },
    "tags": []
   },
   "source": [
    "**Total Quantity Sold By XL size**"
   ]
  },
  {
   "cell_type": "code",
   "execution_count": 73,
   "id": "35ad91d6",
   "metadata": {
    "execution": {
     "iopub.execute_input": "2025-06-01T08:02:39.779291Z",
     "iopub.status.busy": "2025-06-01T08:02:39.778971Z",
     "iopub.status.idle": "2025-06-01T08:02:39.812392Z",
     "shell.execute_reply": "2025-06-01T08:02:39.811515Z"
    },
    "papermill": {
     "duration": 0.067635,
     "end_time": "2025-06-01T08:02:39.813773",
     "exception": false,
     "start_time": "2025-06-01T08:02:39.746138",
     "status": "completed"
    },
    "tags": []
   },
   "outputs": [
    {
     "name": "stdout",
     "output_type": "stream",
     "text": [
      "Total Quantity Sold for XL Size in Set Category: 6875\n"
     ]
    }
   ],
   "source": [
    "# Filter the DataFrame `df` to include only rows where 'Category' is 'Set' and 'Size' is 'XL'.\n",
    "xl_size_set = df[(df['Category'] == 'Set') & (df['Size'] == 'XL')]\n",
    "\n",
    "# Sum the 'Quantity' for these filtered rows to get the total quantity sold of XL size in the Set category.\n",
    "total_qty_xl_set = xl_size_set['Quantity'].sum()\n",
    "\n",
    "# Print the total quantity sold for XL size in the Set category.\n",
    "print(f\"Total Quantity Sold for XL Size in Set Category: {total_qty_xl_set}\")\n"
   ]
  },
  {
   "cell_type": "markdown",
   "id": "94121bed",
   "metadata": {
    "papermill": {
     "duration": 0.026904,
     "end_time": "2025-06-01T08:02:39.867042",
     "exception": false,
     "start_time": "2025-06-01T08:02:39.840138",
     "status": "completed"
    },
    "tags": []
   },
   "source": [
    "**Total Quantity Sold By M size**"
   ]
  },
  {
   "cell_type": "code",
   "execution_count": 74,
   "id": "b3a8c464",
   "metadata": {
    "execution": {
     "iopub.execute_input": "2025-06-01T08:02:39.922975Z",
     "iopub.status.busy": "2025-06-01T08:02:39.922190Z",
     "iopub.status.idle": "2025-06-01T08:02:39.955921Z",
     "shell.execute_reply": "2025-06-01T08:02:39.955024Z"
    },
    "papermill": {
     "duration": 0.062599,
     "end_time": "2025-06-01T08:02:39.957356",
     "exception": false,
     "start_time": "2025-06-01T08:02:39.894757",
     "status": "completed"
    },
    "tags": []
   },
   "outputs": [
    {
     "name": "stdout",
     "output_type": "stream",
     "text": [
      "Total Quantity Sold for M Size in Set Category: 8357\n"
     ]
    }
   ],
   "source": [
    "# Filter the DataFrame `df` to get rows where 'Category' is 'Set' and 'Size' is 'M'.\n",
    "m_size_set = df[(df['Category'] == 'Set') & (df['Size'] == 'M')]\n",
    "\n",
    "# Calculate the total quantity sold for M size in the Set category by summing the 'Quantity' column.\n",
    "total_qty_m_set = m_size_set['Quantity'].sum()\n",
    "\n",
    "# Print the total quantity sold for M size in the Set category.\n",
    "print(f\"Total Quantity Sold for M Size in Set Category: {total_qty_m_set}\")\n"
   ]
  },
  {
   "cell_type": "markdown",
   "id": "4891a128",
   "metadata": {
    "papermill": {
     "duration": 0.026851,
     "end_time": "2025-06-01T08:02:40.010482",
     "exception": false,
     "start_time": "2025-06-01T08:02:39.983631",
     "status": "completed"
    },
    "tags": []
   },
   "source": [
    "**Total Quantity Sold By S size**"
   ]
  },
  {
   "cell_type": "code",
   "execution_count": 75,
   "id": "f1a4cdbf",
   "metadata": {
    "execution": {
     "iopub.execute_input": "2025-06-01T08:02:40.065688Z",
     "iopub.status.busy": "2025-06-01T08:02:40.064856Z",
     "iopub.status.idle": "2025-06-01T08:02:40.107251Z",
     "shell.execute_reply": "2025-06-01T08:02:40.106213Z"
    },
    "papermill": {
     "duration": 0.070804,
     "end_time": "2025-06-01T08:02:40.108641",
     "exception": false,
     "start_time": "2025-06-01T08:02:40.037837",
     "status": "completed"
    },
    "tags": []
   },
   "outputs": [
    {
     "name": "stdout",
     "output_type": "stream",
     "text": [
      "Total Quantity Sold for S Size in Set Category: 6708\n"
     ]
    }
   ],
   "source": [
    "# Filter the DataFrame `df` to select rows where 'Category' is 'Set' and 'Size' is 'S'.\n",
    "s_size_set = df[(df['Category'] == 'Set') & (df['Size'] == 'S')]\n",
    "\n",
    "# Sum the 'Quantity' column for these filtered rows to get total quantity sold for S size in the Set category.\n",
    "total_qty_s_set = s_size_set['Quantity'].sum()\n",
    "\n",
    "# Print the total quantity sold for S size in the Set category.\n",
    "print(f\"Total Quantity Sold for S Size in Set Category: {total_qty_s_set}\")\n"
   ]
  },
  {
   "cell_type": "markdown",
   "id": "bea12e3d",
   "metadata": {
    "papermill": {
     "duration": 0.02837,
     "end_time": "2025-06-01T08:02:40.164065",
     "exception": false,
     "start_time": "2025-06-01T08:02:40.135695",
     "status": "completed"
    },
    "tags": []
   },
   "source": [
    "\n",
    "## 🎨 Visualizing Data Insights"
   ]
  },
  {
   "cell_type": "markdown",
   "id": "2ca81172",
   "metadata": {
    "papermill": {
     "duration": 0.0335,
     "end_time": "2025-06-01T08:02:40.224551",
     "exception": false,
     "start_time": "2025-06-01T08:02:40.191051",
     "status": "completed"
    },
    "tags": []
   },
   "source": [
    "**Weekly Trend**"
   ]
  },
  {
   "cell_type": "code",
   "execution_count": 76,
   "id": "12b01f2c",
   "metadata": {
    "execution": {
     "iopub.execute_input": "2025-06-01T08:02:40.280850Z",
     "iopub.status.busy": "2025-06-01T08:02:40.279937Z",
     "iopub.status.idle": "2025-06-01T08:02:40.715173Z",
     "shell.execute_reply": "2025-06-01T08:02:40.714139Z"
    },
    "papermill": {
     "duration": 0.46491,
     "end_time": "2025-06-01T08:02:40.716829",
     "exception": false,
     "start_time": "2025-06-01T08:02:40.251919",
     "status": "completed"
    },
    "tags": []
   },
   "outputs": [
    {
     "data": {
      "image/png": "[encoded data removed]",
      "text/plain": [
       "<Figure size 1000x500 with 1 Axes>"
      ]
     },
     "metadata": {},
     "output_type": "display_data"
    }
   ],
   "source": [
    "df['Weekday'] = df['Date'].dt.day_name()\n",
    "weekly_sales = df.groupby('Weekday')['Amount'].sum()\n",
    "ordered_days = ['Sunday', 'Monday', 'Tuesday', 'Wednesday', 'Thursday', 'Friday', 'Saturday']\n",
    "weekly_sales = weekly_sales.reindex(ordered_days)\n",
    "plt.figure(figsize=(10, 5))\n",
    "weekly_sales.plot(kind='line', marker='o', color='m')\n",
    "plt.title(\"Weekly Sales Trend (By Weekday)\")\n",
    "plt.xlabel(\"Day of the Week\")\n",
    "plt.ylabel(\"Total Sales\")\n",
    "plt.grid(True)\n",
    "plt.xticks(rotation=45)\n",
    "plt.show()\n"
   ]
  },
  {
   "cell_type": "markdown",
   "id": "0a1101d8",
   "metadata": {
    "papermill": {
     "duration": 0.028904,
     "end_time": "2025-06-01T08:02:40.775388",
     "exception": false,
     "start_time": "2025-06-01T08:02:40.746484",
     "status": "completed"
    },
    "tags": []
   },
   "source": [
    "> 📉 Notice how the trend dips on **Thursday**, but then bounces back strongly on **SUNDAY**! 🚀"
   ]
  },
  {
   "cell_type": "markdown",
   "id": "9d77b1a2",
   "metadata": {
    "papermill": {
     "duration": 0.028077,
     "end_time": "2025-06-01T08:02:40.832015",
     "exception": false,
     "start_time": "2025-06-01T08:02:40.803938",
     "status": "completed"
    },
    "tags": []
   },
   "source": [
    "**Total Revenue Over Time(Monthly)**"
   ]
  },
  {
   "cell_type": "code",
   "execution_count": 77,
   "id": "11d9c99a",
   "metadata": {
    "execution": {
     "iopub.execute_input": "2025-06-01T08:02:40.889641Z",
     "iopub.status.busy": "2025-06-01T08:02:40.889250Z",
     "iopub.status.idle": "2025-06-01T08:02:41.310117Z",
     "shell.execute_reply": "2025-06-01T08:02:41.309022Z"
    },
    "papermill": {
     "duration": 0.451658,
     "end_time": "2025-06-01T08:02:41.311686",
     "exception": false,
     "start_time": "2025-06-01T08:02:40.860028",
     "status": "completed"
    },
    "tags": []
   },
   "outputs": [
    {
     "data": {
      "image/png": "[encoded data removed]",
      "text/plain": [
       "<Figure size 1200x600 with 1 Axes>"
      ]
     },
     "metadata": {},
     "output_type": "display_data"
    }
   ],
   "source": [
    "plt.figure(figsize=(12, 6))\n",
    "monthly_revenue = df.resample('ME', on='Date')['Amount'].sum()\n",
    "monthly_revenue.plot(kind='line', marker='o', color='m')\n",
    "for i, value in enumerate(monthly_revenue):\n",
    "    plt.text(monthly_revenue.index[i], value + 1e6, f'{value:,.0f}', \n",
    "             fontsize=10, ha='center', va='bottom', color='black')\n",
    "\n",
    "plt.title('Total Revenue Over Time')\n",
    "plt.xlabel('Month')\n",
    "plt.ylabel('Revenue')\n",
    "plt.grid()\n",
    "plt.show()"
   ]
  },
  {
   "cell_type": "markdown",
   "id": "a200bbc5",
   "metadata": {
    "papermill": {
     "duration": 0.028803,
     "end_time": "2025-06-01T08:02:41.369620",
     "exception": false,
     "start_time": "2025-06-01T08:02:41.340817",
     "status": "completed"
    },
    "tags": []
   },
   "source": [
    "> 💰 The highest revenue is generated in **April** with a whopping ₹26,278,570, while the lowest revenue is seen in **March** at just ₹95,355. 📉"
   ]
  },
  {
   "cell_type": "markdown",
   "id": "42076115",
   "metadata": {
    "papermill": {
     "duration": 0.029825,
     "end_time": "2025-06-01T08:02:41.428974",
     "exception": false,
     "start_time": "2025-06-01T08:02:41.399149",
     "status": "completed"
    },
    "tags": []
   },
   "source": [
    "**Top 10 Performing Location**"
   ]
  },
  {
   "cell_type": "code",
   "execution_count": 78,
   "id": "1b45f43b",
   "metadata": {
    "execution": {
     "iopub.execute_input": "2025-06-01T08:02:41.489419Z",
     "iopub.status.busy": "2025-06-01T08:02:41.489113Z",
     "iopub.status.idle": "2025-06-01T08:02:41.753147Z",
     "shell.execute_reply": "2025-06-01T08:02:41.752282Z"
    },
    "papermill": {
     "duration": 0.295755,
     "end_time": "2025-06-01T08:02:41.754805",
     "exception": false,
     "start_time": "2025-06-01T08:02:41.459050",
     "status": "completed"
    },
    "tags": []
   },
   "outputs": [
    {
     "data": {
      "image/png": "[encoded data removed]",
      "text/plain": [
       "<Figure size 1200x500 with 1 Axes>"
      ]
     },
     "metadata": {},
     "output_type": "display_data"
    }
   ],
   "source": [
    "# Get top 10 locations by sales\n",
    "top_locations = df.groupby('City')['Amount'].sum().sort_values(ascending=False).head(10)\n",
    "\n",
    "# Sort values ascending for horizontal bar chart\n",
    "top_locations_sorted = top_locations.sort_values()\n",
    "\n",
    "plt.figure(figsize=(12, 5))\n",
    "\n",
    "# Create a colormap based on the number of bars\n",
    "cmap = plt.get_cmap('viridis')  # You can try 'plasma', 'coolwarm', etc.\n",
    "colors = cmap(np.linspace(0.3, 0.9, len(top_locations_sorted)))\n",
    "\n",
    "bars = plt.barh(top_locations_sorted.index, top_locations_sorted.values, color=colors)\n",
    "\n",
    "# Add values inside the bars (middle)\n",
    "for bar in bars:\n",
    "    width = bar.get_width()\n",
    "    plt.text(width / 2, bar.get_y() + bar.get_height() / 2, f'₹{width:,.0f}',\n",
    "             ha='center', va='center', color='white', fontsize=10, fontweight='bold')\n",
    "\n",
    "plt.title('Top Performing Locations by Sales')\n",
    "plt.xlabel('Amount')\n",
    "plt.ylabel('City')\n",
    "plt.tight_layout()\n",
    "plt.show()"
   ]
  },
  {
   "cell_type": "markdown",
   "id": "de555897",
   "metadata": {
    "papermill": {
     "duration": 0.031811,
     "end_time": "2025-06-01T08:02:41.819650",
     "exception": false,
     "start_time": "2025-06-01T08:02:41.787839",
     "status": "completed"
    },
    "tags": []
   },
   "source": [
    "> 🚀 Sales performance peaks in **Bangalore** with an impressive ₹6,366,354, while **Lucknow** records the lowest sales at around ₹850,481. 📉\n",
    " "
   ]
  },
  {
   "cell_type": "markdown",
   "id": "ddb9b941",
   "metadata": {
    "papermill": {
     "duration": 0.029888,
     "end_time": "2025-06-01T08:02:41.882342",
     "exception": false,
     "start_time": "2025-06-01T08:02:41.852454",
     "status": "completed"
    },
    "tags": []
   },
   "source": [
    "**Fullfilment Comparison**"
   ]
  },
  {
   "cell_type": "code",
   "execution_count": 79,
   "id": "93034a7b",
   "metadata": {
    "execution": {
     "iopub.execute_input": "2025-06-01T08:02:41.944384Z",
     "iopub.status.busy": "2025-06-01T08:02:41.943576Z",
     "iopub.status.idle": "2025-06-01T08:02:42.115432Z",
     "shell.execute_reply": "2025-06-01T08:02:42.114493Z"
    },
    "papermill": {
     "duration": 0.204125,
     "end_time": "2025-06-01T08:02:42.116893",
     "exception": false,
     "start_time": "2025-06-01T08:02:41.912768",
     "status": "completed"
    },
    "tags": []
   },
   "outputs": [
    {
     "data": {
      "image/png": "[encoded data removed]",
      "text/plain": [
       "<Figure size 800x500 with 1 Axes>"
      ]
     },
     "metadata": {},
     "output_type": "display_data"
    }
   ],
   "source": [
    "# Prepare figure\n",
    "plt.figure(figsize=(8, 5))\n",
    "\n",
    "# Create gradient colors based on number of bars\n",
    "cmap = plt.get_cmap('Blues')\n",
    "colors = cmap(np.linspace(0.4, 0.8, len(fulfillment_comparison)))\n",
    "\n",
    "# Plot bars individually to apply gradient colors\n",
    "bars = plt.bar(fulfillment_comparison.index, fulfillment_comparison.values, color=colors)\n",
    "\n",
    "plt.title('Amazon vs. Merchant Fulfillment')\n",
    "plt.ylabel('Total Revenue')\n",
    "plt.xlabel('Fulfilled By')\n",
    "\n",
    "# Add values inside bars near the top\n",
    "for bar in bars:\n",
    "    height = bar.get_height()\n",
    "    plt.text(bar.get_x() + bar.get_width()/2, height*0.85, f'₹{height:,.0f}',\n",
    "             ha='center', va='center', color='white', fontsize=11, fontweight='bold')\n",
    "\n",
    "plt.tight_layout()\n",
    "plt.show()"
   ]
  },
  {
   "cell_type": "markdown",
   "id": "0d632819",
   "metadata": {
    "papermill": {
     "duration": 0.031029,
     "end_time": "2025-06-01T08:02:42.247187",
     "exception": false,
     "start_time": "2025-06-01T08:02:42.216158",
     "status": "completed"
    },
    "tags": []
   },
   "source": [
    "> 🚀 **Amazon Easy Ship** is outperforming **Easy Ship** by a large margin!  \n",
    "> - Amazon Easy Ship Revenue: ₹50,689,744  \n",
    "> - Easy Ship Revenue: ₹21,082,084  \n",
    ">\n",
    "> This means **Easy Ship** is performing **59% less** compared to Amazon Easy Ship. 📉\n"
   ]
  },
  {
   "cell_type": "markdown",
   "id": "a9171d09",
   "metadata": {
    "papermill": {
     "duration": 0.030652,
     "end_time": "2025-06-01T08:02:42.308515",
     "exception": false,
     "start_time": "2025-06-01T08:02:42.277863",
     "status": "completed"
    },
    "tags": []
   },
   "source": [
    "**Over Status Breakdown**"
   ]
  },
  {
   "cell_type": "code",
   "execution_count": 80,
   "id": "58915ebf",
   "metadata": {
    "execution": {
     "iopub.execute_input": "2025-06-01T08:02:42.371979Z",
     "iopub.status.busy": "2025-06-01T08:02:42.371632Z",
     "iopub.status.idle": "2025-06-01T08:02:43.073998Z",
     "shell.execute_reply": "2025-06-01T08:02:43.073051Z"
    },
    "papermill": {
     "duration": 0.736106,
     "end_time": "2025-06-01T08:02:43.075630",
     "exception": false,
     "start_time": "2025-06-01T08:02:42.339524",
     "status": "completed"
    },
    "tags": []
   },
   "outputs": [
    {
     "data": {
      "image/png": "[encoded data removed]",
      "text/plain": [
       "<Figure size 1200x500 with 1 Axes>"
      ]
     },
     "metadata": {},
     "output_type": "display_data"
    }
   ],
   "source": [
    "# Sort the order status counts\n",
    "status_counts_sorted = order_status_counts.sort_values()\n",
    "\n",
    "# Convert index to strings to avoid TypeError\n",
    "x_labels = status_counts_sorted.index.astype(str)\n",
    "\n",
    "# Set up the gradient color map\n",
    "cmap = plt.get_cmap('viridis')\n",
    "colors = cmap(np.linspace(0.3, 0.9, len(status_counts_sorted)))\n",
    "\n",
    "# Plot the bar chart with gradient colors\n",
    "plt.figure(figsize=(12, 5))\n",
    "bars = plt.bar(x_labels, status_counts_sorted.values, color=colors, log=True)\n",
    "\n",
    "# Add text labels inside the bars\n",
    "for bar in bars:\n",
    "    height = bar.get_height()\n",
    "    plt.text(bar.get_x() + bar.get_width()/2, height/2, f'{int(height):,}', \n",
    "             ha='center', va='center', color='white', fontsize=9, rotation=90)\n",
    "\n",
    "# Titles and labels\n",
    "plt.title('Order Status Breakdown')\n",
    "plt.xlabel('Status')\n",
    "plt.ylabel('Order Count (Log Scale)')\n",
    "plt.xticks(rotation=45)\n",
    "plt.tight_layout()\n",
    "plt.show()"
   ]
  },
  {
   "cell_type": "markdown",
   "id": "77bd5757",
   "metadata": {
    "papermill": {
     "duration": 0.032007,
     "end_time": "2025-06-01T08:02:43.140136",
     "exception": false,
     "start_time": "2025-06-01T08:02:43.108129",
     "status": "completed"
    },
    "tags": []
   },
   "source": [
    "**High-Demand Product Categoiry**"
   ]
  },
  {
   "cell_type": "code",
   "execution_count": 81,
   "id": "3e60ca88",
   "metadata": {
    "execution": {
     "iopub.execute_input": "2025-06-01T08:02:43.205828Z",
     "iopub.status.busy": "2025-06-01T08:02:43.205517Z",
     "iopub.status.idle": "2025-06-01T08:02:43.454692Z",
     "shell.execute_reply": "2025-06-01T08:02:43.453713Z"
    },
    "papermill": {
     "duration": 0.28403,
     "end_time": "2025-06-01T08:02:43.456324",
     "exception": false,
     "start_time": "2025-06-01T08:02:43.172294",
     "status": "completed"
    },
    "tags": []
   },
   "outputs": [
    {
     "data": {
      "image/png": "[encoded data removed]",
      "text/plain": [
       "<Figure size 1200x600 with 1 Axes>"
      ]
     },
     "metadata": {},
     "output_type": "display_data"
    }
   ],
   "source": [
    "\n",
    "# Sort the categories in ascending order (lowest sales to highest)\n",
    "top_categories_sorted = top_categories.sort_values(ascending=True)\n",
    "\n",
    "# Use a violet (Purples) gradient color map\n",
    "cmap = plt.get_cmap('Purples')\n",
    "colors = cmap(np.linspace(0.4, 0.9, len(top_categories_sorted)))\n",
    "\n",
    "# Create the plot\n",
    "plt.figure(figsize=(12, 6))\n",
    "bars = plt.barh(top_categories_sorted.index, top_categories_sorted.values, color=colors)\n",
    "\n",
    "# Add value labels in the middle of each bar\n",
    "for bar in bars:\n",
    "    width = bar.get_width()\n",
    "    plt.text(width / 2, bar.get_y() + bar.get_height() / 2,\n",
    "             f'₹{int(width):,}', ha='center', va='center', color='white', fontsize=9)\n",
    "\n",
    "# Set titles and labels\n",
    "plt.title('Top 10 High-Demand Product Categories (Lowest to Highest)', fontsize=14)\n",
    "plt.xlabel('Revenue')\n",
    "plt.ylabel('Category')\n",
    "plt.tight_layout()\n",
    "plt.show()"
   ]
  },
  {
   "cell_type": "markdown",
   "id": "fa579597",
   "metadata": {
    "papermill": {
     "duration": 0.033217,
     "end_time": "2025-06-01T08:02:43.525509",
     "exception": false,
     "start_time": "2025-06-01T08:02:43.492292",
     "status": "completed"
    },
    "tags": []
   },
   "source": [
    "**High-Return & Calculation**"
   ]
  },
  {
   "cell_type": "code",
   "execution_count": 82,
   "id": "3bce2085",
   "metadata": {
    "execution": {
     "iopub.execute_input": "2025-06-01T08:02:43.594424Z",
     "iopub.status.busy": "2025-06-01T08:02:43.594120Z",
     "iopub.status.idle": "2025-06-01T08:02:43.805258Z",
     "shell.execute_reply": "2025-06-01T08:02:43.804191Z"
    },
    "papermill": {
     "duration": 0.247284,
     "end_time": "2025-06-01T08:02:43.806721",
     "exception": false,
     "start_time": "2025-06-01T08:02:43.559437",
     "status": "completed"
    },
    "tags": []
   },
   "outputs": [
    {
     "data": {
      "image/png": "[encoded data removed]",
      "text/plain": [
       "<Figure size 1200x500 with 1 Axes>"
      ]
     },
     "metadata": {},
     "output_type": "display_data"
    }
   ],
   "source": [
    "# Sort return rates for consistent display\n",
    "return_rates_sorted = return_rates.sort_values()\n",
    "\n",
    "# Prepare data\n",
    "x = np.arange(len(return_rates_sorted))\n",
    "y = return_rates_sorted.values\n",
    "labels = return_rates_sorted.index\n",
    "\n",
    "# Create the gradient using a red colormap\n",
    "cmap = plt.get_cmap(\"Reds\")\n",
    "colors = cmap(np.linspace(0.3, 0.9, len(x)))\n",
    "\n",
    "# Plot\n",
    "plt.figure(figsize=(12, 5))\n",
    "for i in range(len(x) - 1):\n",
    "    plt.fill_between(x[i:i+2], y[i:i+2], color=colors[i])\n",
    "\n",
    "# Line plot for better clarity\n",
    "plt.plot(x, y, color='darkred', linewidth=2)\n",
    "\n",
    "# Add labels and ticks\n",
    "plt.title('Top 5 High Return Products', fontsize=14)\n",
    "plt.xlabel('Category')\n",
    "plt.ylabel('Count')\n",
    "plt.xticks(x, labels, rotation=45)\n",
    "plt.tight_layout()\n",
    "plt.show()"
   ]
  },
  {
   "cell_type": "markdown",
   "id": "9773d66d",
   "metadata": {
    "papermill": {
     "duration": 0.034101,
     "end_time": "2025-06-01T08:02:43.876024",
     "exception": false,
     "start_time": "2025-06-01T08:02:43.841923",
     "status": "completed"
    },
    "tags": []
   },
   "source": [
    "**Order Cancelation Rate**"
   ]
  },
  {
   "cell_type": "code",
   "execution_count": 83,
   "id": "9170b489",
   "metadata": {
    "execution": {
     "iopub.execute_input": "2025-06-01T08:02:43.946870Z",
     "iopub.status.busy": "2025-06-01T08:02:43.946583Z",
     "iopub.status.idle": "2025-06-01T08:02:44.055748Z",
     "shell.execute_reply": "2025-06-01T08:02:44.054740Z"
    },
    "papermill": {
     "duration": 0.146708,
     "end_time": "2025-06-01T08:02:44.057371",
     "exception": false,
     "start_time": "2025-06-01T08:02:43.910663",
     "status": "completed"
    },
    "tags": []
   },
   "outputs": [
    {
     "data": {
      "image/png": "[encoded data removed]",
      "text/plain": [
       "<Figure size 500x500 with 1 Axes>"
      ]
     },
     "metadata": {},
     "output_type": "display_data"
    }
   ],
   "source": [
    "# Set the figure size to 5x5 inches\n",
    "plt.figure(figsize=(5, 5))\n",
    "\n",
    "# Plot a pie chart showing the cancellation rate vs completed orders\n",
    "# 'cancel_rate' is the percentage of cancelled orders\n",
    "# '100 - cancel_rate' represents completed orders\n",
    "# 'labels' names each slice, 'autopct' displays percentage, 'colors' sets slice colors\n",
    "plt.pie(\n",
    "    [cancel_rate, 100 - cancel_rate],          # Data for pie chart\n",
    "    labels=['Cancelled', 'Completed'],         # Labels for each section\n",
    "    autopct='%1.1f%%',                          # Format for percentage display\n",
    "    colors=['violet', 'grey']                   # Colors for slices\n",
    ")\n",
    "\n",
    "# Set the title of the chart\n",
    "plt.title('Order Cancellation Rate')\n",
    "\n",
    "# Display the chart\n",
    "plt.show()\n",
    "\n"
   ]
  },
  {
   "cell_type": "markdown",
   "id": "38c66d39",
   "metadata": {
    "papermill": {
     "duration": 0.034599,
     "end_time": "2025-06-01T08:02:44.127428",
     "exception": false,
     "start_time": "2025-06-01T08:02:44.092829",
     "status": "completed"
    },
    "tags": []
   },
   "source": [
    "**Probiematic Categaries**"
   ]
  },
  {
   "cell_type": "code",
   "execution_count": 84,
   "id": "76c84fb3",
   "metadata": {
    "execution": {
     "iopub.execute_input": "2025-06-01T08:02:44.198711Z",
     "iopub.status.busy": "2025-06-01T08:02:44.198442Z",
     "iopub.status.idle": "2025-06-01T08:02:44.404829Z",
     "shell.execute_reply": "2025-06-01T08:02:44.403973Z"
    },
    "papermill": {
     "duration": 0.244272,
     "end_time": "2025-06-01T08:02:44.406519",
     "exception": false,
     "start_time": "2025-06-01T08:02:44.162247",
     "status": "completed"
    },
    "tags": []
   },
   "outputs": [
    {
     "data": {
      "image/png": "[encoded data removed]",
      "text/plain": [
       "<Figure size 1000x500 with 1 Axes>"
      ]
     },
     "metadata": {},
     "output_type": "display_data"
    }
   ],
   "source": [
    "# Set the size of the figure (width=10, height=5 inches)\n",
    "plt.figure(figsize=(10, 5))\n",
    "\n",
    "# Create a scatter plot:\n",
    "# - x-axis: category names (problematic_categories.index)\n",
    "# - y-axis: issue count (problematic_categories.values)\n",
    "# - color: purple dots\n",
    "# - s=100 sets the size of the dots\n",
    "plt.scatter(problematic_categories.index, problematic_categories.values, color='red', s=100)\n",
    "\n",
    "# Set the title of the plot\n",
    "plt.title('Top 10 Problematic Categories')\n",
    "\n",
    "# Label for the x-axis\n",
    "plt.xlabel('Category')\n",
    "\n",
    "# Label for the y-axis\n",
    "plt.ylabel('Count')\n",
    "\n",
    "# Rotate x-axis labels for better readability\n",
    "plt.xticks(rotation=45)\n",
    "\n",
    "# Add gridlines for better visual clarity\n",
    "plt.grid()\n",
    "\n",
    "# Display the final plot\n",
    "plt.show()"
   ]
  },
  {
   "cell_type": "markdown",
   "id": "82261195",
   "metadata": {
    "papermill": {
     "duration": 0.036746,
     "end_time": "2025-06-01T08:02:44.479728",
     "exception": false,
     "start_time": "2025-06-01T08:02:44.442982",
     "status": "completed"
    },
    "tags": []
   },
   "source": [
    "## ✅ Conclusion & Strategic Recommendations\n",
    "\n",
    "The analysis of the order dataset offers valuable insights into financial performance, customer preferences, operational efficiency, and product-level demand. Below are the key findings and action plans:\n",
    "\n",
    "---\n",
    "\n",
    "### 📍 Top Sales Locations\n",
    "\n",
    "- Metro cities like **Bengaluru**, **Hyderabad**, **Mumbai**, and **New Delhi** consistently generate the highest revenue.\n",
    "- This sales concentration highlights the need to **optimize logistics and warehouse allocation** in these regions to meet growing demand.\n",
    "\n",
    "---\n",
    "\n",
    "### 📦 Order Fulfillment Performance\n",
    "\n",
    "- **Amazon Easy Ship** handles ~70% of orders, with **Merchant Easy Ship** managing the remaining 30%.\n",
    "- A comparative analysis of these methods is essential to identify **which offers better delivery timelines and customer satisfaction**.\n",
    "\n",
    "---\n",
    "\n",
    "### 🚚 Order Status Insights\n",
    "\n",
    "- A large volume of orders (77,763) remain **in transit**, potentially signaling shipping bottlenecks.\n",
    "- Additionally, **18,338 orders were canceled** and **1,953 returned**, pointing to fulfillment or quality-related concerns.\n",
    "\n",
    "---\n",
    "\n",
    "### ❌ Cancellation & Return Patterns\n",
    "\n",
    "- The overall **cancellation rate is 14.22%**, which may stem from shipping delays, unfulfilled inventory, or mismatched customer expectations.\n",
    "- SKUs like **JNE3797-KR-L**, **JNE3797-KR-M**, and **JNE3797-KR-S** show high return and cancellation rates—calling for a review of **product quality and listing accuracy**.\n",
    "\n",
    "---\n",
    "\n",
    "### 📊 B2B vs. B2C Analysis\n",
    "\n",
    "- While **B2C contributes higher total revenue**, **B2B orders exhibit a greater average order value (AOV)**: ₹698.23 vs. ₹645.56.\n",
    "- This creates an opportunity to **promote bulk discounts and tailored offerings for business customers**.\n",
    "\n",
    "---\n",
    "\n",
    "### 🧾 Average Order Value (AOV)\n",
    "\n",
    "- The overall **AOV is ₹692.01**, indicating moderate customer spending per order.\n",
    "- There’s potential to grow this metric via **cross-sell and upsell campaigns**—especially around high-demand SKUs.\n",
    "\n",
    "---\n",
    "\n",
    "### 🛍️ Product Demand & Inventory Efficiency\n",
    "\n",
    "- Product categories like **“Set”** and **“Kurta”** dominate in terms of order volume and revenue.\n",
    "- However, with an average **order quantity of 0.90**, most purchases consist of a single item—highlighting opportunities for **bundle promotions**.\n",
    "- Proactive inventory planning is crucial to **avoid stockouts of popular items**.\n",
    "\n",
    "---\n",
    "\n",
    "### 📆 Seasonal & Product-Level Revenue Trends\n",
    "\n",
    "- The SKU **JNE3797-KR-L** achieved the highest individual revenue (₹555,436.75), followed by **J0230-SKD-M** and **J0230-SKD-S**.\n",
    "- Recognizing seasonal sales patterns for such SKUs will enable smarter **marketing and restocking strategies**.\n",
    "\n",
    "---\n",
    "\n",
    "### 😊 Customer Experience & Product Feedback\n",
    "\n",
    "- High return rates for certain apparel categories (**Set**, **Kurta**, **Western Dress**) suggest the need for better **quality control, accurate sizing information, and improved descriptions**.\n",
    "\n",
    "---\n",
    "\n",
    "## 📝 Actionable Recommendations\n",
    "\n",
    "- **Streamline Fulfillment:** Improve last-mile delivery, track in-transit delays, and focus on faster dispatches.\n",
    "- **Enhance Product Listings:** Focus on SKUs with high returns to ensure product descriptions, sizing, and visuals are accurate.\n",
    "- **Optimize Inventory:** Increase stock for best-sellers while reducing overstock on low performers.\n",
    "- **Leverage B2B Potential:** Design targeted offers, bulk deals, and loyalty programs for business customers.\n",
    "- **Implement Upselling Strategies:** Use AOV data to encourage add-ons, combos, or exclusive product bundles.\n",
    "\n",
    "---\n",
    "\n",
    "## 🔍 Final Thoughts\n",
    "\n",
    "This end-to-end analysis highlights not just where revenue is generated but also where inefficiencies and growth opportunities lie. By acting on these insights, the business can **enhance customer satisfaction, reduce operational friction, and maximize profitability**. Continuous tracking, feedback loops, and adaptability will be essential for sustaining long-term success in the dynamic e-commerce landscape.\n"
   ]
  }
 ],
 "metadata": {
  "kaggle": {
   "accelerator": "none",
   "dataSources": [
    {
     "datasetId": 7533817,
     "sourceId": 11979468,
     "sourceType": "datasetVersion"
    }
   ],
   "dockerImageVersionId": 31040,
   "isGpuEnabled": false,
   "isInternetEnabled": true,
   "language": "python",
   "sourceType": "notebook"
  },
  "kernelspec": {
   "display_name": "Python 3",
   "language": "python",
   "name": "python3"
  },
  "language_info": {
   "codemirror_mode": {
    "name": "ipython",
    "version": 3
   },
   "file_extension": ".py",
   "mimetype": "text/x-python",
   "name": "python",
   "nbconvert_exporter": "python",
   "pygments_lexer": "ipython3",
   "version": "3.11.11"
  },
  "papermill": {
   "default_parameters": {},
   "duration": 25.359183,
   "end_time": "2025-06-01T08:02:45.237418",
   "environment_variables": {},
   "exception": null,
   "input_path": "__notebook__.ipynb",
   "output_path": "__notebook__.ipynb",
   "parameters": {},
   "start_time": "2025-06-01T08:02:19.878235",
   "version": "2.6.0"
  }
 },
 "nbformat": 4,
 "nbformat_minor": 5
}
